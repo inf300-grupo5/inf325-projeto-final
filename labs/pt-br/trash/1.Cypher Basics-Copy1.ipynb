{
 "cells": [
  {
   "cell_type": "markdown",
   "metadata": {},
   "source": [
    "# Interagindo com Neo4j usando Cypher"
   ]
  },
  {
   "cell_type": "markdown",
   "metadata": {},
   "source": [
    "## Conectando ao banco de dados e limpando a base (ignorar)"
   ]
  },
  {
   "cell_type": "code",
   "execution_count": 1,
   "metadata": {
    "tags": []
   },
   "outputs": [],
   "source": [
    "import sys; sys.path.insert(0, '../../resources/python/')\n",
    "from datasci4health.graphdrawer.visgraph import draw"
   ]
  },
  {
   "cell_type": "code",
   "execution_count": 1,
   "metadata": {
    "tags": []
   },
   "outputs": [
    {
     "name": "stdout",
     "output_type": "stream",
     "text": [
      "Number of nodes: 0 \n",
      "Number of relationships: 0 \n"
     ]
    }
   ],
   "source": [
    "from py2neo import Graph\n",
    "\n",
    "graph = Graph(\"bolt://127.0.0.1:7687\")\n",
    "graph.delete_all()\n",
    "\n",
    "print(\"Number of nodes: {} \".format(len(graph.nodes)))\n",
    "print(\"Number of relationships: {} \".format(len(graph.relationships)))"
   ]
  },
  {
   "cell_type": "markdown",
   "metadata": {},
   "source": [
    "## Usando uma extensão para fazer consultas Cypher \n",
    "\n",
    "Documentação:\n",
    "https://ipython-cypher.readthedocs.io/en/latest/introduction.html\n"
   ]
  },
  {
   "cell_type": "code",
   "execution_count": 6,
   "metadata": {
    "tags": []
   },
   "outputs": [
    {
     "name": "stdout",
     "output_type": "stream",
     "text": [
      "The graph_notebook.magics extension is already loaded. To reload it, use:\n",
      "  %reload_ext graph_notebook.magics\n"
     ]
    }
   ],
   "source": [
    "%load_ext graph_notebook.magics"
   ]
  },
  {
   "cell_type": "code",
   "execution_count": 15,
   "metadata": {
    "tags": []
   },
   "outputs": [
    {
     "name": "stdout",
     "output_type": "stream",
     "text": [
      "set notebook config to:\n",
      "{\n",
      "  \"host\": \"localhost\",\n",
      "  \"port\": 7687,\n",
      "  \"proxy_host\": \"\",\n",
      "  \"proxy_port\": 8182,\n",
      "  \"ssl\": false,\n",
      "  \"sparql\": {\n",
      "    \"path\": \"\"\n",
      "  },\n",
      "  \"gremlin\": {\n",
      "    \"traversal_source\": \"g\"\n",
      "  }\n",
      "}\n"
     ]
    },
    {
     "data": {
      "text/plain": [
       "<graph_notebook.configuration.generate_config.Configuration at 0x749e1affaec0>"
      ]
     },
     "execution_count": 15,
     "metadata": {},
     "output_type": "execute_result"
    }
   ],
   "source": [
    "%%graph_notebook_config\n",
    "{\n",
    "  \"host\": \"0.0.0.0\",\n",
    "  \"port\": 7687,\n",
    "  \"ssl\": false,\n",
    "  \"neo4j\": {\n",
    "    \"username\": \"neo4j\",\n",
    "    \"password\": \"password\",\n",
    "    \"auth\": false,\n",
    "    \"database\": \"\"\n",
    "  }\n",
    "}"
   ]
  },
  {
   "cell_type": "code",
   "execution_count": 16,
   "metadata": {
    "tags": []
   },
   "outputs": [
    {
     "data": {
      "application/vnd.jupyter.widget-view+json": {
       "model_id": "471df6c5381e4dac87742cd1dceccf89",
       "version_major": 2,
       "version_minor": 0
      },
      "text/plain": [
       "Tab(children=(Output(layout=Layout(overflow='scroll')),), selected_index=0, titles=('Error',))"
      ]
     },
     "metadata": {},
     "output_type": "display_data"
    }
   ],
   "source": [
    "%%opencypher\n",
    "CREATE (person1:Person {name:'Asdrubal'}),\n",
    "       (person2:Person {name:'Marcos'}   )\n",
    "return person1, person2"
   ]
  },
  {
   "cell_type": "markdown",
   "metadata": {},
   "source": [
    "### Criando nós e visualizando resultado"
   ]
  },
  {
   "cell_type": "code",
   "execution_count": 5,
   "metadata": {},
   "outputs": [
    {
     "name": "stdout",
     "output_type": "stream",
     "text": [
      "1 nodes created.\n",
      "3 properties set.\n",
      "1 labels added.\n"
     ]
    },
    {
     "data": {
      "text/html": [
       "\n",
       "        <iframe\n",
       "            width=\"100%\"\n",
       "            height=\"400\"\n",
       "            src=\"graphs/graph-ba19311a-567a-4204-9091-565ca498d868.html\"\n",
       "            frameborder=\"0\"\n",
       "            allowfullscreen\n",
       "        ></iframe>\n",
       "        "
      ],
      "text/plain": [
       "<IPython.lib.display.IFrame at 0x7fe393d4ea90>"
      ]
     },
     "execution_count": 5,
     "metadata": {},
     "output_type": "execute_result"
    }
   ],
   "source": [
    "%cypher CREATE (node1:TipoA {propriedade1:'valor1', propriedade2:'valor2', label:'meu primeiro nó'})       \n",
    "\n",
    "draw(graph, {}, physics=True)"
   ]
  },
  {
   "cell_type": "code",
   "execution_count": 6,
   "metadata": {},
   "outputs": [
    {
     "name": "stdout",
     "output_type": "stream",
     "text": [
      "1 nodes created.\n",
      "3 properties set.\n",
      "1 labels added.\n"
     ]
    },
    {
     "data": {
      "text/html": [
       "\n",
       "        <iframe\n",
       "            width=\"100%\"\n",
       "            height=\"400\"\n",
       "            src=\"graphs/graph-1ab10a9c-265c-4081-8387-e42dc1e7c923.html\"\n",
       "            frameborder=\"0\"\n",
       "            allowfullscreen\n",
       "        ></iframe>\n",
       "        "
      ],
      "text/plain": [
       "<IPython.lib.display.IFrame at 0x7fe3633ed110>"
      ]
     },
     "execution_count": 6,
     "metadata": {},
     "output_type": "execute_result"
    }
   ],
   "source": [
    "%cypher CREATE (node1:Pessoa {nome:'Fulano Silva', profissao:'Professor', label:'Prof. Fulano'})       \n",
    "\n",
    "draw(graph, {}, physics=True)"
   ]
  },
  {
   "cell_type": "code",
   "execution_count": 7,
   "metadata": {},
   "outputs": [
    {
     "name": "stdout",
     "output_type": "stream",
     "text": [
      "1 nodes created.\n",
      "3 properties set.\n",
      "1 labels added.\n"
     ]
    },
    {
     "data": {
      "text/html": [
       "\n",
       "        <iframe\n",
       "            width=\"100%\"\n",
       "            height=\"400\"\n",
       "            src=\"graphs/graph-0eb091b4-60d1-4048-87ea-573fba11d1a1.html\"\n",
       "            frameborder=\"0\"\n",
       "            allowfullscreen\n",
       "        ></iframe>\n",
       "        "
      ],
      "text/plain": [
       "<IPython.lib.display.IFrame at 0x7fe363b15d10>"
      ]
     },
     "execution_count": 7,
     "metadata": {},
     "output_type": "execute_result"
    }
   ],
   "source": [
    "%cypher CREATE (node1:Pessoa {nome:'Cicrano Junior', profissao:'Engenheiro de dados', label:'Eng. Cicrano'})       \n",
    "\n",
    "draw(graph, {}, physics=True)"
   ]
  },
  {
   "cell_type": "markdown",
   "metadata": {},
   "source": [
    "### Criando relacionamentos (Arestas)"
   ]
  },
  {
   "cell_type": "code",
   "execution_count": 8,
   "metadata": {},
   "outputs": [
    {
     "name": "stdout",
     "output_type": "stream",
     "text": [
      "2 nodes created.\n",
      "5 properties set.\n",
      "1 relationships created.\n",
      "2 labels added.\n"
     ]
    },
    {
     "data": {
      "text/html": [
       "\n",
       "        <iframe\n",
       "            width=\"100%\"\n",
       "            height=\"400\"\n",
       "            src=\"graphs/graph-2409176e-1551-410c-b2b6-b4d88cdb2990.html\"\n",
       "            frameborder=\"0\"\n",
       "            allowfullscreen\n",
       "        ></iframe>\n",
       "        "
      ],
      "text/plain": [
       "<IPython.lib.display.IFrame at 0x7fe3633ed590>"
      ]
     },
     "execution_count": 8,
     "metadata": {},
     "output_type": "execute_result"
    }
   ],
   "source": [
    "%cypher CREATE (person1:Pessoa {nome:'Matheus Mota', label:'Matheus'})-[:DEU_LIKE]->(movie1:Filme {titulo:'Django', ano:2009, label:'Django'})\n",
    "\n",
    "draw(graph, {}, physics=True)"
   ]
  },
  {
   "cell_type": "code",
   "execution_count": 9,
   "metadata": {},
   "outputs": [
    {
     "name": "stdout",
     "output_type": "stream",
     "text": [
      "2 nodes created.\n",
      "5 properties set.\n",
      "1 relationships created.\n",
      "2 labels added.\n"
     ]
    },
    {
     "data": {
      "text/html": [
       "\n",
       "        <iframe\n",
       "            width=\"100%\"\n",
       "            height=\"400\"\n",
       "            src=\"graphs/graph-fe36bcef-c214-4277-9743-06e6a019037c.html\"\n",
       "            frameborder=\"0\"\n",
       "            allowfullscreen\n",
       "        ></iframe>\n",
       "        "
      ],
      "text/plain": [
       "<IPython.lib.display.IFrame at 0x7fe36344d490>"
      ]
     },
     "execution_count": 9,
     "metadata": {},
     "output_type": "execute_result"
    }
   ],
   "source": [
    "%cypher CREATE (person1:Pessoa {nome:'Laura Lero', label:'Laura'})-[:DEU_DESLIKE]->(movie1:Filme {titulo:'The Matrix', ano:1999, label:'Matrix'})\n",
    "\n",
    "draw(graph, {}, physics=True)"
   ]
  },
  {
   "cell_type": "markdown",
   "metadata": {},
   "source": [
    "### Ligando dois nós já existentes"
   ]
  },
  {
   "cell_type": "code",
   "execution_count": 10,
   "metadata": {},
   "outputs": [
    {
     "name": "stdout",
     "output_type": "stream",
     "text": [
      "1 relationships created.\n"
     ]
    },
    {
     "data": {
      "text/html": [
       "<table>\n",
       "    <tr>\n",
       "    </tr>\n",
       "</table>"
      ],
      "text/plain": [
       "[]"
      ]
     },
     "execution_count": 10,
     "metadata": {},
     "output_type": "execute_result"
    }
   ],
   "source": [
    "%%cypher\n",
    "MATCH (node_pessoa:Pessoa), (node_filme:Filme)\n",
    "WHERE  node_pessoa.nome = 'Laura Lero' AND  node_filme.titulo = 'Django'\n",
    "CREATE (node_pessoa)-[:DEU_LIKE]->(node_filme)\n"
   ]
  },
  {
   "cell_type": "code",
   "execution_count": 11,
   "metadata": {},
   "outputs": [
    {
     "data": {
      "text/html": [
       "\n",
       "        <iframe\n",
       "            width=\"100%\"\n",
       "            height=\"400\"\n",
       "            src=\"graphs/graph-558e33d6-ea5f-4484-977b-fb47b20635a3.html\"\n",
       "            frameborder=\"0\"\n",
       "            allowfullscreen\n",
       "        ></iframe>\n",
       "        "
      ],
      "text/plain": [
       "<IPython.lib.display.IFrame at 0x7fe366419a90>"
      ]
     },
     "execution_count": 11,
     "metadata": {},
     "output_type": "execute_result"
    }
   ],
   "source": [
    "draw(graph, {}, physics=True)"
   ]
  },
  {
   "cell_type": "markdown",
   "metadata": {},
   "source": [
    "### Querying"
   ]
  },
  {
   "cell_type": "code",
   "execution_count": 12,
   "metadata": {},
   "outputs": [
    {
     "name": "stdout",
     "output_type": "stream",
     "text": [
      "2 rows affected.\n"
     ]
    },
    {
     "data": {
      "text/html": [
       "<table>\n",
       "    <tr>\n",
       "        <th>node_pessoa</th>\n",
       "        <th>node_filme</th>\n",
       "    </tr>\n",
       "    <tr>\n",
       "        <td>{&#x27;nome&#x27;: &#x27;Laura Lero&#x27;, &#x27;label&#x27;: &#x27;Laura&#x27;}</td>\n",
       "        <td>{&#x27;ano&#x27;: 2009, &#x27;titulo&#x27;: &#x27;Django&#x27;, &#x27;label&#x27;: &#x27;Django&#x27;}</td>\n",
       "    </tr>\n",
       "    <tr>\n",
       "        <td>{&#x27;nome&#x27;: &#x27;Matheus Mota&#x27;, &#x27;label&#x27;: &#x27;Matheus&#x27;}</td>\n",
       "        <td>{&#x27;ano&#x27;: 2009, &#x27;titulo&#x27;: &#x27;Django&#x27;, &#x27;label&#x27;: &#x27;Django&#x27;}</td>\n",
       "    </tr>\n",
       "</table>"
      ],
      "text/plain": [
       "[[{'nome': 'Laura Lero', 'label': 'Laura'},\n",
       "  {'ano': 2009, 'titulo': 'Django', 'label': 'Django'}],\n",
       " [{'nome': 'Matheus Mota', 'label': 'Matheus'},\n",
       "  {'ano': 2009, 'titulo': 'Django', 'label': 'Django'}]]"
      ]
     },
     "execution_count": 12,
     "metadata": {},
     "output_type": "execute_result"
    }
   ],
   "source": [
    "%%cypher\n",
    "MATCH (node_pessoa:Pessoa)-[:DEU_LIKE]->(node_filme:Filme)\n",
    "RETURN node_pessoa, node_filme"
   ]
  },
  {
   "cell_type": "code",
   "execution_count": 13,
   "metadata": {},
   "outputs": [
    {
     "name": "stdout",
     "output_type": "stream",
     "text": [
      "2 rows affected.\n"
     ]
    },
    {
     "data": {
      "text/html": [
       "<table>\n",
       "    <tr>\n",
       "        <th>nome_usuario</th>\n",
       "        <th>node_filme.titulo</th>\n",
       "    </tr>\n",
       "    <tr>\n",
       "        <td>Laura Lero</td>\n",
       "        <td>Django</td>\n",
       "    </tr>\n",
       "    <tr>\n",
       "        <td>Matheus Mota</td>\n",
       "        <td>Django</td>\n",
       "    </tr>\n",
       "</table>"
      ],
      "text/plain": [
       "[['Laura Lero', 'Django'], ['Matheus Mota', 'Django']]"
      ]
     },
     "execution_count": 13,
     "metadata": {},
     "output_type": "execute_result"
    }
   ],
   "source": [
    "%%cypher\n",
    "MATCH (node_pessoa:Pessoa)-[:DEU_LIKE]->(node_filme:Filme)\n",
    "WHERE  node_filme.titulo = 'Django'\n",
    "RETURN node_pessoa.nome as nome_usuario, node_filme.titulo"
   ]
  }
 ],
 "metadata": {
  "kernelspec": {
   "display_name": "Python 3",
   "language": "python",
   "name": "python3"
  },
  "language_info": {
   "codemirror_mode": {
    "name": "ipython",
    "version": 3
   },
   "file_extension": ".py",
   "mimetype": "text/x-python",
   "name": "python",
   "nbconvert_exporter": "python",
   "pygments_lexer": "ipython3",
   "version": "3.10.14"
  }
 },
 "nbformat": 4,
 "nbformat_minor": 4
}
