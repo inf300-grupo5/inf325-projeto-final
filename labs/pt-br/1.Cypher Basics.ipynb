{
 "cells": [
  {
   "cell_type": "markdown",
   "metadata": {},
   "source": [
    "# Interagindo com Neo4j usando Cypher"
   ]
  },
  {
   "cell_type": "markdown",
   "metadata": {
    "tags": []
   },
   "source": [
    "## Usando uma magic cell para fazer consultas\n"
   ]
  },
  {
   "cell_type": "code",
   "execution_count": 16,
   "metadata": {
    "tags": []
   },
   "outputs": [],
   "source": [
    "%reload_ext neo4j_cypher_query"
   ]
  },
  {
   "cell_type": "code",
   "execution_count": 17,
   "metadata": {
    "tags": []
   },
   "outputs": [
    {
     "name": "stdout",
     "output_type": "stream",
     "text": [
      "Contains updates: True\n",
      "Labels added: 2\n",
      "Nodes created: 2\n",
      "Properties set: 4\n",
      "Relationships created: 1\n"
     ]
    },
    {
     "data": {
      "text/html": [
       "\n",
       "        <iframe\n",
       "            width=\"100%\"\n",
       "            height=\"500\"\n",
       "            src=\"graphs/graph-3485157b-da45-4e98-ae65-9fb7258f1492.html\"\n",
       "            frameborder=\"0\"\n",
       "            allowfullscreen\n",
       "        ></iframe>\n",
       "        "
      ],
      "text/plain": [
       "<IPython.lib.display.IFrame at 0x7fe153dd4490>"
      ]
     },
     "metadata": {},
     "output_type": "display_data"
    }
   ],
   "source": [
    "%%cypher show full graph\n",
    "CREATE (n1:Pessoa {nome_completo:'Matheus Mota', primeiro_nome:'Matheus'})-[r1:DEU_LIKE]->(movie1:Filme {titulo:'Django', ano:2009})\n",
    "RETURN n1,r1,movie1"
   ]
  },
  {
   "cell_type": "code",
   "execution_count": 11,
   "metadata": {
    "tags": []
   },
   "outputs": [
    {
     "data": {
      "text/html": [
       "\n",
       "        <iframe\n",
       "            width=\"100%\"\n",
       "            height=\"400\"\n",
       "            src=\"graphs/graph-c987c8ac-934d-4efd-8b11-c3982cd85a01.html\"\n",
       "            frameborder=\"0\"\n",
       "            allowfullscreen\n",
       "        ></iframe>\n",
       "        "
      ],
      "text/plain": [
       "<IPython.lib.display.IFrame at 0x7fe14b2176a0>"
      ]
     },
     "metadata": {},
     "output_type": "display_data"
    }
   ],
   "source": [
    "%%cypher show full graph\n",
    "display"
   ]
  },
  {
   "cell_type": "code",
   "execution_count": 15,
   "metadata": {
    "tags": []
   },
   "outputs": [
    {
     "name": "stdout",
     "output_type": "stream",
     "text": [
      "Contains updates: True\n",
      "Labels added: 3\n",
      "Nodes created: 2\n",
      "Properties set: 2\n",
      "Relationships created: 1\n"
     ]
    },
    {
     "data": {
      "text/html": [
       "\n",
       "        <iframe\n",
       "            width=\"100%\"\n",
       "            height=\"400\"\n",
       "            src=\"graphs/graph-51e6b363-e066-4242-bac7-e7a4dbfc0064.html\"\n",
       "            frameborder=\"0\"\n",
       "            allowfullscreen\n",
       "        ></iframe>\n",
       "        "
      ],
      "text/plain": [
       "<IPython.lib.display.IFrame at 0x7fe150a829b0>"
      ]
     },
     "metadata": {},
     "output_type": "display_data"
    }
   ],
   "source": [
    "%%cypher show full graph\n",
    "CREATE (person1:Person:Teste {name:'Asdrubal'})-[r:conhece]->\n",
    "       (person2:Person {name:'Marcos'}   )\n",
    "return person1, person2,r"
   ]
  },
  {
   "cell_type": "markdown",
   "metadata": {},
   "source": [
    "### Criando nós e visualizando resultado"
   ]
  },
  {
   "cell_type": "code",
   "execution_count": 9,
   "metadata": {
    "tags": []
   },
   "outputs": [
    {
     "name": "stdout",
     "output_type": "stream",
     "text": [
      "Contains updates: True\n",
      "Labels added: 1\n",
      "Nodes created: 1\n",
      "Properties set: 3\n"
     ]
    },
    {
     "data": {
      "application/vnd.jupyter.widget-view+json": {
       "model_id": "525ad2e856954d0781055a589760c6af",
       "version_major": 2,
       "version_minor": 0
      },
      "text/plain": [
       "GraphWidget(layout=Layout(height='500px', width='100%'))"
      ]
     },
     "metadata": {},
     "output_type": "display_data"
    }
   ],
   "source": [
    "%%cypher graph\n",
    "CREATE (node1:TipoA {propriedade1:'valor1', propriedade2:'valor2', label:'meu primeiro nó'})       \n",
    "return node1"
   ]
  },
  {
   "cell_type": "code",
   "execution_count": 10,
   "metadata": {
    "tags": []
   },
   "outputs": [
    {
     "name": "stdout",
     "output_type": "stream",
     "text": [
      "Contains updates: True\n",
      "Labels added: 1\n",
      "Nodes created: 1\n",
      "Properties set: 3\n"
     ]
    },
    {
     "data": {
      "text/html": [
       "<div>\n",
       "<style scoped>\n",
       "    .dataframe tbody tr th:only-of-type {\n",
       "        vertical-align: middle;\n",
       "    }\n",
       "\n",
       "    .dataframe tbody tr th {\n",
       "        vertical-align: top;\n",
       "    }\n",
       "\n",
       "    .dataframe thead th {\n",
       "        text-align: right;\n",
       "    }\n",
       "</style>\n",
       "<table border=\"1\" class=\"dataframe\">\n",
       "  <thead>\n",
       "    <tr style=\"text-align: right;\">\n",
       "      <th></th>\n",
       "    </tr>\n",
       "  </thead>\n",
       "  <tbody>\n",
       "  </tbody>\n",
       "</table>\n",
       "</div>"
      ],
      "text/plain": [
       "Empty DataFrame\n",
       "Columns: []\n",
       "Index: []"
      ]
     },
     "metadata": {},
     "output_type": "display_data"
    }
   ],
   "source": [
    "%%cypher\n",
    "CREATE (node1:Pessoa {nome:'Fulano Silva', profissao:'Professor', label:'Prof. Fulano'})       "
   ]
  },
  {
   "cell_type": "code",
   "execution_count": 11,
   "metadata": {},
   "outputs": [
    {
     "name": "stdout",
     "output_type": "stream",
     "text": [
      "Contains updates: True\n",
      "Labels added: 1\n",
      "Nodes created: 1\n",
      "Properties set: 3\n"
     ]
    },
    {
     "data": {
      "text/html": [
       "<div>\n",
       "<style scoped>\n",
       "    .dataframe tbody tr th:only-of-type {\n",
       "        vertical-align: middle;\n",
       "    }\n",
       "\n",
       "    .dataframe tbody tr th {\n",
       "        vertical-align: top;\n",
       "    }\n",
       "\n",
       "    .dataframe thead th {\n",
       "        text-align: right;\n",
       "    }\n",
       "</style>\n",
       "<table border=\"1\" class=\"dataframe\">\n",
       "  <thead>\n",
       "    <tr style=\"text-align: right;\">\n",
       "      <th></th>\n",
       "    </tr>\n",
       "  </thead>\n",
       "  <tbody>\n",
       "  </tbody>\n",
       "</table>\n",
       "</div>"
      ],
      "text/plain": [
       "Empty DataFrame\n",
       "Columns: []\n",
       "Index: []"
      ]
     },
     "metadata": {},
     "output_type": "display_data"
    }
   ],
   "source": [
    "%%cypher\n",
    "CREATE (node1:Pessoa {nome:'Cicrano Junior', profissao:'Engenheiro de dados', label:'Eng. Cicrano'})       "
   ]
  },
  {
   "cell_type": "markdown",
   "metadata": {},
   "source": [
    "### Criando relacionamentos (Arestas)"
   ]
  },
  {
   "cell_type": "code",
   "execution_count": 12,
   "metadata": {},
   "outputs": [
    {
     "name": "stdout",
     "output_type": "stream",
     "text": [
      "Contains updates: True\n",
      "Labels added: 2\n",
      "Nodes created: 2\n",
      "Properties set: 5\n",
      "Relationships created: 1\n"
     ]
    },
    {
     "data": {
      "text/html": [
       "<div>\n",
       "<style scoped>\n",
       "    .dataframe tbody tr th:only-of-type {\n",
       "        vertical-align: middle;\n",
       "    }\n",
       "\n",
       "    .dataframe tbody tr th {\n",
       "        vertical-align: top;\n",
       "    }\n",
       "\n",
       "    .dataframe thead th {\n",
       "        text-align: right;\n",
       "    }\n",
       "</style>\n",
       "<table border=\"1\" class=\"dataframe\">\n",
       "  <thead>\n",
       "    <tr style=\"text-align: right;\">\n",
       "      <th></th>\n",
       "    </tr>\n",
       "  </thead>\n",
       "  <tbody>\n",
       "  </tbody>\n",
       "</table>\n",
       "</div>"
      ],
      "text/plain": [
       "Empty DataFrame\n",
       "Columns: []\n",
       "Index: []"
      ]
     },
     "metadata": {},
     "output_type": "display_data"
    }
   ],
   "source": [
    "%%cypher\n",
    "CREATE (person1:Pessoa {nome:'Matheus Mota', label:'Matheus'})-[:DEU_LIKE]->(movie1:Filme {titulo:'Django', ano:2009, label:'Django'})\n"
   ]
  },
  {
   "cell_type": "code",
   "execution_count": 13,
   "metadata": {},
   "outputs": [
    {
     "name": "stdout",
     "output_type": "stream",
     "text": [
      "Contains updates: True\n",
      "Labels added: 2\n",
      "Nodes created: 2\n",
      "Properties set: 5\n",
      "Relationships created: 1\n"
     ]
    },
    {
     "data": {
      "text/html": [
       "<div>\n",
       "<style scoped>\n",
       "    .dataframe tbody tr th:only-of-type {\n",
       "        vertical-align: middle;\n",
       "    }\n",
       "\n",
       "    .dataframe tbody tr th {\n",
       "        vertical-align: top;\n",
       "    }\n",
       "\n",
       "    .dataframe thead th {\n",
       "        text-align: right;\n",
       "    }\n",
       "</style>\n",
       "<table border=\"1\" class=\"dataframe\">\n",
       "  <thead>\n",
       "    <tr style=\"text-align: right;\">\n",
       "      <th></th>\n",
       "    </tr>\n",
       "  </thead>\n",
       "  <tbody>\n",
       "  </tbody>\n",
       "</table>\n",
       "</div>"
      ],
      "text/plain": [
       "Empty DataFrame\n",
       "Columns: []\n",
       "Index: []"
      ]
     },
     "metadata": {},
     "output_type": "display_data"
    }
   ],
   "source": [
    "%%cypher\n",
    "CREATE (person1:Pessoa {nome:'Laura Lero', label:'Laura'})-[:DEU_DESLIKE]->(movie1:Filme {titulo:'The Matrix', ano:1999, label:'Matrix'})"
   ]
  },
  {
   "cell_type": "markdown",
   "metadata": {},
   "source": [
    "### Ligando dois nós já existentes"
   ]
  },
  {
   "cell_type": "code",
   "execution_count": 14,
   "metadata": {
    "tags": []
   },
   "outputs": [
    {
     "name": "stdout",
     "output_type": "stream",
     "text": [
      "Contains updates: True\n",
      "Relationships created: 3\n"
     ]
    },
    {
     "data": {
      "text/html": [
       "<div>\n",
       "<style scoped>\n",
       "    .dataframe tbody tr th:only-of-type {\n",
       "        vertical-align: middle;\n",
       "    }\n",
       "\n",
       "    .dataframe tbody tr th {\n",
       "        vertical-align: top;\n",
       "    }\n",
       "\n",
       "    .dataframe thead th {\n",
       "        text-align: right;\n",
       "    }\n",
       "</style>\n",
       "<table border=\"1\" class=\"dataframe\">\n",
       "  <thead>\n",
       "    <tr style=\"text-align: right;\">\n",
       "      <th></th>\n",
       "      <th>node_pessoa</th>\n",
       "      <th>node_filme</th>\n",
       "      <th>r</th>\n",
       "    </tr>\n",
       "  </thead>\n",
       "  <tbody>\n",
       "    <tr>\n",
       "      <th>0</th>\n",
       "      <td>{'nome': 'Laura Lero', 'label': 'Laura'}</td>\n",
       "      <td>{'ano': 2009, 'titulo': 'Django'}</td>\n",
       "      <td>({'nome': 'Laura Lero', 'label': 'Laura'}, DEU_LIKE, {'ano': 2009, 'titulo': 'Django'})</td>\n",
       "    </tr>\n",
       "    <tr>\n",
       "      <th>1</th>\n",
       "      <td>{'nome': 'Laura Lero', 'label': 'Laura'}</td>\n",
       "      <td>{'ano': 2009, 'titulo': 'Django'}</td>\n",
       "      <td>({'nome': 'Laura Lero', 'label': 'Laura'}, DEU_LIKE, {'ano': 2009, 'titulo': 'Django'})</td>\n",
       "    </tr>\n",
       "    <tr>\n",
       "      <th>2</th>\n",
       "      <td>{'nome': 'Laura Lero', 'label': 'Laura'}</td>\n",
       "      <td>{'ano': 2009, 'titulo': 'Django', 'label': 'Django'}</td>\n",
       "      <td>({'nome': 'Laura Lero', 'label': 'Laura'}, DEU_LIKE, {'ano': 2009, 'titulo': 'Django', 'label': 'Django'})</td>\n",
       "    </tr>\n",
       "  </tbody>\n",
       "</table>\n",
       "</div>"
      ],
      "text/plain": [
       "                                node_pessoa  \\\n",
       "0  {'nome': 'Laura Lero', 'label': 'Laura'}   \n",
       "1  {'nome': 'Laura Lero', 'label': 'Laura'}   \n",
       "2  {'nome': 'Laura Lero', 'label': 'Laura'}   \n",
       "\n",
       "                                             node_filme  \\\n",
       "0                     {'ano': 2009, 'titulo': 'Django'}   \n",
       "1                     {'ano': 2009, 'titulo': 'Django'}   \n",
       "2  {'ano': 2009, 'titulo': 'Django', 'label': 'Django'}   \n",
       "\n",
       "                                                                                                            r  \n",
       "0                     ({'nome': 'Laura Lero', 'label': 'Laura'}, DEU_LIKE, {'ano': 2009, 'titulo': 'Django'})  \n",
       "1                     ({'nome': 'Laura Lero', 'label': 'Laura'}, DEU_LIKE, {'ano': 2009, 'titulo': 'Django'})  \n",
       "2  ({'nome': 'Laura Lero', 'label': 'Laura'}, DEU_LIKE, {'ano': 2009, 'titulo': 'Django', 'label': 'Django'})  "
      ]
     },
     "metadata": {},
     "output_type": "display_data"
    }
   ],
   "source": [
    "%%cypher\n",
    "MATCH (node_pessoa:Pessoa), (node_filme:Filme)\n",
    "WHERE  node_pessoa.nome = 'Laura Lero' AND  node_filme.titulo = 'Django'\n",
    "CREATE (node_pessoa)-[r:DEU_LIKE]->(node_filme)\n",
    "RETURN node_pessoa, node_filme, r"
   ]
  },
  {
   "cell_type": "markdown",
   "metadata": {},
   "source": [
    "### Querying"
   ]
  },
  {
   "cell_type": "code",
   "execution_count": 15,
   "metadata": {
    "tags": []
   },
   "outputs": [
    {
     "data": {
      "text/html": [
       "<div>\n",
       "<style scoped>\n",
       "    .dataframe tbody tr th:only-of-type {\n",
       "        vertical-align: middle;\n",
       "    }\n",
       "\n",
       "    .dataframe tbody tr th {\n",
       "        vertical-align: top;\n",
       "    }\n",
       "\n",
       "    .dataframe thead th {\n",
       "        text-align: right;\n",
       "    }\n",
       "</style>\n",
       "<table border=\"1\" class=\"dataframe\">\n",
       "  <thead>\n",
       "    <tr style=\"text-align: right;\">\n",
       "      <th></th>\n",
       "      <th>node_pessoa</th>\n",
       "      <th>node_filme</th>\n",
       "    </tr>\n",
       "  </thead>\n",
       "  <tbody>\n",
       "    <tr>\n",
       "      <th>0</th>\n",
       "      <td>{'primeiro_nome': 'Matheus', 'nome_completo': 'Matheus Mota'}</td>\n",
       "      <td>{'ano': 2009, 'titulo': 'Django'}</td>\n",
       "    </tr>\n",
       "    <tr>\n",
       "      <th>1</th>\n",
       "      <td>{'primeiro_nome': 'Matheus', 'nome_completo': 'Matheus Mota'}</td>\n",
       "      <td>{'ano': 2009, 'titulo': 'Django'}</td>\n",
       "    </tr>\n",
       "    <tr>\n",
       "      <th>2</th>\n",
       "      <td>{'nome': 'Matheus Mota', 'label': 'Matheus'}</td>\n",
       "      <td>{'ano': 2009, 'titulo': 'Django', 'label': 'Django'}</td>\n",
       "    </tr>\n",
       "    <tr>\n",
       "      <th>3</th>\n",
       "      <td>{'nome': 'Laura Lero', 'label': 'Laura'}</td>\n",
       "      <td>{'ano': 2009, 'titulo': 'Django'}</td>\n",
       "    </tr>\n",
       "    <tr>\n",
       "      <th>4</th>\n",
       "      <td>{'nome': 'Laura Lero', 'label': 'Laura'}</td>\n",
       "      <td>{'ano': 2009, 'titulo': 'Django'}</td>\n",
       "    </tr>\n",
       "    <tr>\n",
       "      <th>5</th>\n",
       "      <td>{'nome': 'Laura Lero', 'label': 'Laura'}</td>\n",
       "      <td>{'ano': 2009, 'titulo': 'Django', 'label': 'Django'}</td>\n",
       "    </tr>\n",
       "  </tbody>\n",
       "</table>\n",
       "</div>"
      ],
      "text/plain": [
       "                                                     node_pessoa  \\\n",
       "0  {'primeiro_nome': 'Matheus', 'nome_completo': 'Matheus Mota'}   \n",
       "1  {'primeiro_nome': 'Matheus', 'nome_completo': 'Matheus Mota'}   \n",
       "2                   {'nome': 'Matheus Mota', 'label': 'Matheus'}   \n",
       "3                       {'nome': 'Laura Lero', 'label': 'Laura'}   \n",
       "4                       {'nome': 'Laura Lero', 'label': 'Laura'}   \n",
       "5                       {'nome': 'Laura Lero', 'label': 'Laura'}   \n",
       "\n",
       "                                             node_filme  \n",
       "0                     {'ano': 2009, 'titulo': 'Django'}  \n",
       "1                     {'ano': 2009, 'titulo': 'Django'}  \n",
       "2  {'ano': 2009, 'titulo': 'Django', 'label': 'Django'}  \n",
       "3                     {'ano': 2009, 'titulo': 'Django'}  \n",
       "4                     {'ano': 2009, 'titulo': 'Django'}  \n",
       "5  {'ano': 2009, 'titulo': 'Django', 'label': 'Django'}  "
      ]
     },
     "metadata": {},
     "output_type": "display_data"
    }
   ],
   "source": [
    "%%cypher\n",
    "MATCH (node_pessoa:Pessoa)-[:DEU_LIKE]->(node_filme:Filme)\n",
    "RETURN node_pessoa, node_filme"
   ]
  },
  {
   "cell_type": "code",
   "execution_count": 16,
   "metadata": {
    "tags": []
   },
   "outputs": [
    {
     "data": {
      "text/html": [
       "<div>\n",
       "<style scoped>\n",
       "    .dataframe tbody tr th:only-of-type {\n",
       "        vertical-align: middle;\n",
       "    }\n",
       "\n",
       "    .dataframe tbody tr th {\n",
       "        vertical-align: top;\n",
       "    }\n",
       "\n",
       "    .dataframe thead th {\n",
       "        text-align: right;\n",
       "    }\n",
       "</style>\n",
       "<table border=\"1\" class=\"dataframe\">\n",
       "  <thead>\n",
       "    <tr style=\"text-align: right;\">\n",
       "      <th></th>\n",
       "      <th>nome_usuario</th>\n",
       "      <th>node_filme.titulo</th>\n",
       "    </tr>\n",
       "  </thead>\n",
       "  <tbody>\n",
       "    <tr>\n",
       "      <th>0</th>\n",
       "      <td>Laura Lero</td>\n",
       "      <td>Django</td>\n",
       "    </tr>\n",
       "    <tr>\n",
       "      <th>1</th>\n",
       "      <td>None</td>\n",
       "      <td>Django</td>\n",
       "    </tr>\n",
       "    <tr>\n",
       "      <th>2</th>\n",
       "      <td>Laura Lero</td>\n",
       "      <td>Django</td>\n",
       "    </tr>\n",
       "    <tr>\n",
       "      <th>3</th>\n",
       "      <td>None</td>\n",
       "      <td>Django</td>\n",
       "    </tr>\n",
       "    <tr>\n",
       "      <th>4</th>\n",
       "      <td>Laura Lero</td>\n",
       "      <td>Django</td>\n",
       "    </tr>\n",
       "    <tr>\n",
       "      <th>5</th>\n",
       "      <td>Matheus Mota</td>\n",
       "      <td>Django</td>\n",
       "    </tr>\n",
       "  </tbody>\n",
       "</table>\n",
       "</div>"
      ],
      "text/plain": [
       "   nome_usuario node_filme.titulo\n",
       "0    Laura Lero            Django\n",
       "1          None            Django\n",
       "2    Laura Lero            Django\n",
       "3          None            Django\n",
       "4    Laura Lero            Django\n",
       "5  Matheus Mota            Django"
      ]
     },
     "metadata": {},
     "output_type": "display_data"
    }
   ],
   "source": [
    "%%cypher\n",
    "MATCH (node_pessoa:Pessoa)-[:DEU_LIKE]->(node_filme:Filme)\n",
    "WHERE  node_filme.titulo = 'Django'\n",
    "RETURN node_pessoa.nome as nome_usuario, node_filme.titulo"
   ]
  }
 ],
 "metadata": {
  "kernelspec": {
   "display_name": "Python 3",
   "language": "python",
   "name": "python3"
  },
  "language_info": {
   "codemirror_mode": {
    "name": "ipython",
    "version": 3
   },
   "file_extension": ".py",
   "mimetype": "text/x-python",
   "name": "python",
   "nbconvert_exporter": "python",
   "pygments_lexer": "ipython3",
   "version": "3.10.14"
  }
 },
 "nbformat": 4,
 "nbformat_minor": 4
}
