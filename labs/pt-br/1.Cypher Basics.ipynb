{
 "cells": [
  {
   "cell_type": "markdown",
   "metadata": {},
   "source": [
    "# Interagindo com Neo4j usando Cypher"
   ]
  },
  {
   "cell_type": "markdown",
   "metadata": {
    "tags": []
   },
   "source": [
    "## Usando uma magic cell para fazer consultas\n"
   ]
  },
  {
   "cell_type": "code",
   "execution_count": 1,
   "metadata": {
    "tags": []
   },
   "outputs": [
    {
     "name": "stdout",
     "output_type": "stream",
     "text": [
      "Loading extensions from ~/.ipython/extensions is deprecated. We recommend managing extensions like any other Python packages, in site-packages.\n"
     ]
    }
   ],
   "source": [
    "%reload_ext neo4j_cypher_query"
   ]
  },
  {
   "cell_type": "code",
   "execution_count": 2,
   "metadata": {
    "tags": []
   },
   "outputs": [
    {
     "name": "stdout",
     "output_type": "stream",
     "text": [
      "Contains updates: True\n",
      "Labels added: 2\n",
      "Nodes created: 2\n",
      "Properties set: 4\n",
      "Relationships created: 1\n"
     ]
    },
    {
     "data": {
      "text/html": [
       "<div>\n",
       "<style scoped>\n",
       "    .dataframe tbody tr th:only-of-type {\n",
       "        vertical-align: middle;\n",
       "    }\n",
       "\n",
       "    .dataframe tbody tr th {\n",
       "        vertical-align: top;\n",
       "    }\n",
       "\n",
       "    .dataframe thead th {\n",
       "        text-align: right;\n",
       "    }\n",
       "</style>\n",
       "<table border=\"1\" class=\"dataframe\">\n",
       "  <thead>\n",
       "    <tr style=\"text-align: right;\">\n",
       "      <th></th>\n",
       "      <th>n1</th>\n",
       "      <th>r1</th>\n",
       "      <th>movie1</th>\n",
       "    </tr>\n",
       "  </thead>\n",
       "  <tbody>\n",
       "    <tr>\n",
       "      <th>0</th>\n",
       "      <td>{'primeiro_nome': 'Matheus', 'nome_completo': 'Matheus Mota'}</td>\n",
       "      <td>({'primeiro_nome': 'Matheus', 'nome_completo': 'Matheus Mota'}, DEU_LIKE, {'ano': 2009, 'titulo': 'Django'})</td>\n",
       "      <td>{'ano': 2009, 'titulo': 'Django'}</td>\n",
       "    </tr>\n",
       "  </tbody>\n",
       "</table>\n",
       "</div>"
      ],
      "text/plain": [
       "                                                              n1  \\\n",
       "0  {'primeiro_nome': 'Matheus', 'nome_completo': 'Matheus Mota'}   \n",
       "\n",
       "                                                                                                             r1  \\\n",
       "0  ({'primeiro_nome': 'Matheus', 'nome_completo': 'Matheus Mota'}, DEU_LIKE, {'ano': 2009, 'titulo': 'Django'})   \n",
       "\n",
       "                              movie1  \n",
       "0  {'ano': 2009, 'titulo': 'Django'}  "
      ]
     },
     "metadata": {},
     "output_type": "display_data"
    }
   ],
   "source": [
    "%%cypher\n",
    "CREATE (n1:Pessoa {nome_completo:'Matheus Mota', primeiro_nome:'Matheus'})-[r1:DEU_LIKE]->(movie1:Filme {titulo:'Django', ano:2009})\n",
    "RETURN n1,r1,movie1"
   ]
  },
  {
   "cell_type": "code",
   "execution_count": 3,
   "metadata": {
    "tags": []
   },
   "outputs": [],
   "source": [
    "# from yfiles_jupyter_graphs_for_neo4j import Neo4jGraphWidget\n",
    "# from neo4j import GraphDatabase\n",
    "# import pandas as pd\n",
    "# from yfiles_jupyter_graphs import GraphWidget\n",
    "# from IPython.core.magic import (register_line_magic,\n",
    "#                                 register_cell_magic)\n",
    "# pd.set_option('display.max_colwidth', None)\n",
    "\n",
    "# driver = GraphDatabase.driver(uri = \"neo4j://localhost\")\n",
    "# query_graph_result = driver.session().run(\"create (a)-[r:qqcoisa]->(b) return a\")"
   ]
  },
  {
   "cell_type": "code",
   "execution_count": 4,
   "metadata": {
    "tags": []
   },
   "outputs": [
    {
     "data": {
      "application/vnd.jupyter.widget-view+json": {
       "model_id": "dac9a30743444c3cb4dc1ebc94dc081d",
       "version_major": 2,
       "version_minor": 0
      },
      "text/plain": [
       "GraphWidget(layout=Layout(height='800px', width='100%'))"
      ]
     },
     "metadata": {},
     "output_type": "display_data"
    }
   ],
   "source": [
    "%%cypher graph\n",
    "match (a)-[r]-(b)\n",
    "return a,r,b"
   ]
  },
  {
   "cell_type": "code",
   "execution_count": 5,
   "metadata": {
    "tags": []
   },
   "outputs": [
    {
     "name": "stdout",
     "output_type": "stream",
     "text": [
      "Contains updates: True\n",
      "Labels added: 3\n",
      "Nodes created: 2\n",
      "Properties set: 2\n",
      "Relationships created: 1\n"
     ]
    },
    {
     "data": {
      "text/html": [
       "<div>\n",
       "<style scoped>\n",
       "    .dataframe tbody tr th:only-of-type {\n",
       "        vertical-align: middle;\n",
       "    }\n",
       "\n",
       "    .dataframe tbody tr th {\n",
       "        vertical-align: top;\n",
       "    }\n",
       "\n",
       "    .dataframe thead th {\n",
       "        text-align: right;\n",
       "    }\n",
       "</style>\n",
       "<table border=\"1\" class=\"dataframe\">\n",
       "  <thead>\n",
       "    <tr style=\"text-align: right;\">\n",
       "      <th></th>\n",
       "      <th>person1</th>\n",
       "      <th>person2</th>\n",
       "      <th>r</th>\n",
       "    </tr>\n",
       "  </thead>\n",
       "  <tbody>\n",
       "    <tr>\n",
       "      <th>0</th>\n",
       "      <td>{'name': 'Asdrubal'}</td>\n",
       "      <td>{'name': 'Marcos'}</td>\n",
       "      <td>({'name': 'Asdrubal'}, conhece, {'name': 'Marcos'})</td>\n",
       "    </tr>\n",
       "  </tbody>\n",
       "</table>\n",
       "</div>"
      ],
      "text/plain": [
       "                person1             person2  \\\n",
       "0  {'name': 'Asdrubal'}  {'name': 'Marcos'}   \n",
       "\n",
       "                                                     r  \n",
       "0  ({'name': 'Asdrubal'}, conhece, {'name': 'Marcos'})  "
      ]
     },
     "metadata": {},
     "output_type": "display_data"
    }
   ],
   "source": [
    "%%cypher\n",
    "CREATE (person1:Person:Teste {name:'Asdrubal'})-[r:conhece]->\n",
    "       (person2:Person {name:'Marcos'}   )\n",
    "return person1, person2,r"
   ]
  },
  {
   "cell_type": "markdown",
   "metadata": {},
   "source": [
    "### Criando nós e visualizando resultado"
   ]
  },
  {
   "cell_type": "code",
   "execution_count": 6,
   "metadata": {
    "tags": []
   },
   "outputs": [
    {
     "name": "stdout",
     "output_type": "stream",
     "text": [
      "Contains updates: True\n",
      "Labels added: 1\n",
      "Nodes created: 1\n",
      "Properties set: 3\n"
     ]
    },
    {
     "data": {
      "application/vnd.jupyter.widget-view+json": {
       "model_id": "e34eaa4c797a4d41abcd433cf1b82048",
       "version_major": 2,
       "version_minor": 0
      },
      "text/plain": [
       "GraphWidget(layout=Layout(height='500px', width='100%'))"
      ]
     },
     "metadata": {},
     "output_type": "display_data"
    }
   ],
   "source": [
    "%%cypher graph\n",
    "CREATE (node1:TipoA {propriedade1:'valor1', propriedade2:'valor2', label:'meu primeiro nó'})       \n",
    "return node1"
   ]
  },
  {
   "cell_type": "code",
   "execution_count": 7,
   "metadata": {
    "tags": []
   },
   "outputs": [
    {
     "name": "stdout",
     "output_type": "stream",
     "text": [
      "Contains updates: True\n",
      "Labels added: 1\n",
      "Nodes created: 1\n",
      "Properties set: 3\n"
     ]
    },
    {
     "data": {
      "text/html": [
       "<div>\n",
       "<style scoped>\n",
       "    .dataframe tbody tr th:only-of-type {\n",
       "        vertical-align: middle;\n",
       "    }\n",
       "\n",
       "    .dataframe tbody tr th {\n",
       "        vertical-align: top;\n",
       "    }\n",
       "\n",
       "    .dataframe thead th {\n",
       "        text-align: right;\n",
       "    }\n",
       "</style>\n",
       "<table border=\"1\" class=\"dataframe\">\n",
       "  <thead>\n",
       "    <tr style=\"text-align: right;\">\n",
       "      <th></th>\n",
       "    </tr>\n",
       "  </thead>\n",
       "  <tbody>\n",
       "  </tbody>\n",
       "</table>\n",
       "</div>"
      ],
      "text/plain": [
       "Empty DataFrame\n",
       "Columns: []\n",
       "Index: []"
      ]
     },
     "metadata": {},
     "output_type": "display_data"
    }
   ],
   "source": [
    "%%cypher\n",
    "CREATE (node1:Pessoa {nome:'Fulano Silva', profissao:'Professor', label:'Prof. Fulano'})       "
   ]
  },
  {
   "cell_type": "code",
   "execution_count": 8,
   "metadata": {},
   "outputs": [
    {
     "name": "stdout",
     "output_type": "stream",
     "text": [
      "Contains updates: True\n",
      "Labels added: 1\n",
      "Nodes created: 1\n",
      "Properties set: 3\n"
     ]
    },
    {
     "data": {
      "text/html": [
       "<div>\n",
       "<style scoped>\n",
       "    .dataframe tbody tr th:only-of-type {\n",
       "        vertical-align: middle;\n",
       "    }\n",
       "\n",
       "    .dataframe tbody tr th {\n",
       "        vertical-align: top;\n",
       "    }\n",
       "\n",
       "    .dataframe thead th {\n",
       "        text-align: right;\n",
       "    }\n",
       "</style>\n",
       "<table border=\"1\" class=\"dataframe\">\n",
       "  <thead>\n",
       "    <tr style=\"text-align: right;\">\n",
       "      <th></th>\n",
       "    </tr>\n",
       "  </thead>\n",
       "  <tbody>\n",
       "  </tbody>\n",
       "</table>\n",
       "</div>"
      ],
      "text/plain": [
       "Empty DataFrame\n",
       "Columns: []\n",
       "Index: []"
      ]
     },
     "metadata": {},
     "output_type": "display_data"
    }
   ],
   "source": [
    "%%cypher\n",
    "CREATE (node1:Pessoa {nome:'Cicrano Junior', profissao:'Engenheiro de dados', label:'Eng. Cicrano'})       "
   ]
  },
  {
   "cell_type": "markdown",
   "metadata": {},
   "source": [
    "### Criando relacionamentos (Arestas)"
   ]
  },
  {
   "cell_type": "code",
   "execution_count": 9,
   "metadata": {},
   "outputs": [
    {
     "name": "stdout",
     "output_type": "stream",
     "text": [
      "Contains updates: True\n",
      "Labels added: 2\n",
      "Nodes created: 2\n",
      "Properties set: 5\n",
      "Relationships created: 1\n"
     ]
    },
    {
     "data": {
      "text/html": [
       "<div>\n",
       "<style scoped>\n",
       "    .dataframe tbody tr th:only-of-type {\n",
       "        vertical-align: middle;\n",
       "    }\n",
       "\n",
       "    .dataframe tbody tr th {\n",
       "        vertical-align: top;\n",
       "    }\n",
       "\n",
       "    .dataframe thead th {\n",
       "        text-align: right;\n",
       "    }\n",
       "</style>\n",
       "<table border=\"1\" class=\"dataframe\">\n",
       "  <thead>\n",
       "    <tr style=\"text-align: right;\">\n",
       "      <th></th>\n",
       "    </tr>\n",
       "  </thead>\n",
       "  <tbody>\n",
       "  </tbody>\n",
       "</table>\n",
       "</div>"
      ],
      "text/plain": [
       "Empty DataFrame\n",
       "Columns: []\n",
       "Index: []"
      ]
     },
     "metadata": {},
     "output_type": "display_data"
    }
   ],
   "source": [
    "%%cypher\n",
    "CREATE (person1:Pessoa {nome:'Matheus Mota', label:'Matheus'})-[:DEU_LIKE]->(movie1:Filme {titulo:'Django', ano:2009, label:'Django'})\n"
   ]
  },
  {
   "cell_type": "code",
   "execution_count": 10,
   "metadata": {},
   "outputs": [
    {
     "name": "stdout",
     "output_type": "stream",
     "text": [
      "Contains updates: True\n",
      "Labels added: 2\n",
      "Nodes created: 2\n",
      "Properties set: 5\n",
      "Relationships created: 1\n"
     ]
    },
    {
     "data": {
      "text/html": [
       "<div>\n",
       "<style scoped>\n",
       "    .dataframe tbody tr th:only-of-type {\n",
       "        vertical-align: middle;\n",
       "    }\n",
       "\n",
       "    .dataframe tbody tr th {\n",
       "        vertical-align: top;\n",
       "    }\n",
       "\n",
       "    .dataframe thead th {\n",
       "        text-align: right;\n",
       "    }\n",
       "</style>\n",
       "<table border=\"1\" class=\"dataframe\">\n",
       "  <thead>\n",
       "    <tr style=\"text-align: right;\">\n",
       "      <th></th>\n",
       "    </tr>\n",
       "  </thead>\n",
       "  <tbody>\n",
       "  </tbody>\n",
       "</table>\n",
       "</div>"
      ],
      "text/plain": [
       "Empty DataFrame\n",
       "Columns: []\n",
       "Index: []"
      ]
     },
     "metadata": {},
     "output_type": "display_data"
    }
   ],
   "source": [
    "%%cypher\n",
    "CREATE (person1:Pessoa {nome:'Laura Lero', label:'Laura'})-[:DEU_DESLIKE]->(movie1:Filme {titulo:'The Matrix', ano:1999, label:'Matrix'})"
   ]
  },
  {
   "cell_type": "markdown",
   "metadata": {},
   "source": [
    "### Ligando dois nós já existentes"
   ]
  },
  {
   "cell_type": "code",
   "execution_count": 11,
   "metadata": {
    "tags": []
   },
   "outputs": [
    {
     "name": "stdout",
     "output_type": "stream",
     "text": [
      "Contains updates: True\n",
      "Relationships created: 15\n"
     ]
    },
    {
     "data": {
      "text/html": [
       "<div>\n",
       "<style scoped>\n",
       "    .dataframe tbody tr th:only-of-type {\n",
       "        vertical-align: middle;\n",
       "    }\n",
       "\n",
       "    .dataframe tbody tr th {\n",
       "        vertical-align: top;\n",
       "    }\n",
       "\n",
       "    .dataframe thead th {\n",
       "        text-align: right;\n",
       "    }\n",
       "</style>\n",
       "<table border=\"1\" class=\"dataframe\">\n",
       "  <thead>\n",
       "    <tr style=\"text-align: right;\">\n",
       "      <th></th>\n",
       "      <th>node_pessoa</th>\n",
       "      <th>node_filme</th>\n",
       "      <th>r</th>\n",
       "    </tr>\n",
       "  </thead>\n",
       "  <tbody>\n",
       "    <tr>\n",
       "      <th>0</th>\n",
       "      <td>{'nome': 'Laura Lero', 'label': 'Laura'}</td>\n",
       "      <td>{'ano': 2009, 'titulo': 'Django'}</td>\n",
       "      <td>({'nome': 'Laura Lero', 'label': 'Laura'}, DEU_LIKE, {'ano': 2009, 'titulo': 'Django'})</td>\n",
       "    </tr>\n",
       "    <tr>\n",
       "      <th>1</th>\n",
       "      <td>{'nome': 'Laura Lero', 'label': 'Laura'}</td>\n",
       "      <td>{'ano': 2009, 'titulo': 'Django'}</td>\n",
       "      <td>({'nome': 'Laura Lero', 'label': 'Laura'}, DEU_LIKE, {'ano': 2009, 'titulo': 'Django'})</td>\n",
       "    </tr>\n",
       "    <tr>\n",
       "      <th>2</th>\n",
       "      <td>{'nome': 'Laura Lero', 'label': 'Laura'}</td>\n",
       "      <td>{'ano': 2009, 'titulo': 'Django'}</td>\n",
       "      <td>({'nome': 'Laura Lero', 'label': 'Laura'}, DEU_LIKE, {'ano': 2009, 'titulo': 'Django'})</td>\n",
       "    </tr>\n",
       "    <tr>\n",
       "      <th>3</th>\n",
       "      <td>{'nome': 'Laura Lero', 'label': 'Laura'}</td>\n",
       "      <td>{'ano': 2009, 'titulo': 'Django'}</td>\n",
       "      <td>({'nome': 'Laura Lero', 'label': 'Laura'}, DEU_LIKE, {'ano': 2009, 'titulo': 'Django'})</td>\n",
       "    </tr>\n",
       "    <tr>\n",
       "      <th>4</th>\n",
       "      <td>{'nome': 'Laura Lero', 'label': 'Laura'}</td>\n",
       "      <td>{'ano': 2009, 'titulo': 'Django'}</td>\n",
       "      <td>({'nome': 'Laura Lero', 'label': 'Laura'}, DEU_LIKE, {'ano': 2009, 'titulo': 'Django'})</td>\n",
       "    </tr>\n",
       "    <tr>\n",
       "      <th>5</th>\n",
       "      <td>{'nome': 'Laura Lero', 'label': 'Laura'}</td>\n",
       "      <td>{'ano': 2009, 'titulo': 'Django'}</td>\n",
       "      <td>({'nome': 'Laura Lero', 'label': 'Laura'}, DEU_LIKE, {'ano': 2009, 'titulo': 'Django'})</td>\n",
       "    </tr>\n",
       "    <tr>\n",
       "      <th>6</th>\n",
       "      <td>{'nome': 'Laura Lero', 'label': 'Laura'}</td>\n",
       "      <td>{'ano': 2009, 'titulo': 'Django'}</td>\n",
       "      <td>({'nome': 'Laura Lero', 'label': 'Laura'}, DEU_LIKE, {'ano': 2009, 'titulo': 'Django'})</td>\n",
       "    </tr>\n",
       "    <tr>\n",
       "      <th>7</th>\n",
       "      <td>{'nome': 'Laura Lero', 'label': 'Laura'}</td>\n",
       "      <td>{'ano': 2009, 'titulo': 'Django'}</td>\n",
       "      <td>({'nome': 'Laura Lero', 'label': 'Laura'}, DEU_LIKE, {'ano': 2009, 'titulo': 'Django'})</td>\n",
       "    </tr>\n",
       "    <tr>\n",
       "      <th>8</th>\n",
       "      <td>{'nome': 'Laura Lero', 'label': 'Laura'}</td>\n",
       "      <td>{'ano': 2009, 'titulo': 'Django'}</td>\n",
       "      <td>({'nome': 'Laura Lero', 'label': 'Laura'}, DEU_LIKE, {'ano': 2009, 'titulo': 'Django'})</td>\n",
       "    </tr>\n",
       "    <tr>\n",
       "      <th>9</th>\n",
       "      <td>{'nome': 'Laura Lero', 'label': 'Laura'}</td>\n",
       "      <td>{'ano': 2009, 'titulo': 'Django'}</td>\n",
       "      <td>({'nome': 'Laura Lero', 'label': 'Laura'}, DEU_LIKE, {'ano': 2009, 'titulo': 'Django'})</td>\n",
       "    </tr>\n",
       "    <tr>\n",
       "      <th>10</th>\n",
       "      <td>{'nome': 'Laura Lero', 'label': 'Laura'}</td>\n",
       "      <td>{'ano': 2009, 'titulo': 'Django'}</td>\n",
       "      <td>({'nome': 'Laura Lero', 'label': 'Laura'}, DEU_LIKE, {'ano': 2009, 'titulo': 'Django'})</td>\n",
       "    </tr>\n",
       "    <tr>\n",
       "      <th>11</th>\n",
       "      <td>{'nome': 'Laura Lero', 'label': 'Laura'}</td>\n",
       "      <td>{'ano': 2009, 'titulo': 'Django'}</td>\n",
       "      <td>({'nome': 'Laura Lero', 'label': 'Laura'}, DEU_LIKE, {'ano': 2009, 'titulo': 'Django'})</td>\n",
       "    </tr>\n",
       "    <tr>\n",
       "      <th>12</th>\n",
       "      <td>{'nome': 'Laura Lero', 'label': 'Laura'}</td>\n",
       "      <td>{'ano': 2009, 'titulo': 'Django'}</td>\n",
       "      <td>({'nome': 'Laura Lero', 'label': 'Laura'}, DEU_LIKE, {'ano': 2009, 'titulo': 'Django'})</td>\n",
       "    </tr>\n",
       "    <tr>\n",
       "      <th>13</th>\n",
       "      <td>{'nome': 'Laura Lero', 'label': 'Laura'}</td>\n",
       "      <td>{'ano': 2009, 'titulo': 'Django'}</td>\n",
       "      <td>({'nome': 'Laura Lero', 'label': 'Laura'}, DEU_LIKE, {'ano': 2009, 'titulo': 'Django'})</td>\n",
       "    </tr>\n",
       "    <tr>\n",
       "      <th>14</th>\n",
       "      <td>{'nome': 'Laura Lero', 'label': 'Laura'}</td>\n",
       "      <td>{'ano': 2009, 'titulo': 'Django', 'label': 'Django'}</td>\n",
       "      <td>({'nome': 'Laura Lero', 'label': 'Laura'}, DEU_LIKE, {'ano': 2009, 'titulo': 'Django', 'label': 'Django'})</td>\n",
       "    </tr>\n",
       "  </tbody>\n",
       "</table>\n",
       "</div>"
      ],
      "text/plain": [
       "                                 node_pessoa  \\\n",
       "0   {'nome': 'Laura Lero', 'label': 'Laura'}   \n",
       "1   {'nome': 'Laura Lero', 'label': 'Laura'}   \n",
       "2   {'nome': 'Laura Lero', 'label': 'Laura'}   \n",
       "3   {'nome': 'Laura Lero', 'label': 'Laura'}   \n",
       "4   {'nome': 'Laura Lero', 'label': 'Laura'}   \n",
       "5   {'nome': 'Laura Lero', 'label': 'Laura'}   \n",
       "6   {'nome': 'Laura Lero', 'label': 'Laura'}   \n",
       "7   {'nome': 'Laura Lero', 'label': 'Laura'}   \n",
       "8   {'nome': 'Laura Lero', 'label': 'Laura'}   \n",
       "9   {'nome': 'Laura Lero', 'label': 'Laura'}   \n",
       "10  {'nome': 'Laura Lero', 'label': 'Laura'}   \n",
       "11  {'nome': 'Laura Lero', 'label': 'Laura'}   \n",
       "12  {'nome': 'Laura Lero', 'label': 'Laura'}   \n",
       "13  {'nome': 'Laura Lero', 'label': 'Laura'}   \n",
       "14  {'nome': 'Laura Lero', 'label': 'Laura'}   \n",
       "\n",
       "                                              node_filme  \\\n",
       "0                      {'ano': 2009, 'titulo': 'Django'}   \n",
       "1                      {'ano': 2009, 'titulo': 'Django'}   \n",
       "2                      {'ano': 2009, 'titulo': 'Django'}   \n",
       "3                      {'ano': 2009, 'titulo': 'Django'}   \n",
       "4                      {'ano': 2009, 'titulo': 'Django'}   \n",
       "5                      {'ano': 2009, 'titulo': 'Django'}   \n",
       "6                      {'ano': 2009, 'titulo': 'Django'}   \n",
       "7                      {'ano': 2009, 'titulo': 'Django'}   \n",
       "8                      {'ano': 2009, 'titulo': 'Django'}   \n",
       "9                      {'ano': 2009, 'titulo': 'Django'}   \n",
       "10                     {'ano': 2009, 'titulo': 'Django'}   \n",
       "11                     {'ano': 2009, 'titulo': 'Django'}   \n",
       "12                     {'ano': 2009, 'titulo': 'Django'}   \n",
       "13                     {'ano': 2009, 'titulo': 'Django'}   \n",
       "14  {'ano': 2009, 'titulo': 'Django', 'label': 'Django'}   \n",
       "\n",
       "                                                                                                             r  \n",
       "0                      ({'nome': 'Laura Lero', 'label': 'Laura'}, DEU_LIKE, {'ano': 2009, 'titulo': 'Django'})  \n",
       "1                      ({'nome': 'Laura Lero', 'label': 'Laura'}, DEU_LIKE, {'ano': 2009, 'titulo': 'Django'})  \n",
       "2                      ({'nome': 'Laura Lero', 'label': 'Laura'}, DEU_LIKE, {'ano': 2009, 'titulo': 'Django'})  \n",
       "3                      ({'nome': 'Laura Lero', 'label': 'Laura'}, DEU_LIKE, {'ano': 2009, 'titulo': 'Django'})  \n",
       "4                      ({'nome': 'Laura Lero', 'label': 'Laura'}, DEU_LIKE, {'ano': 2009, 'titulo': 'Django'})  \n",
       "5                      ({'nome': 'Laura Lero', 'label': 'Laura'}, DEU_LIKE, {'ano': 2009, 'titulo': 'Django'})  \n",
       "6                      ({'nome': 'Laura Lero', 'label': 'Laura'}, DEU_LIKE, {'ano': 2009, 'titulo': 'Django'})  \n",
       "7                      ({'nome': 'Laura Lero', 'label': 'Laura'}, DEU_LIKE, {'ano': 2009, 'titulo': 'Django'})  \n",
       "8                      ({'nome': 'Laura Lero', 'label': 'Laura'}, DEU_LIKE, {'ano': 2009, 'titulo': 'Django'})  \n",
       "9                      ({'nome': 'Laura Lero', 'label': 'Laura'}, DEU_LIKE, {'ano': 2009, 'titulo': 'Django'})  \n",
       "10                     ({'nome': 'Laura Lero', 'label': 'Laura'}, DEU_LIKE, {'ano': 2009, 'titulo': 'Django'})  \n",
       "11                     ({'nome': 'Laura Lero', 'label': 'Laura'}, DEU_LIKE, {'ano': 2009, 'titulo': 'Django'})  \n",
       "12                     ({'nome': 'Laura Lero', 'label': 'Laura'}, DEU_LIKE, {'ano': 2009, 'titulo': 'Django'})  \n",
       "13                     ({'nome': 'Laura Lero', 'label': 'Laura'}, DEU_LIKE, {'ano': 2009, 'titulo': 'Django'})  \n",
       "14  ({'nome': 'Laura Lero', 'label': 'Laura'}, DEU_LIKE, {'ano': 2009, 'titulo': 'Django', 'label': 'Django'})  "
      ]
     },
     "metadata": {},
     "output_type": "display_data"
    }
   ],
   "source": [
    "%%cypher\n",
    "MATCH (node_pessoa:Pessoa), (node_filme:Filme)\n",
    "WHERE  node_pessoa.nome = 'Laura Lero' AND  node_filme.titulo = 'Django'\n",
    "CREATE (node_pessoa)-[r:DEU_LIKE]->(node_filme)\n",
    "RETURN node_pessoa, node_filme, r"
   ]
  },
  {
   "cell_type": "markdown",
   "metadata": {},
   "source": [
    "### Querying"
   ]
  },
  {
   "cell_type": "code",
   "execution_count": 12,
   "metadata": {
    "tags": []
   },
   "outputs": [
    {
     "data": {
      "text/html": [
       "<div>\n",
       "<style scoped>\n",
       "    .dataframe tbody tr th:only-of-type {\n",
       "        vertical-align: middle;\n",
       "    }\n",
       "\n",
       "    .dataframe tbody tr th {\n",
       "        vertical-align: top;\n",
       "    }\n",
       "\n",
       "    .dataframe thead th {\n",
       "        text-align: right;\n",
       "    }\n",
       "</style>\n",
       "<table border=\"1\" class=\"dataframe\">\n",
       "  <thead>\n",
       "    <tr style=\"text-align: right;\">\n",
       "      <th></th>\n",
       "      <th>node_pessoa</th>\n",
       "      <th>node_filme</th>\n",
       "    </tr>\n",
       "  </thead>\n",
       "  <tbody>\n",
       "    <tr>\n",
       "      <th>0</th>\n",
       "      <td>{'nome': 'Laura Lero', 'label': 'Laura'}</td>\n",
       "      <td>{'ano': 2009, 'titulo': 'Django'}</td>\n",
       "    </tr>\n",
       "    <tr>\n",
       "      <th>1</th>\n",
       "      <td>{'primeiro_nome': 'Matheus', 'nome_completo': 'Matheus Mota'}</td>\n",
       "      <td>{'ano': 2009, 'titulo': 'Django'}</td>\n",
       "    </tr>\n",
       "    <tr>\n",
       "      <th>2</th>\n",
       "      <td>{'nome': 'Laura Lero', 'label': 'Laura'}</td>\n",
       "      <td>{'ano': 2009, 'titulo': 'Django'}</td>\n",
       "    </tr>\n",
       "    <tr>\n",
       "      <th>3</th>\n",
       "      <td>{'primeiro_nome': 'Matheus', 'nome_completo': 'Matheus Mota'}</td>\n",
       "      <td>{'ano': 2009, 'titulo': 'Django'}</td>\n",
       "    </tr>\n",
       "    <tr>\n",
       "      <th>4</th>\n",
       "      <td>{'nome': 'Laura Lero', 'label': 'Laura'}</td>\n",
       "      <td>{'ano': 2009, 'titulo': 'Django'}</td>\n",
       "    </tr>\n",
       "    <tr>\n",
       "      <th>5</th>\n",
       "      <td>{'primeiro_nome': 'Matheus', 'nome_completo': 'Matheus Mota'}</td>\n",
       "      <td>{'ano': 2009, 'titulo': 'Django'}</td>\n",
       "    </tr>\n",
       "    <tr>\n",
       "      <th>6</th>\n",
       "      <td>{'nome': 'Laura Lero', 'label': 'Laura'}</td>\n",
       "      <td>{'ano': 2009, 'titulo': 'Django'}</td>\n",
       "    </tr>\n",
       "    <tr>\n",
       "      <th>7</th>\n",
       "      <td>{'primeiro_nome': 'Matheus', 'nome_completo': 'Matheus Mota'}</td>\n",
       "      <td>{'ano': 2009, 'titulo': 'Django'}</td>\n",
       "    </tr>\n",
       "    <tr>\n",
       "      <th>8</th>\n",
       "      <td>{'nome': 'Laura Lero', 'label': 'Laura'}</td>\n",
       "      <td>{'ano': 2009, 'titulo': 'Django'}</td>\n",
       "    </tr>\n",
       "    <tr>\n",
       "      <th>9</th>\n",
       "      <td>{'primeiro_nome': 'Matheus', 'nome_completo': 'Matheus Mota'}</td>\n",
       "      <td>{'ano': 2009, 'titulo': 'Django'}</td>\n",
       "    </tr>\n",
       "    <tr>\n",
       "      <th>10</th>\n",
       "      <td>{'nome': 'Laura Lero', 'label': 'Laura'}</td>\n",
       "      <td>{'ano': 2009, 'titulo': 'Django'}</td>\n",
       "    </tr>\n",
       "    <tr>\n",
       "      <th>11</th>\n",
       "      <td>{'primeiro_nome': 'Matheus', 'nome_completo': 'Matheus Mota'}</td>\n",
       "      <td>{'ano': 2009, 'titulo': 'Django'}</td>\n",
       "    </tr>\n",
       "    <tr>\n",
       "      <th>12</th>\n",
       "      <td>{'nome': 'Laura Lero', 'label': 'Laura'}</td>\n",
       "      <td>{'ano': 2009, 'titulo': 'Django'}</td>\n",
       "    </tr>\n",
       "    <tr>\n",
       "      <th>13</th>\n",
       "      <td>{'primeiro_nome': 'Matheus', 'nome_completo': 'Matheus Mota'}</td>\n",
       "      <td>{'ano': 2009, 'titulo': 'Django'}</td>\n",
       "    </tr>\n",
       "    <tr>\n",
       "      <th>14</th>\n",
       "      <td>{'nome': 'Laura Lero', 'label': 'Laura'}</td>\n",
       "      <td>{'ano': 2009, 'titulo': 'Django'}</td>\n",
       "    </tr>\n",
       "    <tr>\n",
       "      <th>15</th>\n",
       "      <td>{'primeiro_nome': 'Matheus', 'nome_completo': 'Matheus Mota'}</td>\n",
       "      <td>{'ano': 2009, 'titulo': 'Django'}</td>\n",
       "    </tr>\n",
       "    <tr>\n",
       "      <th>16</th>\n",
       "      <td>{'nome': 'Laura Lero', 'label': 'Laura'}</td>\n",
       "      <td>{'ano': 2009, 'titulo': 'Django'}</td>\n",
       "    </tr>\n",
       "    <tr>\n",
       "      <th>17</th>\n",
       "      <td>{'primeiro_nome': 'Matheus', 'nome_completo': 'Matheus Mota'}</td>\n",
       "      <td>{'ano': 2009, 'titulo': 'Django'}</td>\n",
       "    </tr>\n",
       "    <tr>\n",
       "      <th>18</th>\n",
       "      <td>{'nome': 'Laura Lero', 'label': 'Laura'}</td>\n",
       "      <td>{'ano': 2009, 'titulo': 'Django'}</td>\n",
       "    </tr>\n",
       "    <tr>\n",
       "      <th>19</th>\n",
       "      <td>{'primeiro_nome': 'Matheus', 'nome_completo': 'Matheus Mota'}</td>\n",
       "      <td>{'ano': 2009, 'titulo': 'Django'}</td>\n",
       "    </tr>\n",
       "    <tr>\n",
       "      <th>20</th>\n",
       "      <td>{'nome': 'Laura Lero', 'label': 'Laura'}</td>\n",
       "      <td>{'ano': 2009, 'titulo': 'Django'}</td>\n",
       "    </tr>\n",
       "    <tr>\n",
       "      <th>21</th>\n",
       "      <td>{'primeiro_nome': 'Matheus', 'nome_completo': 'Matheus Mota'}</td>\n",
       "      <td>{'ano': 2009, 'titulo': 'Django'}</td>\n",
       "    </tr>\n",
       "    <tr>\n",
       "      <th>22</th>\n",
       "      <td>{'nome': 'Laura Lero', 'label': 'Laura'}</td>\n",
       "      <td>{'ano': 2009, 'titulo': 'Django'}</td>\n",
       "    </tr>\n",
       "    <tr>\n",
       "      <th>23</th>\n",
       "      <td>{'primeiro_nome': 'Matheus', 'nome_completo': 'Matheus Mota'}</td>\n",
       "      <td>{'ano': 2009, 'titulo': 'Django'}</td>\n",
       "    </tr>\n",
       "    <tr>\n",
       "      <th>24</th>\n",
       "      <td>{'nome': 'Laura Lero', 'label': 'Laura'}</td>\n",
       "      <td>{'ano': 2009, 'titulo': 'Django'}</td>\n",
       "    </tr>\n",
       "    <tr>\n",
       "      <th>25</th>\n",
       "      <td>{'primeiro_nome': 'Matheus', 'nome_completo': 'Matheus Mota'}</td>\n",
       "      <td>{'ano': 2009, 'titulo': 'Django'}</td>\n",
       "    </tr>\n",
       "    <tr>\n",
       "      <th>26</th>\n",
       "      <td>{'nome': 'Laura Lero', 'label': 'Laura'}</td>\n",
       "      <td>{'ano': 2009, 'titulo': 'Django'}</td>\n",
       "    </tr>\n",
       "    <tr>\n",
       "      <th>27</th>\n",
       "      <td>{'primeiro_nome': 'Matheus', 'nome_completo': 'Matheus Mota'}</td>\n",
       "      <td>{'ano': 2009, 'titulo': 'Django'}</td>\n",
       "    </tr>\n",
       "    <tr>\n",
       "      <th>28</th>\n",
       "      <td>{'nome': 'Laura Lero', 'label': 'Laura'}</td>\n",
       "      <td>{'ano': 2009, 'titulo': 'Django', 'label': 'Django'}</td>\n",
       "    </tr>\n",
       "    <tr>\n",
       "      <th>29</th>\n",
       "      <td>{'nome': 'Matheus Mota', 'label': 'Matheus'}</td>\n",
       "      <td>{'ano': 2009, 'titulo': 'Django', 'label': 'Django'}</td>\n",
       "    </tr>\n",
       "  </tbody>\n",
       "</table>\n",
       "</div>"
      ],
      "text/plain": [
       "                                                      node_pessoa  \\\n",
       "0                        {'nome': 'Laura Lero', 'label': 'Laura'}   \n",
       "1   {'primeiro_nome': 'Matheus', 'nome_completo': 'Matheus Mota'}   \n",
       "2                        {'nome': 'Laura Lero', 'label': 'Laura'}   \n",
       "3   {'primeiro_nome': 'Matheus', 'nome_completo': 'Matheus Mota'}   \n",
       "4                        {'nome': 'Laura Lero', 'label': 'Laura'}   \n",
       "5   {'primeiro_nome': 'Matheus', 'nome_completo': 'Matheus Mota'}   \n",
       "6                        {'nome': 'Laura Lero', 'label': 'Laura'}   \n",
       "7   {'primeiro_nome': 'Matheus', 'nome_completo': 'Matheus Mota'}   \n",
       "8                        {'nome': 'Laura Lero', 'label': 'Laura'}   \n",
       "9   {'primeiro_nome': 'Matheus', 'nome_completo': 'Matheus Mota'}   \n",
       "10                       {'nome': 'Laura Lero', 'label': 'Laura'}   \n",
       "11  {'primeiro_nome': 'Matheus', 'nome_completo': 'Matheus Mota'}   \n",
       "12                       {'nome': 'Laura Lero', 'label': 'Laura'}   \n",
       "13  {'primeiro_nome': 'Matheus', 'nome_completo': 'Matheus Mota'}   \n",
       "14                       {'nome': 'Laura Lero', 'label': 'Laura'}   \n",
       "15  {'primeiro_nome': 'Matheus', 'nome_completo': 'Matheus Mota'}   \n",
       "16                       {'nome': 'Laura Lero', 'label': 'Laura'}   \n",
       "17  {'primeiro_nome': 'Matheus', 'nome_completo': 'Matheus Mota'}   \n",
       "18                       {'nome': 'Laura Lero', 'label': 'Laura'}   \n",
       "19  {'primeiro_nome': 'Matheus', 'nome_completo': 'Matheus Mota'}   \n",
       "20                       {'nome': 'Laura Lero', 'label': 'Laura'}   \n",
       "21  {'primeiro_nome': 'Matheus', 'nome_completo': 'Matheus Mota'}   \n",
       "22                       {'nome': 'Laura Lero', 'label': 'Laura'}   \n",
       "23  {'primeiro_nome': 'Matheus', 'nome_completo': 'Matheus Mota'}   \n",
       "24                       {'nome': 'Laura Lero', 'label': 'Laura'}   \n",
       "25  {'primeiro_nome': 'Matheus', 'nome_completo': 'Matheus Mota'}   \n",
       "26                       {'nome': 'Laura Lero', 'label': 'Laura'}   \n",
       "27  {'primeiro_nome': 'Matheus', 'nome_completo': 'Matheus Mota'}   \n",
       "28                       {'nome': 'Laura Lero', 'label': 'Laura'}   \n",
       "29                   {'nome': 'Matheus Mota', 'label': 'Matheus'}   \n",
       "\n",
       "                                              node_filme  \n",
       "0                      {'ano': 2009, 'titulo': 'Django'}  \n",
       "1                      {'ano': 2009, 'titulo': 'Django'}  \n",
       "2                      {'ano': 2009, 'titulo': 'Django'}  \n",
       "3                      {'ano': 2009, 'titulo': 'Django'}  \n",
       "4                      {'ano': 2009, 'titulo': 'Django'}  \n",
       "5                      {'ano': 2009, 'titulo': 'Django'}  \n",
       "6                      {'ano': 2009, 'titulo': 'Django'}  \n",
       "7                      {'ano': 2009, 'titulo': 'Django'}  \n",
       "8                      {'ano': 2009, 'titulo': 'Django'}  \n",
       "9                      {'ano': 2009, 'titulo': 'Django'}  \n",
       "10                     {'ano': 2009, 'titulo': 'Django'}  \n",
       "11                     {'ano': 2009, 'titulo': 'Django'}  \n",
       "12                     {'ano': 2009, 'titulo': 'Django'}  \n",
       "13                     {'ano': 2009, 'titulo': 'Django'}  \n",
       "14                     {'ano': 2009, 'titulo': 'Django'}  \n",
       "15                     {'ano': 2009, 'titulo': 'Django'}  \n",
       "16                     {'ano': 2009, 'titulo': 'Django'}  \n",
       "17                     {'ano': 2009, 'titulo': 'Django'}  \n",
       "18                     {'ano': 2009, 'titulo': 'Django'}  \n",
       "19                     {'ano': 2009, 'titulo': 'Django'}  \n",
       "20                     {'ano': 2009, 'titulo': 'Django'}  \n",
       "21                     {'ano': 2009, 'titulo': 'Django'}  \n",
       "22                     {'ano': 2009, 'titulo': 'Django'}  \n",
       "23                     {'ano': 2009, 'titulo': 'Django'}  \n",
       "24                     {'ano': 2009, 'titulo': 'Django'}  \n",
       "25                     {'ano': 2009, 'titulo': 'Django'}  \n",
       "26                     {'ano': 2009, 'titulo': 'Django'}  \n",
       "27                     {'ano': 2009, 'titulo': 'Django'}  \n",
       "28  {'ano': 2009, 'titulo': 'Django', 'label': 'Django'}  \n",
       "29  {'ano': 2009, 'titulo': 'Django', 'label': 'Django'}  "
      ]
     },
     "metadata": {},
     "output_type": "display_data"
    }
   ],
   "source": [
    "%%cypher\n",
    "MATCH (node_pessoa:Pessoa)-[:DEU_LIKE]->(node_filme:Filme)\n",
    "RETURN node_pessoa, node_filme"
   ]
  },
  {
   "cell_type": "code",
   "execution_count": 13,
   "metadata": {
    "tags": []
   },
   "outputs": [
    {
     "data": {
      "text/html": [
       "<div>\n",
       "<style scoped>\n",
       "    .dataframe tbody tr th:only-of-type {\n",
       "        vertical-align: middle;\n",
       "    }\n",
       "\n",
       "    .dataframe tbody tr th {\n",
       "        vertical-align: top;\n",
       "    }\n",
       "\n",
       "    .dataframe thead th {\n",
       "        text-align: right;\n",
       "    }\n",
       "</style>\n",
       "<table border=\"1\" class=\"dataframe\">\n",
       "  <thead>\n",
       "    <tr style=\"text-align: right;\">\n",
       "      <th></th>\n",
       "      <th>nome_usuario</th>\n",
       "      <th>node_filme.titulo</th>\n",
       "    </tr>\n",
       "  </thead>\n",
       "  <tbody>\n",
       "    <tr>\n",
       "      <th>0</th>\n",
       "      <td>Laura Lero</td>\n",
       "      <td>Django</td>\n",
       "    </tr>\n",
       "    <tr>\n",
       "      <th>1</th>\n",
       "      <td>None</td>\n",
       "      <td>Django</td>\n",
       "    </tr>\n",
       "    <tr>\n",
       "      <th>2</th>\n",
       "      <td>Laura Lero</td>\n",
       "      <td>Django</td>\n",
       "    </tr>\n",
       "    <tr>\n",
       "      <th>3</th>\n",
       "      <td>None</td>\n",
       "      <td>Django</td>\n",
       "    </tr>\n",
       "    <tr>\n",
       "      <th>4</th>\n",
       "      <td>Laura Lero</td>\n",
       "      <td>Django</td>\n",
       "    </tr>\n",
       "    <tr>\n",
       "      <th>5</th>\n",
       "      <td>None</td>\n",
       "      <td>Django</td>\n",
       "    </tr>\n",
       "    <tr>\n",
       "      <th>6</th>\n",
       "      <td>Laura Lero</td>\n",
       "      <td>Django</td>\n",
       "    </tr>\n",
       "    <tr>\n",
       "      <th>7</th>\n",
       "      <td>None</td>\n",
       "      <td>Django</td>\n",
       "    </tr>\n",
       "    <tr>\n",
       "      <th>8</th>\n",
       "      <td>Laura Lero</td>\n",
       "      <td>Django</td>\n",
       "    </tr>\n",
       "    <tr>\n",
       "      <th>9</th>\n",
       "      <td>None</td>\n",
       "      <td>Django</td>\n",
       "    </tr>\n",
       "    <tr>\n",
       "      <th>10</th>\n",
       "      <td>Laura Lero</td>\n",
       "      <td>Django</td>\n",
       "    </tr>\n",
       "    <tr>\n",
       "      <th>11</th>\n",
       "      <td>None</td>\n",
       "      <td>Django</td>\n",
       "    </tr>\n",
       "    <tr>\n",
       "      <th>12</th>\n",
       "      <td>Laura Lero</td>\n",
       "      <td>Django</td>\n",
       "    </tr>\n",
       "    <tr>\n",
       "      <th>13</th>\n",
       "      <td>None</td>\n",
       "      <td>Django</td>\n",
       "    </tr>\n",
       "    <tr>\n",
       "      <th>14</th>\n",
       "      <td>Laura Lero</td>\n",
       "      <td>Django</td>\n",
       "    </tr>\n",
       "    <tr>\n",
       "      <th>15</th>\n",
       "      <td>None</td>\n",
       "      <td>Django</td>\n",
       "    </tr>\n",
       "    <tr>\n",
       "      <th>16</th>\n",
       "      <td>Laura Lero</td>\n",
       "      <td>Django</td>\n",
       "    </tr>\n",
       "    <tr>\n",
       "      <th>17</th>\n",
       "      <td>None</td>\n",
       "      <td>Django</td>\n",
       "    </tr>\n",
       "    <tr>\n",
       "      <th>18</th>\n",
       "      <td>Laura Lero</td>\n",
       "      <td>Django</td>\n",
       "    </tr>\n",
       "    <tr>\n",
       "      <th>19</th>\n",
       "      <td>None</td>\n",
       "      <td>Django</td>\n",
       "    </tr>\n",
       "    <tr>\n",
       "      <th>20</th>\n",
       "      <td>Laura Lero</td>\n",
       "      <td>Django</td>\n",
       "    </tr>\n",
       "    <tr>\n",
       "      <th>21</th>\n",
       "      <td>None</td>\n",
       "      <td>Django</td>\n",
       "    </tr>\n",
       "    <tr>\n",
       "      <th>22</th>\n",
       "      <td>Laura Lero</td>\n",
       "      <td>Django</td>\n",
       "    </tr>\n",
       "    <tr>\n",
       "      <th>23</th>\n",
       "      <td>None</td>\n",
       "      <td>Django</td>\n",
       "    </tr>\n",
       "    <tr>\n",
       "      <th>24</th>\n",
       "      <td>Laura Lero</td>\n",
       "      <td>Django</td>\n",
       "    </tr>\n",
       "    <tr>\n",
       "      <th>25</th>\n",
       "      <td>None</td>\n",
       "      <td>Django</td>\n",
       "    </tr>\n",
       "    <tr>\n",
       "      <th>26</th>\n",
       "      <td>Laura Lero</td>\n",
       "      <td>Django</td>\n",
       "    </tr>\n",
       "    <tr>\n",
       "      <th>27</th>\n",
       "      <td>None</td>\n",
       "      <td>Django</td>\n",
       "    </tr>\n",
       "    <tr>\n",
       "      <th>28</th>\n",
       "      <td>Laura Lero</td>\n",
       "      <td>Django</td>\n",
       "    </tr>\n",
       "    <tr>\n",
       "      <th>29</th>\n",
       "      <td>Matheus Mota</td>\n",
       "      <td>Django</td>\n",
       "    </tr>\n",
       "  </tbody>\n",
       "</table>\n",
       "</div>"
      ],
      "text/plain": [
       "    nome_usuario node_filme.titulo\n",
       "0     Laura Lero            Django\n",
       "1           None            Django\n",
       "2     Laura Lero            Django\n",
       "3           None            Django\n",
       "4     Laura Lero            Django\n",
       "5           None            Django\n",
       "6     Laura Lero            Django\n",
       "7           None            Django\n",
       "8     Laura Lero            Django\n",
       "9           None            Django\n",
       "10    Laura Lero            Django\n",
       "11          None            Django\n",
       "12    Laura Lero            Django\n",
       "13          None            Django\n",
       "14    Laura Lero            Django\n",
       "15          None            Django\n",
       "16    Laura Lero            Django\n",
       "17          None            Django\n",
       "18    Laura Lero            Django\n",
       "19          None            Django\n",
       "20    Laura Lero            Django\n",
       "21          None            Django\n",
       "22    Laura Lero            Django\n",
       "23          None            Django\n",
       "24    Laura Lero            Django\n",
       "25          None            Django\n",
       "26    Laura Lero            Django\n",
       "27          None            Django\n",
       "28    Laura Lero            Django\n",
       "29  Matheus Mota            Django"
      ]
     },
     "metadata": {},
     "output_type": "display_data"
    }
   ],
   "source": [
    "%%cypher\n",
    "MATCH (node_pessoa:Pessoa)-[:DEU_LIKE]->(node_filme:Filme)\n",
    "WHERE  node_filme.titulo = 'Django'\n",
    "RETURN node_pessoa.nome as nome_usuario, node_filme.titulo"
   ]
  }
 ],
 "metadata": {
  "kernelspec": {
   "display_name": "Python 3",
   "language": "python",
   "name": "python3"
  },
  "language_info": {
   "codemirror_mode": {
    "name": "ipython",
    "version": 3
   },
   "file_extension": ".py",
   "mimetype": "text/x-python",
   "name": "python",
   "nbconvert_exporter": "python",
   "pygments_lexer": "ipython3",
   "version": "3.10.14"
  }
 },
 "nbformat": 4,
 "nbformat_minor": 4
}
