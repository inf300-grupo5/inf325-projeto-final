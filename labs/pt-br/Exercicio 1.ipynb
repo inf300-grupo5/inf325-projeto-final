{
 "cells": [
  {
   "cell_type": "markdown",
   "metadata": {},
   "source": [
    "# Exercício - Grafo contendo filmes, atores e diretores\n",
    "\n",
    "<h3><b>PREENCHA A CÉLULA ABAIXO COM O(S) INTEGRANTE(S)</b></h3>"
   ]
  },
  {
   "cell_type": "markdown",
   "metadata": {},
   "source": [
    "**INTEGRANTE 01:** Fulano Silva (RA: 000)\n",
    "    \n",
    "**INTEGRANTE 02:** Cicrano Souza (RA: 001) "
   ]
  },
  {
   "cell_type": "markdown",
   "metadata": {},
   "source": [
    "## Carregando extensão para Cypher"
   ]
  },
  {
   "cell_type": "code",
   "execution_count": 1,
   "metadata": {},
   "outputs": [
    {
     "ename": "ImportError",
     "evalue": "cannot import name 'Sequence' from 'collections' (/srv/conda/envs/notebook/lib/python3.10/collections/__init__.py)",
     "output_type": "error",
     "traceback": [
      "\u001b[0;31m---------------------------------------------------------------------------\u001b[0m",
      "\u001b[0;31mImportError\u001b[0m                               Traceback (most recent call last)",
      "Cell \u001b[0;32mIn[1], line 1\u001b[0m\n\u001b[0;32m----> 1\u001b[0m \u001b[43mget_ipython\u001b[49m\u001b[43m(\u001b[49m\u001b[43m)\u001b[49m\u001b[38;5;241;43m.\u001b[39;49m\u001b[43mrun_line_magic\u001b[49m\u001b[43m(\u001b[49m\u001b[38;5;124;43m'\u001b[39;49m\u001b[38;5;124;43mload_ext\u001b[39;49m\u001b[38;5;124;43m'\u001b[39;49m\u001b[43m,\u001b[49m\u001b[43m \u001b[49m\u001b[38;5;124;43m'\u001b[39;49m\u001b[38;5;124;43mcypher\u001b[39;49m\u001b[38;5;124;43m'\u001b[39;49m\u001b[43m)\u001b[49m\n",
      "File \u001b[0;32m/srv/conda/envs/notebook/lib/python3.10/site-packages/IPython/core/interactiveshell.py:2480\u001b[0m, in \u001b[0;36mInteractiveShell.run_line_magic\u001b[0;34m(self, magic_name, line, _stack_depth)\u001b[0m\n\u001b[1;32m   2478\u001b[0m     kwargs[\u001b[38;5;124m'\u001b[39m\u001b[38;5;124mlocal_ns\u001b[39m\u001b[38;5;124m'\u001b[39m] \u001b[38;5;241m=\u001b[39m \u001b[38;5;28mself\u001b[39m\u001b[38;5;241m.\u001b[39mget_local_scope(stack_depth)\n\u001b[1;32m   2479\u001b[0m \u001b[38;5;28;01mwith\u001b[39;00m \u001b[38;5;28mself\u001b[39m\u001b[38;5;241m.\u001b[39mbuiltin_trap:\n\u001b[0;32m-> 2480\u001b[0m     result \u001b[38;5;241m=\u001b[39m \u001b[43mfn\u001b[49m\u001b[43m(\u001b[49m\u001b[38;5;241;43m*\u001b[39;49m\u001b[43margs\u001b[49m\u001b[43m,\u001b[49m\u001b[43m \u001b[49m\u001b[38;5;241;43m*\u001b[39;49m\u001b[38;5;241;43m*\u001b[39;49m\u001b[43mkwargs\u001b[49m\u001b[43m)\u001b[49m\n\u001b[1;32m   2482\u001b[0m \u001b[38;5;66;03m# The code below prevents the output from being displayed\u001b[39;00m\n\u001b[1;32m   2483\u001b[0m \u001b[38;5;66;03m# when using magics with decorator @output_can_be_silenced\u001b[39;00m\n\u001b[1;32m   2484\u001b[0m \u001b[38;5;66;03m# when the last Python token in the expression is a ';'.\u001b[39;00m\n\u001b[1;32m   2485\u001b[0m \u001b[38;5;28;01mif\u001b[39;00m \u001b[38;5;28mgetattr\u001b[39m(fn, magic\u001b[38;5;241m.\u001b[39mMAGIC_OUTPUT_CAN_BE_SILENCED, \u001b[38;5;28;01mFalse\u001b[39;00m):\n",
      "File \u001b[0;32m/srv/conda/envs/notebook/lib/python3.10/site-packages/IPython/core/magics/extension.py:33\u001b[0m, in \u001b[0;36mExtensionMagics.load_ext\u001b[0;34m(self, module_str)\u001b[0m\n\u001b[1;32m     31\u001b[0m \u001b[38;5;28;01mif\u001b[39;00m \u001b[38;5;129;01mnot\u001b[39;00m module_str:\n\u001b[1;32m     32\u001b[0m     \u001b[38;5;28;01mraise\u001b[39;00m UsageError(\u001b[38;5;124m'\u001b[39m\u001b[38;5;124mMissing module name.\u001b[39m\u001b[38;5;124m'\u001b[39m)\n\u001b[0;32m---> 33\u001b[0m res \u001b[38;5;241m=\u001b[39m \u001b[38;5;28;43mself\u001b[39;49m\u001b[38;5;241;43m.\u001b[39;49m\u001b[43mshell\u001b[49m\u001b[38;5;241;43m.\u001b[39;49m\u001b[43mextension_manager\u001b[49m\u001b[38;5;241;43m.\u001b[39;49m\u001b[43mload_extension\u001b[49m\u001b[43m(\u001b[49m\u001b[43mmodule_str\u001b[49m\u001b[43m)\u001b[49m\n\u001b[1;32m     35\u001b[0m \u001b[38;5;28;01mif\u001b[39;00m res \u001b[38;5;241m==\u001b[39m \u001b[38;5;124m'\u001b[39m\u001b[38;5;124malready loaded\u001b[39m\u001b[38;5;124m'\u001b[39m:\n\u001b[1;32m     36\u001b[0m     \u001b[38;5;28mprint\u001b[39m(\u001b[38;5;124m\"\u001b[39m\u001b[38;5;124mThe \u001b[39m\u001b[38;5;132;01m%s\u001b[39;00m\u001b[38;5;124m extension is already loaded. To reload it, use:\u001b[39m\u001b[38;5;124m\"\u001b[39m \u001b[38;5;241m%\u001b[39m module_str)\n",
      "File \u001b[0;32m/srv/conda/envs/notebook/lib/python3.10/site-packages/IPython/core/extensions.py:62\u001b[0m, in \u001b[0;36mExtensionManager.load_extension\u001b[0;34m(self, module_str)\u001b[0m\n\u001b[1;32m     55\u001b[0m \u001b[38;5;250m\u001b[39m\u001b[38;5;124;03m\"\"\"Load an IPython extension by its module name.\u001b[39;00m\n\u001b[1;32m     56\u001b[0m \n\u001b[1;32m     57\u001b[0m \u001b[38;5;124;03mReturns the string \"already loaded\" if the extension is already loaded,\u001b[39;00m\n\u001b[1;32m     58\u001b[0m \u001b[38;5;124;03m\"no load function\" if the module doesn't have a load_ipython_extension\u001b[39;00m\n\u001b[1;32m     59\u001b[0m \u001b[38;5;124;03mfunction, or None if it succeeded.\u001b[39;00m\n\u001b[1;32m     60\u001b[0m \u001b[38;5;124;03m\"\"\"\u001b[39;00m\n\u001b[1;32m     61\u001b[0m \u001b[38;5;28;01mtry\u001b[39;00m:\n\u001b[0;32m---> 62\u001b[0m     \u001b[38;5;28;01mreturn\u001b[39;00m \u001b[38;5;28;43mself\u001b[39;49m\u001b[38;5;241;43m.\u001b[39;49m\u001b[43m_load_extension\u001b[49m\u001b[43m(\u001b[49m\u001b[43mmodule_str\u001b[49m\u001b[43m)\u001b[49m\n\u001b[1;32m     63\u001b[0m \u001b[38;5;28;01mexcept\u001b[39;00m \u001b[38;5;167;01mModuleNotFoundError\u001b[39;00m:\n\u001b[1;32m     64\u001b[0m     \u001b[38;5;28;01mif\u001b[39;00m module_str \u001b[38;5;129;01min\u001b[39;00m BUILTINS_EXTS:\n",
      "File \u001b[0;32m/srv/conda/envs/notebook/lib/python3.10/site-packages/IPython/core/extensions.py:77\u001b[0m, in \u001b[0;36mExtensionManager._load_extension\u001b[0;34m(self, module_str)\u001b[0m\n\u001b[1;32m     75\u001b[0m \u001b[38;5;28;01mwith\u001b[39;00m \u001b[38;5;28mself\u001b[39m\u001b[38;5;241m.\u001b[39mshell\u001b[38;5;241m.\u001b[39mbuiltin_trap:\n\u001b[1;32m     76\u001b[0m     \u001b[38;5;28;01mif\u001b[39;00m module_str \u001b[38;5;129;01mnot\u001b[39;00m \u001b[38;5;129;01min\u001b[39;00m sys\u001b[38;5;241m.\u001b[39mmodules:\n\u001b[0;32m---> 77\u001b[0m         mod \u001b[38;5;241m=\u001b[39m \u001b[43mimport_module\u001b[49m\u001b[43m(\u001b[49m\u001b[43mmodule_str\u001b[49m\u001b[43m)\u001b[49m\n\u001b[1;32m     78\u001b[0m     mod \u001b[38;5;241m=\u001b[39m sys\u001b[38;5;241m.\u001b[39mmodules[module_str]\n\u001b[1;32m     79\u001b[0m     \u001b[38;5;28;01mif\u001b[39;00m \u001b[38;5;28mself\u001b[39m\u001b[38;5;241m.\u001b[39m_call_load_ipython_extension(mod):\n",
      "File \u001b[0;32m/srv/conda/envs/notebook/lib/python3.10/importlib/__init__.py:126\u001b[0m, in \u001b[0;36mimport_module\u001b[0;34m(name, package)\u001b[0m\n\u001b[1;32m    124\u001b[0m             \u001b[38;5;28;01mbreak\u001b[39;00m\n\u001b[1;32m    125\u001b[0m         level \u001b[38;5;241m+\u001b[39m\u001b[38;5;241m=\u001b[39m \u001b[38;5;241m1\u001b[39m\n\u001b[0;32m--> 126\u001b[0m \u001b[38;5;28;01mreturn\u001b[39;00m \u001b[43m_bootstrap\u001b[49m\u001b[38;5;241;43m.\u001b[39;49m\u001b[43m_gcd_import\u001b[49m\u001b[43m(\u001b[49m\u001b[43mname\u001b[49m\u001b[43m[\u001b[49m\u001b[43mlevel\u001b[49m\u001b[43m:\u001b[49m\u001b[43m]\u001b[49m\u001b[43m,\u001b[49m\u001b[43m \u001b[49m\u001b[43mpackage\u001b[49m\u001b[43m,\u001b[49m\u001b[43m \u001b[49m\u001b[43mlevel\u001b[49m\u001b[43m)\u001b[49m\n",
      "File \u001b[0;32m<frozen importlib._bootstrap>:1050\u001b[0m, in \u001b[0;36m_gcd_import\u001b[0;34m(name, package, level)\u001b[0m\n",
      "File \u001b[0;32m<frozen importlib._bootstrap>:1027\u001b[0m, in \u001b[0;36m_find_and_load\u001b[0;34m(name, import_)\u001b[0m\n",
      "File \u001b[0;32m<frozen importlib._bootstrap>:1006\u001b[0m, in \u001b[0;36m_find_and_load_unlocked\u001b[0;34m(name, import_)\u001b[0m\n",
      "File \u001b[0;32m<frozen importlib._bootstrap>:688\u001b[0m, in \u001b[0;36m_load_unlocked\u001b[0;34m(spec)\u001b[0m\n",
      "File \u001b[0;32m<frozen importlib._bootstrap_external>:883\u001b[0m, in \u001b[0;36mexec_module\u001b[0;34m(self, module)\u001b[0m\n",
      "File \u001b[0;32m<frozen importlib._bootstrap>:241\u001b[0m, in \u001b[0;36m_call_with_frames_removed\u001b[0;34m(f, *args, **kwds)\u001b[0m\n",
      "File \u001b[0;32m/srv/conda/envs/notebook/lib/python3.10/site-packages/cypher/__init__.py:1\u001b[0m\n\u001b[0;32m----> 1\u001b[0m \u001b[38;5;28;01mfrom\u001b[39;00m \u001b[38;5;21;01m.\u001b[39;00m\u001b[38;5;21;01mmagic\u001b[39;00m \u001b[38;5;28;01mimport\u001b[39;00m \u001b[38;5;241m*\u001b[39m\n",
      "File \u001b[0;32m/srv/conda/envs/notebook/lib/python3.10/site-packages/cypher/magic.py:20\u001b[0m\n\u001b[1;32m     16\u001b[0m     \u001b[38;5;28;01mfrom\u001b[39;00m \u001b[38;5;21;01mIPython\u001b[39;00m\u001b[38;5;21;01m.\u001b[39;00m\u001b[38;5;21;01mutils\u001b[39;00m\u001b[38;5;21;01m.\u001b[39;00m\u001b[38;5;21;01mtraitlets\u001b[39;00m \u001b[38;5;28;01mimport\u001b[39;00m Bool, Int, Unicode\n\u001b[1;32m     18\u001b[0m \u001b[38;5;28;01mfrom\u001b[39;00m \u001b[38;5;21;01mneo4jrestclient\u001b[39;00m\u001b[38;5;21;01m.\u001b[39;00m\u001b[38;5;21;01mexceptions\u001b[39;00m \u001b[38;5;28;01mimport\u001b[39;00m StatusException\n\u001b[0;32m---> 20\u001b[0m \u001b[38;5;28;01mfrom\u001b[39;00m \u001b[38;5;21;01mcypher\u001b[39;00m\u001b[38;5;21;01m.\u001b[39;00m\u001b[38;5;21;01mconnection\u001b[39;00m \u001b[38;5;28;01mimport\u001b[39;00m Connection\n\u001b[1;32m     21\u001b[0m \u001b[38;5;28;01mfrom\u001b[39;00m \u001b[38;5;21;01mcypher\u001b[39;00m\u001b[38;5;21;01m.\u001b[39;00m\u001b[38;5;21;01mparse\u001b[39;00m \u001b[38;5;28;01mimport\u001b[39;00m parse\n\u001b[1;32m     22\u001b[0m \u001b[38;5;28;01mfrom\u001b[39;00m \u001b[38;5;21;01mcypher\u001b[39;00m\u001b[38;5;21;01m.\u001b[39;00m\u001b[38;5;21;01mrun\u001b[39;00m \u001b[38;5;28;01mimport\u001b[39;00m run\n",
      "File \u001b[0;32m/srv/conda/envs/notebook/lib/python3.10/site-packages/cypher/connection.py:2\u001b[0m\n\u001b[1;32m      1\u001b[0m \u001b[38;5;66;03m# -*- coding: utf-8 -*-\u001b[39;00m\n\u001b[0;32m----> 2\u001b[0m \u001b[38;5;28;01mfrom\u001b[39;00m \u001b[38;5;21;01mneo4jrestclient\u001b[39;00m\u001b[38;5;21;01m.\u001b[39;00m\u001b[38;5;21;01mclient\u001b[39;00m \u001b[38;5;28;01mimport\u001b[39;00m GraphDatabase\n\u001b[1;32m      4\u001b[0m \u001b[38;5;28;01mfrom\u001b[39;00m \u001b[38;5;21;01mcypher\u001b[39;00m\u001b[38;5;21;01m.\u001b[39;00m\u001b[38;5;21;01mutils\u001b[39;00m \u001b[38;5;28;01mimport\u001b[39;00m urlparse\n\u001b[1;32m      7\u001b[0m \u001b[38;5;28;01mclass\u001b[39;00m \u001b[38;5;21;01mConnection\u001b[39;00m(\u001b[38;5;28mobject\u001b[39m):\n",
      "File \u001b[0;32m/srv/conda/envs/notebook/lib/python3.10/site-packages/neo4jrestclient/client.py:30\u001b[0m\n\u001b[1;32m     17\u001b[0m \u001b[38;5;28;01mfrom\u001b[39;00m \u001b[38;5;21;01mneo4jrestclient\u001b[39;00m\u001b[38;5;21;01m.\u001b[39;00m\u001b[38;5;21;01mconstants\u001b[39;00m \u001b[38;5;28;01mimport\u001b[39;00m (\n\u001b[1;32m     18\u001b[0m     BREADTH_FIRST, DEPTH_FIRST,\n\u001b[1;32m     19\u001b[0m     STOP_AT_END_OF_GRAPH,\n\u001b[0;32m   (...)\u001b[0m\n\u001b[1;32m     27\u001b[0m     RETURN_ALL_NODES, RETURN_ALL_BUT_START_NODE\n\u001b[1;32m     28\u001b[0m )\n\u001b[1;32m     29\u001b[0m \u001b[38;5;28;01mfrom\u001b[39;00m \u001b[38;5;21;01mneo4jrestclient\u001b[39;00m\u001b[38;5;21;01m.\u001b[39;00m\u001b[38;5;21;01miterable\u001b[39;00m \u001b[38;5;28;01mimport\u001b[39;00m Iterable\n\u001b[0;32m---> 30\u001b[0m \u001b[38;5;28;01mfrom\u001b[39;00m \u001b[38;5;21;01mneo4jrestclient\u001b[39;00m\u001b[38;5;21;01m.\u001b[39;00m\u001b[38;5;21;01mlabels\u001b[39;00m \u001b[38;5;28;01mimport\u001b[39;00m NodeLabelsProxy, LabelsProxy\n\u001b[1;32m     31\u001b[0m \u001b[38;5;28;01mfrom\u001b[39;00m \u001b[38;5;21;01mneo4jrestclient\u001b[39;00m\u001b[38;5;21;01m.\u001b[39;00m\u001b[38;5;21;01mquery\u001b[39;00m \u001b[38;5;28;01mimport\u001b[39;00m (\n\u001b[1;32m     32\u001b[0m     QuerySequence, FilterSequence, QueryTransaction, CypherException\n\u001b[1;32m     33\u001b[0m )\n\u001b[1;32m     34\u001b[0m \u001b[38;5;28;01mfrom\u001b[39;00m \u001b[38;5;21;01mneo4jrestclient\u001b[39;00m\u001b[38;5;21;01m.\u001b[39;00m\u001b[38;5;21;01mrequest\u001b[39;00m \u001b[38;5;28;01mimport\u001b[39;00m Request\n",
      "File \u001b[0;32m/srv/conda/envs/notebook/lib/python3.10/site-packages/neo4jrestclient/labels.py:8\u001b[0m\n\u001b[1;32m      6\u001b[0m \u001b[38;5;28;01mfrom\u001b[39;00m \u001b[38;5;21;01mneo4jrestclient\u001b[39;00m\u001b[38;5;21;01m.\u001b[39;00m\u001b[38;5;21;01mrequest\u001b[39;00m \u001b[38;5;28;01mimport\u001b[39;00m Request\n\u001b[1;32m      7\u001b[0m \u001b[38;5;28;01mfrom\u001b[39;00m \u001b[38;5;21;01mneo4jrestclient\u001b[39;00m\u001b[38;5;21;01m.\u001b[39;00m\u001b[38;5;21;01mexceptions\u001b[39;00m \u001b[38;5;28;01mimport\u001b[39;00m StatusException\n\u001b[0;32m----> 8\u001b[0m \u001b[38;5;28;01mfrom\u001b[39;00m \u001b[38;5;21;01mneo4jrestclient\u001b[39;00m\u001b[38;5;21;01m.\u001b[39;00m\u001b[38;5;21;01mquery\u001b[39;00m \u001b[38;5;28;01mimport\u001b[39;00m FilterSequence\n\u001b[1;32m      9\u001b[0m \u001b[38;5;28;01mfrom\u001b[39;00m \u001b[38;5;21;01mneo4jrestclient\u001b[39;00m\u001b[38;5;21;01m.\u001b[39;00m\u001b[38;5;21;01mutils\u001b[39;00m \u001b[38;5;28;01mimport\u001b[39;00m smart_quote, text_type\n\u001b[1;32m     12\u001b[0m \u001b[38;5;28;01mclass\u001b[39;00m \u001b[38;5;21;01mLabel\u001b[39;00m(\u001b[38;5;28mobject\u001b[39m):\n",
      "File \u001b[0;32m/srv/conda/envs/notebook/lib/python3.10/site-packages/neo4jrestclient/query.py:6\u001b[0m\n\u001b[1;32m      4\u001b[0m \u001b[38;5;28;01mimport\u001b[39;00m \u001b[38;5;21;01mjson\u001b[39;00m\n\u001b[1;32m      5\u001b[0m \u001b[38;5;28;01mimport\u001b[39;00m \u001b[38;5;21;01muuid\u001b[39;00m\n\u001b[0;32m----> 6\u001b[0m \u001b[38;5;28;01mfrom\u001b[39;00m \u001b[38;5;21;01mcollections\u001b[39;00m \u001b[38;5;28;01mimport\u001b[39;00m Sequence\n\u001b[1;32m      7\u001b[0m \u001b[38;5;28;01mimport\u001b[39;00m \u001b[38;5;21;01mwarnings\u001b[39;00m\n\u001b[1;32m      9\u001b[0m \u001b[38;5;28;01mfrom\u001b[39;00m \u001b[38;5;21;01mneo4jrestclient\u001b[39;00m\u001b[38;5;21;01m.\u001b[39;00m\u001b[38;5;21;01mconstants\u001b[39;00m \u001b[38;5;28;01mimport\u001b[39;00m RAW\n",
      "\u001b[0;31mImportError\u001b[0m: cannot import name 'Sequence' from 'collections' (/srv/conda/envs/notebook/lib/python3.10/collections/__init__.py)"
     ]
    }
   ],
   "source": [
    "%load_ext cypher"
   ]
  },
  {
   "cell_type": "markdown",
   "metadata": {},
   "source": [
    "## Limpando o banco de dados"
   ]
  },
  {
   "cell_type": "code",
   "execution_count": 1,
   "metadata": {},
   "outputs": [
    {
     "name": "stderr",
     "output_type": "stream",
     "text": [
      "UsageError: Line magic function `%cypher` not found.\n"
     ]
    }
   ],
   "source": [
    "%cypher MATCH (n)-[r]-() DELETE r\n",
    "%cypher MATCH (n) DELETE n"
   ]
  },
  {
   "cell_type": "markdown",
   "metadata": {},
   "source": [
    "## Importando grafo contendo filmes, atores e diretores (execute apenas uma vez)\n",
    "\n",
    "A célula abaixo contém todas as consultas necessárias para a contrução do grafo que será utilizado neste exercício. (após a linha `%%cypher` )\n",
    "\n",
    "Execute a célula abaixo para construir o grafo que será consultado.\n",
    "\n",
    "\n",
    "**ALTERNATIVA**\n",
    "\n",
    "Quer usar a interface nativa do Neo4j para fazer as consultas? Sem problemas. Você pode copiar e colar as consultas no [Neo4j Sandbox](https://sandbox.neo4j.com/login) para reconstruir o grafo. A partir daí, você poderá fazer as suas consultas de maneira mais visual na interface do próprio Neo4j. Lembre-se de colar a consulta no notebook que será entregue\n",
    "\n"
   ]
  },
  {
   "cell_type": "code",
   "execution_count": 2,
   "metadata": {},
   "outputs": [
    {
     "name": "stderr",
     "output_type": "stream",
     "text": [
      "UsageError: Cell magic `%%cypher` not found.\n"
     ]
    }
   ],
   "source": [
    "%%cypher\n",
    "\n",
    "\n",
    "CREATE (TheMatrix:Movie {title:'The Matrix', released:1999, tagline:'Welcome to the Real World'})\n",
    "CREATE (Keanu:Person {name:'Keanu Reeves', born:1964})\n",
    "CREATE (Carrie:Person {name:'Carrie-Anne Moss', born:1967})\n",
    "CREATE (Laurence:Person {name:'Laurence Fishburne', born:1961})\n",
    "CREATE (Hugo:Person {name:'Hugo Weaving', born:1960})\n",
    "CREATE (LillyW:Person {name:'Lilly Wachowski', born:1967})\n",
    "CREATE (LanaW:Person {name:'Lana Wachowski', born:1965})\n",
    "CREATE (JoelS:Person {name:'Joel Silver', born:1952})\n",
    "CREATE\n",
    "  (Keanu)-[:ACTED_IN {roles:['Neo']}]->(TheMatrix),\n",
    "  (Carrie)-[:ACTED_IN {roles:['Trinity']}]->(TheMatrix),\n",
    "  (Laurence)-[:ACTED_IN {roles:['Morpheus']}]->(TheMatrix),\n",
    "  (Hugo)-[:ACTED_IN {roles:['Agent Smith']}]->(TheMatrix),\n",
    "  (LillyW)-[:DIRECTED]->(TheMatrix),\n",
    "  (LanaW)-[:DIRECTED]->(TheMatrix),\n",
    "  (JoelS)-[:PRODUCED]->(TheMatrix)\n",
    "\n",
    "CREATE (Emil:Person {name:\"Emil Eifrem\", born:1978})\n",
    "CREATE (Emil)-[:ACTED_IN {roles:[\"Emil\"]}]->(TheMatrix)\n",
    "\n",
    "CREATE (TheMatrixReloaded:Movie {title:'The Matrix Reloaded', released:2003, tagline:'Free your mind'})\n",
    "CREATE\n",
    "  (Keanu)-[:ACTED_IN {roles:['Neo']}]->(TheMatrixReloaded),\n",
    "  (Carrie)-[:ACTED_IN {roles:['Trinity']}]->(TheMatrixReloaded),\n",
    "  (Laurence)-[:ACTED_IN {roles:['Morpheus']}]->(TheMatrixReloaded),\n",
    "  (Hugo)-[:ACTED_IN {roles:['Agent Smith']}]->(TheMatrixReloaded),\n",
    "  (LillyW)-[:DIRECTED]->(TheMatrixReloaded),\n",
    "  (LanaW)-[:DIRECTED]->(TheMatrixReloaded),\n",
    "  (JoelS)-[:PRODUCED]->(TheMatrixReloaded)\n",
    "\n",
    "CREATE (TheMatrixRevolutions:Movie {title:'The Matrix Revolutions', released:2003, tagline:'Everything that has a beginning has an end'})\n",
    "CREATE\n",
    "  (Keanu)-[:ACTED_IN {roles:['Neo']}]->(TheMatrixRevolutions),\n",
    "  (Carrie)-[:ACTED_IN {roles:['Trinity']}]->(TheMatrixRevolutions),\n",
    "  (Laurence)-[:ACTED_IN {roles:['Morpheus']}]->(TheMatrixRevolutions),\n",
    "  (Hugo)-[:ACTED_IN {roles:['Agent Smith']}]->(TheMatrixRevolutions),\n",
    "  (LillyW)-[:DIRECTED]->(TheMatrixRevolutions),\n",
    "  (LanaW)-[:DIRECTED]->(TheMatrixRevolutions),\n",
    "  (JoelS)-[:PRODUCED]->(TheMatrixRevolutions)\n",
    "\n",
    "CREATE (TheDevilsAdvocate:Movie {title:\"The Devil's Advocate\", released:1997, tagline:'Evil has its winning ways'})\n",
    "CREATE (Charlize:Person {name:'Charlize Theron', born:1975})\n",
    "CREATE (Al:Person {name:'Al Pacino', born:1940})\n",
    "CREATE (Taylor:Person {name:'Taylor Hackford', born:1944})\n",
    "CREATE\n",
    "  (Keanu)-[:ACTED_IN {roles:['Kevin Lomax']}]->(TheDevilsAdvocate),\n",
    "  (Charlize)-[:ACTED_IN {roles:['Mary Ann Lomax']}]->(TheDevilsAdvocate),\n",
    "  (Al)-[:ACTED_IN {roles:['John Milton']}]->(TheDevilsAdvocate),\n",
    "  (Taylor)-[:DIRECTED]->(TheDevilsAdvocate)\n",
    "\n",
    "CREATE (AFewGoodMen:Movie {title:\"A Few Good Men\", released:1992, tagline:\"In the heart of the nation's capital, in a courthouse of the U.S. government, one man will stop at nothing to keep his honor, and one will stop at nothing to find the truth.\"})\n",
    "CREATE (TomC:Person {name:'Tom Cruise', born:1962})\n",
    "CREATE (JackN:Person {name:'Jack Nicholson', born:1937})\n",
    "CREATE (DemiM:Person {name:'Demi Moore', born:1962})\n",
    "CREATE (KevinB:Person {name:'Kevin Bacon', born:1958})\n",
    "CREATE (KieferS:Person {name:'Kiefer Sutherland', born:1966})\n",
    "CREATE (NoahW:Person {name:'Noah Wyle', born:1971})\n",
    "CREATE (CubaG:Person {name:'Cuba Gooding Jr.', born:1968})\n",
    "CREATE (KevinP:Person {name:'Kevin Pollak', born:1957})\n",
    "CREATE (JTW:Person {name:'J.T. Walsh', born:1943})\n",
    "CREATE (JamesM:Person {name:'James Marshall', born:1967})\n",
    "CREATE (ChristopherG:Person {name:'Christopher Guest', born:1948})\n",
    "CREATE (RobR:Person {name:'Rob Reiner', born:1947})\n",
    "CREATE (AaronS:Person {name:'Aaron Sorkin', born:1961})\n",
    "CREATE\n",
    "  (TomC)-[:ACTED_IN {roles:['Lt. Daniel Kaffee']}]->(AFewGoodMen),\n",
    "  (JackN)-[:ACTED_IN {roles:['Col. Nathan R. Jessup']}]->(AFewGoodMen),\n",
    "  (DemiM)-[:ACTED_IN {roles:['Lt. Cdr. JoAnne Galloway']}]->(AFewGoodMen),\n",
    "  (KevinB)-[:ACTED_IN {roles:['Capt. Jack Ross']}]->(AFewGoodMen),\n",
    "  (KieferS)-[:ACTED_IN {roles:['Lt. Jonathan Kendrick']}]->(AFewGoodMen),\n",
    "  (NoahW)-[:ACTED_IN {roles:['Cpl. Jeffrey Barnes']}]->(AFewGoodMen),\n",
    "  (CubaG)-[:ACTED_IN {roles:['Cpl. Carl Hammaker']}]->(AFewGoodMen),\n",
    "  (KevinP)-[:ACTED_IN {roles:['Lt. Sam Weinberg']}]->(AFewGoodMen),\n",
    "  (JTW)-[:ACTED_IN {roles:['Lt. Col. Matthew Andrew Markinson']}]->(AFewGoodMen),\n",
    "  (JamesM)-[:ACTED_IN {roles:['Pfc. Louden Downey']}]->(AFewGoodMen),\n",
    "  (ChristopherG)-[:ACTED_IN {roles:['Dr. Stone']}]->(AFewGoodMen),\n",
    "  (AaronS)-[:ACTED_IN {roles:['Man in Bar']}]->(AFewGoodMen),\n",
    "  (RobR)-[:DIRECTED]->(AFewGoodMen),\n",
    "  (AaronS)-[:WROTE]->(AFewGoodMen)\n",
    "\n",
    "CREATE (TopGun:Movie {title:\"Top Gun\", released:1986, tagline:'I feel the need, the need for speed.'})\n",
    "CREATE (KellyM:Person {name:'Kelly McGillis', born:1957})\n",
    "CREATE (ValK:Person {name:'Val Kilmer', born:1959})\n",
    "CREATE (AnthonyE:Person {name:'Anthony Edwards', born:1962})\n",
    "CREATE (TomS:Person {name:'Tom Skerritt', born:1933})\n",
    "CREATE (MegR:Person {name:'Meg Ryan', born:1961})\n",
    "CREATE (TonyS:Person {name:'Tony Scott', born:1944})\n",
    "CREATE (JimC:Person {name:'Jim Cash', born:1941})\n",
    "CREATE\n",
    "  (TomC)-[:ACTED_IN {roles:['Maverick']}]->(TopGun),\n",
    "  (KellyM)-[:ACTED_IN {roles:['Charlie']}]->(TopGun),\n",
    "  (ValK)-[:ACTED_IN {roles:['Iceman']}]->(TopGun),\n",
    "  (AnthonyE)-[:ACTED_IN {roles:['Goose']}]->(TopGun),\n",
    "  (TomS)-[:ACTED_IN {roles:['Viper']}]->(TopGun),\n",
    "  (MegR)-[:ACTED_IN {roles:['Carole']}]->(TopGun),\n",
    "  (TonyS)-[:DIRECTED]->(TopGun),\n",
    "  (JimC)-[:WROTE]->(TopGun)\n",
    "\n",
    "CREATE (JerryMaguire:Movie {title:'Jerry Maguire', released:2000, tagline:'The rest of his life begins now.'})\n",
    "CREATE (ReneeZ:Person {name:'Renee Zellweger', born:1969})\n",
    "CREATE (KellyP:Person {name:'Kelly Preston', born:1962})\n",
    "CREATE (JerryO:Person {name:\"Jerry O'Connell\", born:1974})\n",
    "CREATE (JayM:Person {name:'Jay Mohr', born:1970})\n",
    "CREATE (BonnieH:Person {name:'Bonnie Hunt', born:1961})\n",
    "CREATE (ReginaK:Person {name:'Regina King', born:1971})\n",
    "CREATE (JonathanL:Person {name:'Jonathan Lipnicki', born:1996})\n",
    "CREATE (CameronC:Person {name:'Cameron Crowe', born:1957})\n",
    "CREATE\n",
    "  (TomC)-[:ACTED_IN {roles:['Jerry Maguire']}]->(JerryMaguire),\n",
    "  (CubaG)-[:ACTED_IN {roles:['Rod Tidwell']}]->(JerryMaguire),\n",
    "  (ReneeZ)-[:ACTED_IN {roles:['Dorothy Boyd']}]->(JerryMaguire),\n",
    "  (KellyP)-[:ACTED_IN {roles:['Avery Bishop']}]->(JerryMaguire),\n",
    "  (JerryO)-[:ACTED_IN {roles:['Frank Cushman']}]->(JerryMaguire),\n",
    "  (JayM)-[:ACTED_IN {roles:['Bob Sugar']}]->(JerryMaguire),\n",
    "  (BonnieH)-[:ACTED_IN {roles:['Laurel Boyd']}]->(JerryMaguire),\n",
    "  (ReginaK)-[:ACTED_IN {roles:['Marcee Tidwell']}]->(JerryMaguire),\n",
    "  (JonathanL)-[:ACTED_IN {roles:['Ray Boyd']}]->(JerryMaguire),\n",
    "  (CameronC)-[:DIRECTED]->(JerryMaguire),\n",
    "  (CameronC)-[:PRODUCED]->(JerryMaguire),\n",
    "  (CameronC)-[:WROTE]->(JerryMaguire)\n",
    "\n",
    "CREATE (StandByMe:Movie {title:\"Stand By Me\", released:1986, tagline:\"For some, it's the last real taste of innocence, and the first real taste of life. But for everyone, it's the time that memories are made of.\"})\n",
    "CREATE (RiverP:Person {name:'River Phoenix', born:1970})\n",
    "CREATE (CoreyF:Person {name:'Corey Feldman', born:1971})\n",
    "CREATE (WilW:Person {name:'Wil Wheaton', born:1972})\n",
    "CREATE (JohnC:Person {name:'John Cusack', born:1966})\n",
    "CREATE (MarshallB:Person {name:'Marshall Bell', born:1942})\n",
    "CREATE\n",
    "  (WilW)-[:ACTED_IN {roles:['Gordie Lachance']}]->(StandByMe),\n",
    "  (RiverP)-[:ACTED_IN {roles:['Chris Chambers']}]->(StandByMe),\n",
    "  (JerryO)-[:ACTED_IN {roles:['Vern Tessio']}]->(StandByMe),\n",
    "  (CoreyF)-[:ACTED_IN {roles:['Teddy Duchamp']}]->(StandByMe),\n",
    "  (JohnC)-[:ACTED_IN {roles:['Denny Lachance']}]->(StandByMe),\n",
    "  (KieferS)-[:ACTED_IN {roles:['Ace Merrill']}]->(StandByMe),\n",
    "  (MarshallB)-[:ACTED_IN {roles:['Mr. Lachance']}]->(StandByMe),\n",
    "  (RobR)-[:DIRECTED]->(StandByMe)\n",
    "\n",
    "CREATE (AsGoodAsItGets:Movie {title:'As Good as It Gets', released:1997, tagline:'A comedy from the heart that goes for the throat.'})\n",
    "CREATE (HelenH:Person {name:'Helen Hunt', born:1963})\n",
    "CREATE (GregK:Person {name:'Greg Kinnear', born:1963})\n",
    "CREATE (JamesB:Person {name:'James L. Brooks', born:1940})\n",
    "CREATE\n",
    "  (JackN)-[:ACTED_IN {roles:['Melvin Udall']}]->(AsGoodAsItGets),\n",
    "  (HelenH)-[:ACTED_IN {roles:['Carol Connelly']}]->(AsGoodAsItGets),\n",
    "  (GregK)-[:ACTED_IN {roles:['Simon Bishop']}]->(AsGoodAsItGets),\n",
    "  (CubaG)-[:ACTED_IN {roles:['Frank Sachs']}]->(AsGoodAsItGets),\n",
    "  (JamesB)-[:DIRECTED]->(AsGoodAsItGets)\n",
    "\n",
    "CREATE (WhatDreamsMayCome:Movie {title:'What Dreams May Come', released:1998, tagline:'After life there is more. The end is just the beginning.'})\n",
    "CREATE (AnnabellaS:Person {name:'Annabella Sciorra', born:1960})\n",
    "CREATE (MaxS:Person {name:'Max von Sydow', born:1929})\n",
    "CREATE (WernerH:Person {name:'Werner Herzog', born:1942})\n",
    "CREATE (Robin:Person {name:'Robin Williams', born:1951})\n",
    "CREATE (VincentW:Person {name:'Vincent Ward', born:1956})\n",
    "CREATE\n",
    "  (Robin)-[:ACTED_IN {roles:['Chris Nielsen']}]->(WhatDreamsMayCome),\n",
    "  (CubaG)-[:ACTED_IN {roles:['Albert Lewis']}]->(WhatDreamsMayCome),\n",
    "  (AnnabellaS)-[:ACTED_IN {roles:['Annie Collins-Nielsen']}]->(WhatDreamsMayCome),\n",
    "  (MaxS)-[:ACTED_IN {roles:['The Tracker']}]->(WhatDreamsMayCome),\n",
    "  (WernerH)-[:ACTED_IN {roles:['The Face']}]->(WhatDreamsMayCome),\n",
    "  (VincentW)-[:DIRECTED]->(WhatDreamsMayCome)\n",
    "\n",
    "CREATE (SnowFallingonCedars:Movie {title:'Snow Falling on Cedars', released:1999, tagline:'First loves last. Forever.'})\n",
    "CREATE (EthanH:Person {name:'Ethan Hawke', born:1970})\n",
    "CREATE (RickY:Person {name:'Rick Yune', born:1971})\n",
    "CREATE (JamesC:Person {name:'James Cromwell', born:1940})\n",
    "CREATE (ScottH:Person {name:'Scott Hicks', born:1953})\n",
    "CREATE\n",
    "  (EthanH)-[:ACTED_IN {roles:['Ishmael Chambers']}]->(SnowFallingonCedars),\n",
    "  (RickY)-[:ACTED_IN {roles:['Kazuo Miyamoto']}]->(SnowFallingonCedars),\n",
    "  (MaxS)-[:ACTED_IN {roles:['Nels Gudmundsson']}]->(SnowFallingonCedars),\n",
    "  (JamesC)-[:ACTED_IN {roles:['Judge Fielding']}]->(SnowFallingonCedars),\n",
    "  (ScottH)-[:DIRECTED]->(SnowFallingonCedars)\n",
    "\n",
    "CREATE (YouveGotMail:Movie {title:\"You've Got Mail\", released:1998, tagline:'At odds in life... in love on-line.'})\n",
    "CREATE (ParkerP:Person {name:'Parker Posey', born:1968})\n",
    "CREATE (DaveC:Person {name:'Dave Chappelle', born:1973})\n",
    "CREATE (SteveZ:Person {name:'Steve Zahn', born:1967})\n",
    "CREATE (TomH:Person {name:'Tom Hanks', born:1956})\n",
    "CREATE (NoraE:Person {name:'Nora Ephron', born:1941})\n",
    "CREATE\n",
    "  (TomH)-[:ACTED_IN {roles:['Joe Fox']}]->(YouveGotMail),\n",
    "  (MegR)-[:ACTED_IN {roles:['Kathleen Kelly']}]->(YouveGotMail),\n",
    "  (GregK)-[:ACTED_IN {roles:['Frank Navasky']}]->(YouveGotMail),\n",
    "  (ParkerP)-[:ACTED_IN {roles:['Patricia Eden']}]->(YouveGotMail),\n",
    "  (DaveC)-[:ACTED_IN {roles:['Kevin Jackson']}]->(YouveGotMail),\n",
    "  (SteveZ)-[:ACTED_IN {roles:['George Pappas']}]->(YouveGotMail),\n",
    "  (NoraE)-[:DIRECTED]->(YouveGotMail)\n",
    "\n",
    "CREATE (SleeplessInSeattle:Movie {title:'Sleepless in Seattle', released:1993, tagline:'What if someone you never met, someone you never saw, someone you never knew was the only someone for you?'})\n",
    "CREATE (RitaW:Person {name:'Rita Wilson', born:1956})\n",
    "CREATE (BillPull:Person {name:'Bill Pullman', born:1953})\n",
    "CREATE (VictorG:Person {name:'Victor Garber', born:1949})\n",
    "CREATE (RosieO:Person {name:\"Rosie O'Donnell\", born:1962})\n",
    "CREATE\n",
    "  (TomH)-[:ACTED_IN {roles:['Sam Baldwin']}]->(SleeplessInSeattle),\n",
    "  (MegR)-[:ACTED_IN {roles:['Annie Reed']}]->(SleeplessInSeattle),\n",
    "  (RitaW)-[:ACTED_IN {roles:['Suzy']}]->(SleeplessInSeattle),\n",
    "  (BillPull)-[:ACTED_IN {roles:['Walter']}]->(SleeplessInSeattle),\n",
    "  (VictorG)-[:ACTED_IN {roles:['Greg']}]->(SleeplessInSeattle),\n",
    "  (RosieO)-[:ACTED_IN {roles:['Becky']}]->(SleeplessInSeattle),\n",
    "  (NoraE)-[:DIRECTED]->(SleeplessInSeattle)\n",
    "\n",
    "CREATE (JoeVersustheVolcano:Movie {title:'Joe Versus the Volcano', released:1990, tagline:'A story of love, lava and burning desire.'})\n",
    "CREATE (JohnS:Person {name:'John Patrick Stanley', born:1950})\n",
    "CREATE (Nathan:Person {name:'Nathan Lane', born:1956})\n",
    "CREATE\n",
    "  (TomH)-[:ACTED_IN {roles:['Joe Banks']}]->(JoeVersustheVolcano),\n",
    "  (MegR)-[:ACTED_IN {roles:['DeDe', 'Angelica Graynamore', 'Patricia Graynamore']}]->(JoeVersustheVolcano),\n",
    "  (Nathan)-[:ACTED_IN {roles:['Baw']}]->(JoeVersustheVolcano),\n",
    "  (JohnS)-[:DIRECTED]->(JoeVersustheVolcano)\n",
    "\n",
    "CREATE (WhenHarryMetSally:Movie {title:'When Harry Met Sally', released:1998, tagline:'Can two friends sleep together and still love each other in the morning?'})\n",
    "CREATE (BillyC:Person {name:'Billy Crystal', born:1948})\n",
    "CREATE (CarrieF:Person {name:'Carrie Fisher', born:1956})\n",
    "CREATE (BrunoK:Person {name:'Bruno Kirby', born:1949})\n",
    "CREATE\n",
    "  (BillyC)-[:ACTED_IN {roles:['Harry Burns']}]->(WhenHarryMetSally),\n",
    "  (MegR)-[:ACTED_IN {roles:['Sally Albright']}]->(WhenHarryMetSally),\n",
    "  (CarrieF)-[:ACTED_IN {roles:['Marie']}]->(WhenHarryMetSally),\n",
    "  (BrunoK)-[:ACTED_IN {roles:['Jess']}]->(WhenHarryMetSally),\n",
    "  (RobR)-[:DIRECTED]->(WhenHarryMetSally),\n",
    "  (RobR)-[:PRODUCED]->(WhenHarryMetSally),\n",
    "  (NoraE)-[:PRODUCED]->(WhenHarryMetSally),\n",
    "  (NoraE)-[:WROTE]->(WhenHarryMetSally)\n",
    "\n",
    "CREATE (ThatThingYouDo:Movie {title:'That Thing You Do', released:1996, tagline:'In every life there comes a time when that thing you dream becomes that thing you do'})\n",
    "CREATE (LivT:Person {name:'Liv Tyler', born:1977})\n",
    "CREATE\n",
    "  (TomH)-[:ACTED_IN {roles:['Mr. White']}]->(ThatThingYouDo),\n",
    "  (LivT)-[:ACTED_IN {roles:['Faye Dolan']}]->(ThatThingYouDo),\n",
    "  (Charlize)-[:ACTED_IN {roles:['Tina']}]->(ThatThingYouDo),\n",
    "  (TomH)-[:DIRECTED]->(ThatThingYouDo)\n",
    "\n",
    "CREATE (TheReplacements:Movie {title:'The Replacements', released:2000, tagline:'Pain heals, Chicks dig scars... Glory lasts forever'})\n",
    "CREATE (Brooke:Person {name:'Brooke Langton', born:1970})\n",
    "CREATE (Gene:Person {name:'Gene Hackman', born:1930})\n",
    "CREATE (Orlando:Person {name:'Orlando Jones', born:1968})\n",
    "CREATE (Howard:Person {name:'Howard Deutch', born:1950})\n",
    "CREATE\n",
    "  (Keanu)-[:ACTED_IN {roles:['Shane Falco']}]->(TheReplacements),\n",
    "  (Brooke)-[:ACTED_IN {roles:['Annabelle Farrell']}]->(TheReplacements),\n",
    "  (Gene)-[:ACTED_IN {roles:['Jimmy McGinty']}]->(TheReplacements),\n",
    "  (Orlando)-[:ACTED_IN {roles:['Clifford Franklin']}]->(TheReplacements),\n",
    "  (Howard)-[:DIRECTED]->(TheReplacements)\n",
    "\n",
    "CREATE (RescueDawn:Movie {title:'RescueDawn', released:2006, tagline:\"Based on the extraordinary true story of one man's fight for freedom\"})\n",
    "CREATE (ChristianB:Person {name:'Christian Bale', born:1974})\n",
    "CREATE (ZachG:Person {name:'Zach Grenier', born:1954})\n",
    "CREATE\n",
    "  (MarshallB)-[:ACTED_IN {roles:['Admiral']}]->(RescueDawn),\n",
    "  (ChristianB)-[:ACTED_IN {roles:['Dieter Dengler']}]->(RescueDawn),\n",
    "  (ZachG)-[:ACTED_IN {roles:['Squad Leader']}]->(RescueDawn),\n",
    "  (SteveZ)-[:ACTED_IN {roles:['Duane']}]->(RescueDawn),\n",
    "  (WernerH)-[:DIRECTED]->(RescueDawn)\n",
    "\n",
    "CREATE (TheBirdcage:Movie {title:'The Birdcage', released:1996, tagline:'Come as you are'})\n",
    "CREATE (MikeN:Person {name:'Mike Nichols', born:1931})\n",
    "CREATE\n",
    "  (Robin)-[:ACTED_IN {roles:['Armand Goldman']}]->(TheBirdcage),\n",
    "  (Nathan)-[:ACTED_IN {roles:['Albert Goldman']}]->(TheBirdcage),\n",
    "  (Gene)-[:ACTED_IN {roles:['Sen. Kevin Keeley']}]->(TheBirdcage),\n",
    "  (MikeN)-[:DIRECTED]->(TheBirdcage)\n",
    "\n",
    "CREATE (Unforgiven:Movie {title:'Unforgiven', released:1992, tagline:\"It's a hell of a thing, killing a man\"})\n",
    "CREATE (RichardH:Person {name:'Richard Harris', born:1930})\n",
    "CREATE (ClintE:Person {name:'Clint Eastwood', born:1930})\n",
    "CREATE\n",
    "  (RichardH)-[:ACTED_IN {roles:['English Bob']}]->(Unforgiven),\n",
    "  (ClintE)-[:ACTED_IN {roles:['Bill Munny']}]->(Unforgiven),\n",
    "  (Gene)-[:ACTED_IN {roles:['Little Bill Daggett']}]->(Unforgiven),\n",
    "  (ClintE)-[:DIRECTED]->(Unforgiven)\n",
    "\n",
    "CREATE (JohnnyMnemonic:Movie {title:'Johnny Mnemonic', released:1995, tagline:'The hottest data on earth. In the coolest head in town'})\n",
    "CREATE (Takeshi:Person {name:'Takeshi Kitano', born:1947})\n",
    "CREATE (Dina:Person {name:'Dina Meyer', born:1968})\n",
    "CREATE (IceT:Person {name:'Ice-T', born:1958})\n",
    "CREATE (RobertL:Person {name:'Robert Longo', born:1953})\n",
    "CREATE\n",
    "  (Keanu)-[:ACTED_IN {roles:['Johnny Mnemonic']}]->(JohnnyMnemonic),\n",
    "  (Takeshi)-[:ACTED_IN {roles:['Takahashi']}]->(JohnnyMnemonic),\n",
    "  (Dina)-[:ACTED_IN {roles:['Jane']}]->(JohnnyMnemonic),\n",
    "  (IceT)-[:ACTED_IN {roles:['J-Bone']}]->(JohnnyMnemonic),\n",
    "  (RobertL)-[:DIRECTED]->(JohnnyMnemonic)\n",
    "\n",
    "CREATE (CloudAtlas:Movie {title:'Cloud Atlas', released:2012, tagline:'Everything is connected'})\n",
    "CREATE (HalleB:Person {name:'Halle Berry', born:1966})\n",
    "CREATE (JimB:Person {name:'Jim Broadbent', born:1949})\n",
    "CREATE (TomT:Person {name:'Tom Tykwer', born:1965})\n",
    "CREATE (DavidMitchell:Person {name:'David Mitchell', born:1969})\n",
    "CREATE (StefanArndt:Person {name:'Stefan Arndt', born:1961})\n",
    "CREATE\n",
    "  (TomH)-[:ACTED_IN {roles:['Zachry', 'Dr. Henry Goose', 'Isaac Sachs', 'Dermot Hoggins']}]->(CloudAtlas),\n",
    "  (Hugo)-[:ACTED_IN {roles:['Bill Smoke', 'Haskell Moore', 'Tadeusz Kesselring', 'Nurse Noakes', 'Boardman Mephi', 'Old Georgie']}]->(CloudAtlas),\n",
    "  (HalleB)-[:ACTED_IN {roles:['Luisa Rey', 'Jocasta Ayrs', 'Ovid', 'Meronym']}]->(CloudAtlas),\n",
    "  (JimB)-[:ACTED_IN {roles:['Vyvyan Ayrs', 'Captain Molyneux', 'Timothy Cavendish']}]->(CloudAtlas),\n",
    "  (TomT)-[:DIRECTED]->(CloudAtlas),\n",
    "  (LillyW)-[:DIRECTED]->(CloudAtlas),\n",
    "  (LanaW)-[:DIRECTED]->(CloudAtlas),\n",
    "  (DavidMitchell)-[:WROTE]->(CloudAtlas),\n",
    "  (StefanArndt)-[:PRODUCED]->(CloudAtlas)\n",
    "\n",
    "CREATE (TheDaVinciCode:Movie {title:'The Da Vinci Code', released:2006, tagline:'Break The Codes'})\n",
    "CREATE (IanM:Person {name:'Ian McKellen', born:1939})\n",
    "CREATE (AudreyT:Person {name:'Audrey Tautou', born:1976})\n",
    "CREATE (PaulB:Person {name:'Paul Bettany', born:1971})\n",
    "CREATE (RonH:Person {name:'Ron Howard', born:1954})\n",
    "CREATE\n",
    "  (TomH)-[:ACTED_IN {roles:['Dr. Robert Langdon']}]->(TheDaVinciCode),\n",
    "  (IanM)-[:ACTED_IN {roles:['Sir Leight Teabing']}]->(TheDaVinciCode),\n",
    "  (AudreyT)-[:ACTED_IN {roles:['Sophie Neveu']}]->(TheDaVinciCode),\n",
    "  (PaulB)-[:ACTED_IN {roles:['Silas']}]->(TheDaVinciCode),\n",
    "  (RonH)-[:DIRECTED]->(TheDaVinciCode)\n",
    "\n",
    "CREATE (VforVendetta:Movie {title:'V for Vendetta', released:2006, tagline:'Freedom! Forever!'})\n",
    "CREATE (NatalieP:Person {name:'Natalie Portman', born:1981})\n",
    "CREATE (StephenR:Person {name:'Stephen Rea', born:1946})\n",
    "CREATE (JohnH:Person {name:'John Hurt', born:1940})\n",
    "CREATE (BenM:Person {name: 'Ben Miles', born:1967})\n",
    "CREATE\n",
    "  (Hugo)-[:ACTED_IN {roles:['V']}]->(VforVendetta),\n",
    "  (NatalieP)-[:ACTED_IN {roles:['Evey Hammond']}]->(VforVendetta),\n",
    "  (StephenR)-[:ACTED_IN {roles:['Eric Finch']}]->(VforVendetta),\n",
    "  (JohnH)-[:ACTED_IN {roles:['High Chancellor Adam Sutler']}]->(VforVendetta),\n",
    "  (BenM)-[:ACTED_IN {roles:['Dascomb']}]->(VforVendetta),\n",
    "  (JamesM)-[:DIRECTED]->(VforVendetta),\n",
    "  (LillyW)-[:PRODUCED]->(VforVendetta),\n",
    "  (LanaW)-[:PRODUCED]->(VforVendetta),\n",
    "  (JoelS)-[:PRODUCED]->(VforVendetta),\n",
    "  (LillyW)-[:WROTE]->(VforVendetta),\n",
    "  (LanaW)-[:WROTE]->(VforVendetta)\n",
    "\n",
    "CREATE (SpeedRacer:Movie {title:'Speed Racer', released:2008, tagline:'Speed has no limits'})\n",
    "CREATE (EmileH:Person {name:'Emile Hirsch', born:1985})\n",
    "CREATE (JohnG:Person {name:'John Goodman', born:1960})\n",
    "CREATE (SusanS:Person {name:'Susan Sarandon', born:1946})\n",
    "CREATE (MatthewF:Person {name:'Matthew Fox', born:1966})\n",
    "CREATE (ChristinaR:Person {name:'Christina Ricci', born:1980})\n",
    "CREATE (Rain:Person {name:'Rain', born:1982})\n",
    "CREATE\n",
    "  (EmileH)-[:ACTED_IN {roles:['Speed Racer']}]->(SpeedRacer),\n",
    "  (JohnG)-[:ACTED_IN {roles:['Pops']}]->(SpeedRacer),\n",
    "  (SusanS)-[:ACTED_IN {roles:['Mom']}]->(SpeedRacer),\n",
    "  (MatthewF)-[:ACTED_IN {roles:['Racer X']}]->(SpeedRacer),\n",
    "  (ChristinaR)-[:ACTED_IN {roles:['Trixie']}]->(SpeedRacer),\n",
    "  (Rain)-[:ACTED_IN {roles:['Taejo Togokahn']}]->(SpeedRacer),\n",
    "  (BenM)-[:ACTED_IN {roles:['Cass Jones']}]->(SpeedRacer),\n",
    "  (LillyW)-[:DIRECTED]->(SpeedRacer),\n",
    "  (LanaW)-[:DIRECTED]->(SpeedRacer),\n",
    "  (LillyW)-[:WROTE]->(SpeedRacer),\n",
    "  (LanaW)-[:WROTE]->(SpeedRacer),\n",
    "  (JoelS)-[:PRODUCED]->(SpeedRacer)\n",
    "\n",
    "CREATE (NinjaAssassin:Movie {title:'Ninja Assassin', released:2009, tagline:'Prepare to enter a secret world of assassins'})\n",
    "CREATE (NaomieH:Person {name:'Naomie Harris'})\n",
    "CREATE\n",
    "  (Rain)-[:ACTED_IN {roles:['Raizo']}]->(NinjaAssassin),\n",
    "  (NaomieH)-[:ACTED_IN {roles:['Mika Coretti']}]->(NinjaAssassin),\n",
    "  (RickY)-[:ACTED_IN {roles:['Takeshi']}]->(NinjaAssassin),\n",
    "  (BenM)-[:ACTED_IN {roles:['Ryan Maslow']}]->(NinjaAssassin),\n",
    "  (JamesM)-[:DIRECTED]->(NinjaAssassin),\n",
    "  (LillyW)-[:PRODUCED]->(NinjaAssassin),\n",
    "  (LanaW)-[:PRODUCED]->(NinjaAssassin),\n",
    "  (JoelS)-[:PRODUCED]->(NinjaAssassin)\n",
    "\n",
    "CREATE (TheGreenMile:Movie {title:'The Green Mile', released:1999, tagline:\"Walk a mile you'll never forget.\"})\n",
    "CREATE (MichaelD:Person {name:'Michael Clarke Duncan', born:1957})\n",
    "CREATE (DavidM:Person {name:'David Morse', born:1953})\n",
    "CREATE (SamR:Person {name:'Sam Rockwell', born:1968})\n",
    "CREATE (GaryS:Person {name:'Gary Sinise', born:1955})\n",
    "CREATE (PatriciaC:Person {name:'Patricia Clarkson', born:1959})\n",
    "CREATE (FrankD:Person {name:'Frank Darabont', born:1959})\n",
    "CREATE\n",
    "  (TomH)-[:ACTED_IN {roles:['Paul Edgecomb']}]->(TheGreenMile),\n",
    "  (MichaelD)-[:ACTED_IN {roles:['John Coffey']}]->(TheGreenMile),\n",
    "  (DavidM)-[:ACTED_IN {roles:['Brutus \"Brutal\" Howell']}]->(TheGreenMile),\n",
    "  (BonnieH)-[:ACTED_IN {roles:['Jan Edgecomb']}]->(TheGreenMile),\n",
    "  (JamesC)-[:ACTED_IN {roles:['Warden Hal Moores']}]->(TheGreenMile),\n",
    "  (SamR)-[:ACTED_IN {roles:['\"Wild Bill\" Wharton']}]->(TheGreenMile),\n",
    "  (GaryS)-[:ACTED_IN {roles:['Burt Hammersmith']}]->(TheGreenMile),\n",
    "  (PatriciaC)-[:ACTED_IN {roles:['Melinda Moores']}]->(TheGreenMile),\n",
    "  (FrankD)-[:DIRECTED]->(TheGreenMile)\n",
    "\n",
    "CREATE (FrostNixon:Movie {title:'Frost/Nixon', released:2008, tagline:'400 million people were waiting for the truth.'})\n",
    "CREATE (FrankL:Person {name:'Frank Langella', born:1938})\n",
    "CREATE (MichaelS:Person {name:'Michael Sheen', born:1969})\n",
    "CREATE (OliverP:Person {name:'Oliver Platt', born:1960})\n",
    "CREATE\n",
    "  (FrankL)-[:ACTED_IN {roles:['Richard Nixon']}]->(FrostNixon),\n",
    "  (MichaelS)-[:ACTED_IN {roles:['David Frost']}]->(FrostNixon),\n",
    "  (KevinB)-[:ACTED_IN {roles:['Jack Brennan']}]->(FrostNixon),\n",
    "  (OliverP)-[:ACTED_IN {roles:['Bob Zelnick']}]->(FrostNixon),\n",
    "  (SamR)-[:ACTED_IN {roles:['James Reston, Jr.']}]->(FrostNixon),\n",
    "  (RonH)-[:DIRECTED]->(FrostNixon)\n",
    "\n",
    "CREATE (Hoffa:Movie {title:'Hoffa', released:1992, tagline:\"He didn't want law. He wanted justice.\"})\n",
    "CREATE (DannyD:Person {name:'Danny DeVito', born:1944})\n",
    "CREATE (JohnR:Person {name:'John C. Reilly', born:1965})\n",
    "CREATE\n",
    "  (JackN)-[:ACTED_IN {roles:['Hoffa']}]->(Hoffa),\n",
    "  (DannyD)-[:ACTED_IN {roles:['Robert \"Bobby\" Ciaro']}]->(Hoffa),\n",
    "  (JTW)-[:ACTED_IN {roles:['Frank Fitzsimmons']}]->(Hoffa),\n",
    "  (JohnR)-[:ACTED_IN {roles:['Peter \"Pete\" Connelly']}]->(Hoffa),\n",
    "  (DannyD)-[:DIRECTED]->(Hoffa)\n",
    "\n",
    "CREATE (Apollo13:Movie {title:'Apollo 13', released:1995, tagline:'Houston, we have a problem.'})\n",
    "CREATE (EdH:Person {name:'Ed Harris', born:1950})\n",
    "CREATE (BillPax:Person {name:'Bill Paxton', born:1955})\n",
    "CREATE\n",
    "  (TomH)-[:ACTED_IN {roles:['Jim Lovell']}]->(Apollo13),\n",
    "  (KevinB)-[:ACTED_IN {roles:['Jack Swigert']}]->(Apollo13),\n",
    "  (EdH)-[:ACTED_IN {roles:['Gene Kranz']}]->(Apollo13),\n",
    "  (BillPax)-[:ACTED_IN {roles:['Fred Haise']}]->(Apollo13),\n",
    "  (GaryS)-[:ACTED_IN {roles:['Ken Mattingly']}]->(Apollo13),\n",
    "  (RonH)-[:DIRECTED]->(Apollo13)\n",
    "\n",
    "CREATE (Twister:Movie {title:'Twister', released:1996, tagline:\"Don't Breathe. Don't Look Back.\"})\n",
    "CREATE (PhilipH:Person {name:'Philip Seymour Hoffman', born:1967})\n",
    "CREATE (JanB:Person {name:'Jan de Bont', born:1943})\n",
    "CREATE\n",
    "  (BillPax)-[:ACTED_IN {roles:['Bill Harding']}]->(Twister),\n",
    "  (HelenH)-[:ACTED_IN {roles:['Dr. Jo Harding']}]->(Twister),\n",
    "  (ZachG)-[:ACTED_IN {roles:['Eddie']}]->(Twister),\n",
    "  (PhilipH)-[:ACTED_IN {roles:['Dustin \"Dusty\" Davis']}]->(Twister),\n",
    "  (JanB)-[:DIRECTED]->(Twister)\n",
    "\n",
    "CREATE (CastAway:Movie {title:'Cast Away', released:2000, tagline:'At the edge of the world, his journey begins.'})\n",
    "CREATE (RobertZ:Person {name:'Robert Zemeckis', born:1951})\n",
    "CREATE\n",
    "  (TomH)-[:ACTED_IN {roles:['Chuck Noland']}]->(CastAway),\n",
    "  (HelenH)-[:ACTED_IN {roles:['Kelly Frears']}]->(CastAway),\n",
    "  (RobertZ)-[:DIRECTED]->(CastAway)\n",
    "\n",
    "CREATE (OneFlewOvertheCuckoosNest:Movie {title:\"One Flew Over the Cuckoo's Nest\", released:1975, tagline:\"If he's crazy, what does that make you?\"})\n",
    "CREATE (MilosF:Person {name:'Milos Forman', born:1932})\n",
    "CREATE\n",
    "  (JackN)-[:ACTED_IN {roles:['Randle McMurphy']}]->(OneFlewOvertheCuckoosNest),\n",
    "  (DannyD)-[:ACTED_IN {roles:['Martini']}]->(OneFlewOvertheCuckoosNest),\n",
    "  (MilosF)-[:DIRECTED]->(OneFlewOvertheCuckoosNest)\n",
    "\n",
    "CREATE (SomethingsGottaGive:Movie {title:\"Something's Gotta Give\", released:2003})\n",
    "CREATE (DianeK:Person {name:'Diane Keaton', born:1946})\n",
    "CREATE (NancyM:Person {name:'Nancy Meyers', born:1949})\n",
    "CREATE\n",
    "  (JackN)-[:ACTED_IN {roles:['Harry Sanborn']}]->(SomethingsGottaGive),\n",
    "  (DianeK)-[:ACTED_IN {roles:['Erica Barry']}]->(SomethingsGottaGive),\n",
    "  (Keanu)-[:ACTED_IN {roles:['Julian Mercer']}]->(SomethingsGottaGive),\n",
    "  (NancyM)-[:DIRECTED]->(SomethingsGottaGive),\n",
    "  (NancyM)-[:PRODUCED]->(SomethingsGottaGive),\n",
    "  (NancyM)-[:WROTE]->(SomethingsGottaGive)\n",
    "\n",
    "CREATE (BicentennialMan:Movie {title:'Bicentennial Man', released:1999, tagline:\"One robot's 200 year journey to become an ordinary man.\"})\n",
    "CREATE (ChrisC:Person {name:'Chris Columbus', born:1958})\n",
    "CREATE\n",
    "  (Robin)-[:ACTED_IN {roles:['Andrew Marin']}]->(BicentennialMan),\n",
    "  (OliverP)-[:ACTED_IN {roles:['Rupert Burns']}]->(BicentennialMan),\n",
    "  (ChrisC)-[:DIRECTED]->(BicentennialMan)\n",
    "\n",
    "CREATE (CharlieWilsonsWar:Movie {title:\"Charlie Wilson's War\", released:2007, tagline:\"A stiff drink. A little mascara. A lot of nerve. Who said they couldn't bring down the Soviet empire.\"})\n",
    "CREATE (JuliaR:Person {name:'Julia Roberts', born:1967})\n",
    "CREATE\n",
    "  (TomH)-[:ACTED_IN {roles:['Rep. Charlie Wilson']}]->(CharlieWilsonsWar),\n",
    "  (JuliaR)-[:ACTED_IN {roles:['Joanne Herring']}]->(CharlieWilsonsWar),\n",
    "  (PhilipH)-[:ACTED_IN {roles:['Gust Avrakotos']}]->(CharlieWilsonsWar),\n",
    "  (MikeN)-[:DIRECTED]->(CharlieWilsonsWar)\n",
    "\n",
    "CREATE (ThePolarExpress:Movie {title:'The Polar Express', released:2004, tagline:'This Holiday Season… Believe'})\n",
    "CREATE\n",
    "  (TomH)-[:ACTED_IN {roles:['Hero Boy', 'Father', 'Conductor', 'Hobo', 'Scrooge', 'Santa Claus']}]->(ThePolarExpress),\n",
    "  (RobertZ)-[:DIRECTED]->(ThePolarExpress)\n",
    "\n",
    "CREATE (ALeagueofTheirOwn:Movie {title:'A League of Their Own', released:1992, tagline:'Once in a lifetime you get a chance to do something different.'})\n",
    "CREATE (Madonna:Person {name:'Madonna', born:1954})\n",
    "CREATE (GeenaD:Person {name:'Geena Davis', born:1956})\n",
    "CREATE (LoriP:Person {name:'Lori Petty', born:1963})\n",
    "CREATE (PennyM:Person {name:'Penny Marshall', born:1943})\n",
    "CREATE\n",
    "  (TomH)-[:ACTED_IN {roles:['Jimmy Dugan']}]->(ALeagueofTheirOwn),\n",
    "  (GeenaD)-[:ACTED_IN {roles:['Dottie Hinson']}]->(ALeagueofTheirOwn),\n",
    "  (LoriP)-[:ACTED_IN {roles:['Kit Keller']}]->(ALeagueofTheirOwn),\n",
    "  (RosieO)-[:ACTED_IN {roles:['Doris Murphy']}]->(ALeagueofTheirOwn),\n",
    "  (Madonna)-[:ACTED_IN {roles:['\"All the Way\" Mae Mordabito']}]->(ALeagueofTheirOwn),\n",
    "  (BillPax)-[:ACTED_IN {roles:['Bob Hinson']}]->(ALeagueofTheirOwn),\n",
    "  (PennyM)-[:DIRECTED]->(ALeagueofTheirOwn)\n",
    "\n",
    "CREATE (PaulBlythe:Person {name:'Paul Blythe'})\n",
    "CREATE (AngelaScope:Person {name:'Angela Scope'})\n",
    "CREATE (JessicaThompson:Person {name:'Jessica Thompson'})\n",
    "CREATE (JamesThompson:Person {name:'James Thompson'})\n",
    "\n",
    "CREATE\n",
    "  (JamesThompson)-[:FOLLOWS]->(JessicaThompson),\n",
    "  (AngelaScope)-[:FOLLOWS]->(JessicaThompson),\n",
    "  (PaulBlythe)-[:FOLLOWS]->(AngelaScope)\n",
    "\n",
    "CREATE\n",
    "  (JessicaThompson)-[:REVIEWED {summary:'An amazing journey', rating:95}]->(CloudAtlas),\n",
    "  (JessicaThompson)-[:REVIEWED {summary:'Silly, but fun', rating:65}]->(TheReplacements),\n",
    "  (JamesThompson)-[:REVIEWED {summary:'The coolest football movie ever', rating:100}]->(TheReplacements),\n",
    "  (AngelaScope)-[:REVIEWED {summary:'Pretty funny at times', rating:62}]->(TheReplacements),\n",
    "  (JessicaThompson)-[:REVIEWED {summary:'Dark, but compelling', rating:85}]->(Unforgiven),\n",
    "  (JessicaThompson)-[:REVIEWED {summary:\"Slapstick redeemed only by the Robin Williams and Gene Hackman's stellar performances\", rating:45}]->(TheBirdcage),\n",
    "  (JessicaThompson)-[:REVIEWED {summary:'A solid romp', rating:68}]->(TheDaVinciCode),\n",
    "  (JamesThompson)-[:REVIEWED {summary:'Fun, but a little far fetched', rating:65}]->(TheDaVinciCode),\n",
    "  (JessicaThompson)-[:REVIEWED {summary:'You had me at Jerry', rating:92}]->(JerryMaguire)\n"
   ]
  },
  {
   "cell_type": "markdown",
   "metadata": {},
   "source": [
    "### Visualizando o Grafo (apenas para ilustração)"
   ]
  },
  {
   "cell_type": "code",
   "execution_count": null,
   "metadata": {},
   "outputs": [],
   "source": [
    "import sys; sys.path.insert(0, '../resources/python/')\n",
    "from datasci4health.graphdrawer.visgraph import draw\n",
    "from py2neo import Graph\n",
    "!mkdir -p figure && mkdir -p graphs\n",
    "graph = Graph(\"bolt://127.0.0.1:7687\")\n",
    "draw(graph, {}, physics=True)"
   ]
  },
  {
   "cell_type": "markdown",
   "metadata": {},
   "source": [
    "### Representação do Schema\n",
    "\n",
    "A imagem abaixo representa o schema do grafo criado anteriormente.\n",
    "\n",
    "<img src=\"./resources/graph.png\">"
   ]
  },
  {
   "cell_type": "markdown",
   "metadata": {},
   "source": [
    "## [Questão Exemplo] Em que ano nasceu a pessoa com nome Tom Hanks?"
   ]
  },
  {
   "cell_type": "code",
   "execution_count": null,
   "metadata": {},
   "outputs": [],
   "source": [
    "%%cypher\n",
    "\n",
    "MATCH (node)\n",
    "WHERE node.name='Tom Hanks'\n",
    "RETURN node\n"
   ]
  },
  {
   "cell_type": "markdown",
   "metadata": {},
   "source": [
    "## [Questão Exemplo] Encontre o filme com nome Cloud Atlas"
   ]
  },
  {
   "cell_type": "code",
   "execution_count": null,
   "metadata": {},
   "outputs": [],
   "source": [
    "%%cypher\n",
    "\n",
    "MATCH (node:Movie)\n",
    "WHERE node.title='Cloud Atlas'\n",
    "RETURN node\n"
   ]
  },
  {
   "cell_type": "markdown",
   "metadata": {},
   "source": [
    "## [Questão Exemplo]  Liste apenas o nome de 10 filmes"
   ]
  },
  {
   "cell_type": "code",
   "execution_count": null,
   "metadata": {},
   "outputs": [],
   "source": [
    "%%cypher\n",
    "\n",
    "MATCH (node:Movie)\n",
    "RETURN node.title LIMIT 10\n"
   ]
  },
  {
   "cell_type": "markdown",
   "metadata": {},
   "source": [
    "## [Questão Exemplo] Liste todos os filmes em que Tom Hanks atuou"
   ]
  },
  {
   "cell_type": "code",
   "execution_count": null,
   "metadata": {},
   "outputs": [],
   "source": [
    "%%cypher\n",
    "\n",
    "MATCH (node)-[:ACTED_IN]->(node2:Movie)\n",
    "WHERE node.name='Tom Hanks'\n",
    "RETURN node2.title as Titulo_do_Filme\n"
   ]
  },
  {
   "cell_type": "markdown",
   "metadata": {},
   "source": [
    "## [Questão 1] Liste o nome de até 10 filmes lançados entre 1990 e 1999"
   ]
  },
  {
   "cell_type": "code",
   "execution_count": null,
   "metadata": {},
   "outputs": [],
   "source": [
    "%%cypher\n"
   ]
  },
  {
   "cell_type": "markdown",
   "metadata": {},
   "source": [
    "## [Questão 2] Qual(is) o(s) nome(s) do(s) diretor(es) do filme Cloud Atlas?"
   ]
  },
  {
   "cell_type": "code",
   "execution_count": null,
   "metadata": {},
   "outputs": [],
   "source": [
    "%%cypher\n"
   ]
  },
  {
   "cell_type": "markdown",
   "metadata": {},
   "source": [
    "## [Questão 3] Quais são os nomes do outros atores que atuaram no filme Cloud Atlas?"
   ]
  },
  {
   "cell_type": "code",
   "execution_count": null,
   "metadata": {},
   "outputs": [],
   "source": [
    "%%cypher\n"
   ]
  },
  {
   "cell_type": "markdown",
   "metadata": {},
   "source": [
    "## [Questão 4] Existe algum filme em que o Tom Hanks tenha dirigido e atuado? Se sim, qual o nome e ano de lançamento?"
   ]
  },
  {
   "cell_type": "code",
   "execution_count": null,
   "metadata": {},
   "outputs": [],
   "source": [
    "%%cypher\n"
   ]
  },
  {
   "cell_type": "markdown",
   "metadata": {},
   "source": [
    "## [Questão 5] Liste o nome de 10 diretores que dirigiram filmes em que o Tom Hanks atuou"
   ]
  },
  {
   "cell_type": "markdown",
   "metadata": {},
   "source": [
    "dica:\n",
    "``` cypher\n",
    "MATCH (a)-[:ACTED_IN]->(m)<-[:DIRECTED]-(d) RETURN a,m,d LIMIT 10\n",
    "```                                                                           "
   ]
  },
  {
   "cell_type": "code",
   "execution_count": null,
   "metadata": {},
   "outputs": [],
   "source": [
    "%%cypher\n"
   ]
  },
  {
   "cell_type": "markdown",
   "metadata": {},
   "source": [
    "## [Questão 6] Existe algum filme em que ambos Kevin Bacon e Tom Cruise tenham atuado? Se sim, qual o nome e ano de laçamento?"
   ]
  },
  {
   "cell_type": "code",
   "execution_count": null,
   "metadata": {},
   "outputs": [],
   "source": [
    "%%cypher\n"
   ]
  },
  {
   "cell_type": "markdown",
   "metadata": {},
   "source": [
    "## [Questão 7] Liste o nome de 10 pessoas que também atuaram em filmes com o Tom Hanks"
   ]
  },
  {
   "cell_type": "code",
   "execution_count": null,
   "metadata": {},
   "outputs": [],
   "source": [
    "%%cypher\n"
   ]
  },
  {
   "cell_type": "markdown",
   "metadata": {},
   "source": [
    "## [Questão extra] Quem mais produziu filmes do Tom Hanks e do Kevin Bacon?"
   ]
  },
  {
   "cell_type": "code",
   "execution_count": null,
   "metadata": {},
   "outputs": [],
   "source": [
    "%%cypher\n"
   ]
  },
  {
   "cell_type": "markdown",
   "metadata": {},
   "source": [
    "## [Questão Extra] Quem tem mais seguidores?"
   ]
  },
  {
   "cell_type": "code",
   "execution_count": null,
   "metadata": {},
   "outputs": [],
   "source": [
    "%%cypher\n"
   ]
  },
  {
   "cell_type": "markdown",
   "metadata": {},
   "source": [
    "## [Questão Extra] Liste o(s) nomeQ(s) da(s) pessoa(s) que produziram, escreveram e dirigiram o mesmo filme"
   ]
  },
  {
   "cell_type": "code",
   "execution_count": null,
   "metadata": {},
   "outputs": [],
   "source": [
    "%%cypher\n"
   ]
  },
  {
   "cell_type": "markdown",
   "metadata": {},
   "source": [
    "## [Questão Extra] Qual a média de notas (reviewed) do filme The Replacements?"
   ]
  },
  {
   "cell_type": "code",
   "execution_count": null,
   "metadata": {},
   "outputs": [],
   "source": []
  },
  {
   "cell_type": "markdown",
   "metadata": {},
   "source": [
    "## Conhecendo um pouco mais Cypher\n",
    "\n",
    "https://neo4j.com/docs/cypher-manual/3.5/"
   ]
  },
  {
   "cell_type": "markdown",
   "metadata": {},
   "source": [
    "## Filmes e atores com 4 nós de separação de Kevin Bacon\n",
    "``` cypher\n",
    "MATCH (bacon:Person {name:\"Kevin Bacon\"})-[*1..4]-(hollywood)\n",
    "RETURN DISTINCT hollywood\n",
    "```\n"
   ]
  },
  {
   "cell_type": "markdown",
   "metadata": {},
   "source": [
    "## O menor caminho entre Kevin Bacon e Meg Ryan\n",
    "``` cypher\n",
    "MATCH p=shortestPath(\n",
    "  (bacon:Person {name:\"Kevin Bacon\"})-[*]-(meg:Person {name:\"Meg Ryan\"})\n",
    ")\n",
    "RETURN p\n",
    "```"
   ]
  },
  {
   "cell_type": "code",
   "execution_count": null,
   "metadata": {},
   "outputs": [],
   "source": []
  }
 ],
 "metadata": {
  "kernelspec": {
   "display_name": "Python 3",
   "language": "python",
   "name": "python3"
  },
  "language_info": {
   "codemirror_mode": {
    "name": "ipython",
    "version": 3
   },
   "file_extension": ".py",
   "mimetype": "text/x-python",
   "name": "python",
   "nbconvert_exporter": "python",
   "pygments_lexer": "ipython3",
   "version": "3.10.14"
  }
 },
 "nbformat": 4,
 "nbformat_minor": 4
}
