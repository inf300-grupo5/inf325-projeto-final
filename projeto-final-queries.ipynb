{
 "cells": [
  {
   "cell_type": "markdown",
   "id": "37ebe135-e9ce-4ca9-99e0-65f7aafc79ed",
   "metadata": {},
   "source": [
    "# Queries utilizadas pelo grupo"
   ]
  },
  {
   "cell_type": "code",
   "execution_count": 1,
   "id": "21d5131d-c835-496b-a9b9-40599464c043",
   "metadata": {
    "tags": []
   },
   "outputs": [],
   "source": [
    "%load_ext sql"
   ]
  },
  {
   "cell_type": "code",
   "execution_count": 2,
   "id": "0d128e63-21e5-4ae4-8fc8-b9263ec0159c",
   "metadata": {
    "tags": []
   },
   "outputs": [
    {
     "data": {
      "text/html": [
       "<span style=\"None\">Connecting to &#x27;postgresql://postgres@localhost:5432/ecommerce&#x27;</span>"
      ],
      "text/plain": [
       "Connecting to 'postgresql://postgres@localhost:5432/ecommerce'"
      ]
     },
     "metadata": {},
     "output_type": "display_data"
    }
   ],
   "source": [
    "%sql postgresql://postgres@localhost:5432/ecommerce"
   ]
  },
  {
   "cell_type": "code",
   "execution_count": 5,
   "id": "304a8952-a8d0-4286-9234-2afe8c067adb",
   "metadata": {
    "tags": []
   },
   "outputs": [
    {
     "data": {
      "text/html": [
       "<span style=\"None\">Running query in &#x27;postgresql://postgres@localhost:5432/ecommerce&#x27;</span>"
      ],
      "text/plain": [
       "Running query in 'postgresql://postgres@localhost:5432/ecommerce'"
      ]
     },
     "metadata": {},
     "output_type": "display_data"
    },
    {
     "data": {
      "text/html": [
       "<span style=\"color: green\">272 rows affected.</span>"
      ],
      "text/plain": [
       "272 rows affected."
      ]
     },
     "metadata": {},
     "output_type": "display_data"
    },
    {
     "data": {
      "text/html": [
       "<table>\n",
       "    <thead>\n",
       "        <tr>\n",
       "            <th>id</th>\n",
       "            <th>title</th>\n",
       "            <th>publisher</th>\n",
       "            <th>parental_guidance</th>\n",
       "            <th>release_date</th>\n",
       "            <th>updated_at</th>\n",
       "            <th>price</th>\n",
       "            <th>genre</th>\n",
       "            <th>platform</th>\n",
       "            <th>system</th>\n",
       "            <th>discount</th>\n",
       "        </tr>\n",
       "    </thead>\n",
       "    <tbody>\n",
       "        <tr>\n",
       "            <td>7d316f6b-ff20-41e4-a334-d03e1fd97c5e</td>\n",
       "            <td>The Adventures of LinShanHai - Chapter5:Three Trees</td>\n",
       "            <td>QZQ Studio</td>\n",
       "            <td>12</td>\n",
       "            <td>2023-06-02</td>\n",
       "            <td>2024-09-19</td>\n",
       "            <td>699</td>\n",
       "            <td>Adventure</td>\n",
       "            <td>None</td>\n",
       "            <td>nintendo</td>\n",
       "            <td>5.0</td>\n",
       "        </tr>\n",
       "        <tr>\n",
       "            <td>7d001b71-8635-44d4-8e43-d93289474a00</td>\n",
       "            <td>Deep Sea Rhapsody</td>\n",
       "            <td>YeShu  Wu</td>\n",
       "            <td>10</td>\n",
       "            <td>2023-06-08</td>\n",
       "            <td>2024-09-19</td>\n",
       "            <td>3299</td>\n",
       "            <td>Action</td>\n",
       "            <td>None</td>\n",
       "            <td>playstation</td>\n",
       "            <td>5.0</td>\n",
       "        </tr>\n",
       "        <tr>\n",
       "            <td>f1c211c1-930a-4753-bb75-6e8b06acc2b5</td>\n",
       "            <td>Perfect Ninja Painter</td>\n",
       "            <td>SilenGames</td>\n",
       "            <td>l</td>\n",
       "            <td>2023-12-18</td>\n",
       "            <td>2024-09-19</td>\n",
       "            <td>1699</td>\n",
       "            <td>Adventure</td>\n",
       "            <td>None</td>\n",
       "            <td>playstation</td>\n",
       "            <td>5.0</td>\n",
       "        </tr>\n",
       "        <tr>\n",
       "            <td>559a8a1f-85f9-4413-a51e-520bd97beaf6</td>\n",
       "            <td>Astra And The New Constellation</td>\n",
       "            <td>Llocin7 Digital</td>\n",
       "            <td>l</td>\n",
       "            <td>2023-06-12</td>\n",
       "            <td>2024-09-19</td>\n",
       "            <td>1665</td>\n",
       "            <td>Action</td>\n",
       "            <td>None</td>\n",
       "            <td>pc</td>\n",
       "            <td>5.0</td>\n",
       "        </tr>\n",
       "        <tr>\n",
       "            <td>bea59f62-387b-4840-b9cc-d6453a3746bf</td>\n",
       "            <td>目盲/Blind - 逢夏</td>\n",
       "            <td>GOCORE</td>\n",
       "            <td>10</td>\n",
       "            <td>2023-06-16</td>\n",
       "            <td>2024-09-19</td>\n",
       "            <td>699</td>\n",
       "            <td>Adventure</td>\n",
       "            <td>None</td>\n",
       "            <td>nintendo</td>\n",
       "            <td>5.0</td>\n",
       "        </tr>\n",
       "        <tr>\n",
       "            <td>511a2641-63d1-436c-beed-c755a42f7fbe</td>\n",
       "            <td>Idle: Multipliers</td>\n",
       "            <td>PELMENI GAMES</td>\n",
       "            <td>l</td>\n",
       "            <td>2023-05-25</td>\n",
       "            <td>2024-09-19</td>\n",
       "            <td>1379</td>\n",
       "            <td>Indie</td>\n",
       "            <td>None</td>\n",
       "            <td>nintendo</td>\n",
       "            <td>5.0</td>\n",
       "        </tr>\n",
       "        <tr>\n",
       "            <td>f3790353-4f3b-43eb-8972-0c38957db350</td>\n",
       "            <td>Lost In The Shadows</td>\n",
       "            <td>Malastin</td>\n",
       "            <td>12</td>\n",
       "            <td>2024-01-05</td>\n",
       "            <td>2024-09-19</td>\n",
       "            <td>1049</td>\n",
       "            <td>Action</td>\n",
       "            <td>None</td>\n",
       "            <td>nintendo</td>\n",
       "            <td>5.0</td>\n",
       "        </tr>\n",
       "        <tr>\n",
       "            <td>6aeb3889-bb33-4949-a1eb-2d96c84ffe6c</td>\n",
       "            <td>Protect the Planet</td>\n",
       "            <td>Jether</td>\n",
       "            <td>l</td>\n",
       "            <td>2023-12-25</td>\n",
       "            <td>2024-09-19</td>\n",
       "            <td>349</td>\n",
       "            <td>Indie</td>\n",
       "            <td>None</td>\n",
       "            <td>pc</td>\n",
       "            <td>5.0</td>\n",
       "        </tr>\n",
       "        <tr>\n",
       "            <td>a48e809f-e37b-465c-b517-8794df64e877</td>\n",
       "            <td>Roman Conquest: Rise to Power</td>\n",
       "            <td>LOMS Studio</td>\n",
       "            <td>l</td>\n",
       "            <td>2024-04-26</td>\n",
       "            <td>2024-09-19</td>\n",
       "            <td>1699</td>\n",
       "            <td>Adventure</td>\n",
       "            <td>None</td>\n",
       "            <td>nintendo</td>\n",
       "            <td>5.0</td>\n",
       "        </tr>\n",
       "        <tr>\n",
       "            <td>3e1236f0-9464-48c2-beb4-fa9bd6c9857c</td>\n",
       "            <td>胡服騎射 HuFuQiShe</td>\n",
       "            <td>SWYG</td>\n",
       "            <td>14</td>\n",
       "            <td>2023-06-21</td>\n",
       "            <td>2024-09-19</td>\n",
       "            <td>1049</td>\n",
       "            <td>Action</td>\n",
       "            <td>None</td>\n",
       "            <td>playstation</td>\n",
       "            <td>5.0</td>\n",
       "        </tr>\n",
       "    </tbody>\n",
       "</table>\n",
       "<span style=\"font-style:italic;text-align:center;\">Truncated to <a href=\"https://jupysql.ploomber.io/en/latest/api/configuration.html#displaylimit\">displaylimit</a> of 10.</span>"
      ],
      "text/plain": [
       "+--------------------------------------+-----------------------------------------------------+-----------------+-------------------+--------------+------------+-------+-----------+----------+-------------+----------+\n",
       "|                  id                  |                        title                        |    publisher    | parental_guidance | release_date | updated_at | price |   genre   | platform |    system   | discount |\n",
       "+--------------------------------------+-----------------------------------------------------+-----------------+-------------------+--------------+------------+-------+-----------+----------+-------------+----------+\n",
       "| 7d316f6b-ff20-41e4-a334-d03e1fd97c5e | The Adventures of LinShanHai - Chapter5:Three Trees |    QZQ Studio   |         12        |  2023-06-02  | 2024-09-19 |  699  | Adventure |   None   |   nintendo  |   5.0    |\n",
       "| 7d001b71-8635-44d4-8e43-d93289474a00 |                  Deep Sea Rhapsody                  |    YeShu  Wu    |         10        |  2023-06-08  | 2024-09-19 |  3299 |   Action  |   None   | playstation |   5.0    |\n",
       "| f1c211c1-930a-4753-bb75-6e8b06acc2b5 |                Perfect Ninja Painter                |    SilenGames   |         l         |  2023-12-18  | 2024-09-19 |  1699 | Adventure |   None   | playstation |   5.0    |\n",
       "| 559a8a1f-85f9-4413-a51e-520bd97beaf6 |           Astra And The New Constellation           | Llocin7 Digital |         l         |  2023-06-12  | 2024-09-19 |  1665 |   Action  |   None   |      pc     |   5.0    |\n",
       "| bea59f62-387b-4840-b9cc-d6453a3746bf |                  目盲/Blind - 逢夏                  |      GOCORE     |         10        |  2023-06-16  | 2024-09-19 |  699  | Adventure |   None   |   nintendo  |   5.0    |\n",
       "| 511a2641-63d1-436c-beed-c755a42f7fbe |                  Idle: Multipliers                  |  PELMENI GAMES  |         l         |  2023-05-25  | 2024-09-19 |  1379 |   Indie   |   None   |   nintendo  |   5.0    |\n",
       "| f3790353-4f3b-43eb-8972-0c38957db350 |                 Lost In The Shadows                 |     Malastin    |         12        |  2024-01-05  | 2024-09-19 |  1049 |   Action  |   None   |   nintendo  |   5.0    |\n",
       "| 6aeb3889-bb33-4949-a1eb-2d96c84ffe6c |                  Protect the Planet                 |      Jether     |         l         |  2023-12-25  | 2024-09-19 |  349  |   Indie   |   None   |      pc     |   5.0    |\n",
       "| a48e809f-e37b-465c-b517-8794df64e877 |            Roman Conquest: Rise to Power            |   LOMS Studio   |         l         |  2024-04-26  | 2024-09-19 |  1699 | Adventure |   None   |   nintendo  |   5.0    |\n",
       "| 3e1236f0-9464-48c2-beb4-fa9bd6c9857c |                  胡服騎射 HuFuQiShe                 |       SWYG      |         14        |  2023-06-21  | 2024-09-19 |  1049 |   Action  |   None   | playstation |   5.0    |\n",
       "+--------------------------------------+-----------------------------------------------------+-----------------+-------------------+--------------+------------+-------+-----------+----------+-------------+----------+\n",
       "Truncated to displaylimit of 10."
      ]
     },
     "execution_count": 5,
     "metadata": {},
     "output_type": "execute_result"
    }
   ],
   "source": [
    "%%sql\n",
    "SELECT * FROM products;"
   ]
  },
  {
   "cell_type": "markdown",
   "id": "31fecfa5-fcc6-4d6d-ad4d-f2b88c27646d",
   "metadata": {
    "tags": []
   },
   "source": [
    "# Query para pegar os jogos mais vendidos"
   ]
  },
  {
   "cell_type": "code",
   "execution_count": 4,
   "id": "e87cfce3-41c0-46ef-b983-0c3d923b1e3e",
   "metadata": {
    "tags": []
   },
   "outputs": [
    {
     "data": {
      "text/html": [
       "<span style=\"None\">Running query in &#x27;postgresql://postgres@localhost:5432/ecommerce&#x27;</span>"
      ],
      "text/plain": [
       "Running query in 'postgresql://postgres@localhost:5432/ecommerce'"
      ]
     },
     "metadata": {},
     "output_type": "display_data"
    },
    {
     "data": {
      "text/html": [
       "<span style=\"color: green\">271 rows affected.</span>"
      ],
      "text/plain": [
       "271 rows affected."
      ]
     },
     "metadata": {},
     "output_type": "display_data"
    },
    {
     "data": {
      "text/html": [
       "<table>\n",
       "    <thead>\n",
       "        <tr>\n",
       "            <th>id</th>\n",
       "            <th>title</th>\n",
       "            <th>parental_guidance</th>\n",
       "            <th>quantity</th>\n",
       "        </tr>\n",
       "    </thead>\n",
       "    <tbody>\n",
       "        <tr>\n",
       "            <td>1cb0f7eb-d33e-4af6-8c5b-7260568a7981</td>\n",
       "            <td>subway</td>\n",
       "            <td>14</td>\n",
       "            <td>15</td>\n",
       "        </tr>\n",
       "        <tr>\n",
       "            <td>475215b6-37f4-4549-b2d9-5a148fc4013c</td>\n",
       "            <td>StreamAnimations</td>\n",
       "            <td>l</td>\n",
       "            <td>14</td>\n",
       "        </tr>\n",
       "        <tr>\n",
       "            <td>1d87404b-ce78-4bea-8b0f-41d86360bb1a</td>\n",
       "            <td>鬪伐</td>\n",
       "            <td>12</td>\n",
       "            <td>12</td>\n",
       "        </tr>\n",
       "        <tr>\n",
       "            <td>514273e9-842e-4e8d-998a-49f5e2a1c14a</td>\n",
       "            <td>Owner</td>\n",
       "            <td>l</td>\n",
       "            <td>11</td>\n",
       "        </tr>\n",
       "        <tr>\n",
       "            <td>029b0b23-7591-41c3-a934-ce4b56a87d8f</td>\n",
       "            <td>Tom Clancy’s Rainbow Six Extraction</td>\n",
       "            <td>16</td>\n",
       "            <td>11</td>\n",
       "        </tr>\n",
       "        <tr>\n",
       "            <td>ca982d8b-fb11-4ee1-8a60-2c7b30d28296</td>\n",
       "            <td>Nolgorb's Ordeal</td>\n",
       "            <td>l</td>\n",
       "            <td>11</td>\n",
       "        </tr>\n",
       "        <tr>\n",
       "            <td>90f0cec1-2b88-4d3e-a6fb-a457ac1c7670</td>\n",
       "            <td>RPG Maker MV - Winlu Spaceship Tileset</td>\n",
       "            <td>l</td>\n",
       "            <td>11</td>\n",
       "        </tr>\n",
       "        <tr>\n",
       "            <td>9e5d9798-80be-40c2-948c-f129dfd8b053</td>\n",
       "            <td>Janko</td>\n",
       "            <td>10</td>\n",
       "            <td>11</td>\n",
       "        </tr>\n",
       "        <tr>\n",
       "            <td>71be5c98-7dd6-49e2-8c05-e24e7bc80a08</td>\n",
       "            <td>Absolute Fear -AOONI- / 最恐 -青鬼-</td>\n",
       "            <td>14</td>\n",
       "            <td>11</td>\n",
       "        </tr>\n",
       "        <tr>\n",
       "            <td>34050ace-ff91-4e2e-8084-087f4d44dd83</td>\n",
       "            <td>April 24th</td>\n",
       "            <td>16</td>\n",
       "            <td>10</td>\n",
       "        </tr>\n",
       "    </tbody>\n",
       "</table>\n",
       "<span style=\"font-style:italic;text-align:center;\">Truncated to <a href=\"https://jupysql.ploomber.io/en/latest/api/configuration.html#displaylimit\">displaylimit</a> of 10.</span>"
      ],
      "text/plain": [
       "+--------------------------------------+----------------------------------------+-------------------+----------+\n",
       "|                  id                  |                 title                  | parental_guidance | quantity |\n",
       "+--------------------------------------+----------------------------------------+-------------------+----------+\n",
       "| 1cb0f7eb-d33e-4af6-8c5b-7260568a7981 |                 subway                 |         14        |    15    |\n",
       "| 475215b6-37f4-4549-b2d9-5a148fc4013c |            StreamAnimations            |         l         |    14    |\n",
       "| 1d87404b-ce78-4bea-8b0f-41d86360bb1a |                  鬪伐                  |         12        |    12    |\n",
       "| 514273e9-842e-4e8d-998a-49f5e2a1c14a |                 Owner                  |         l         |    11    |\n",
       "| 029b0b23-7591-41c3-a934-ce4b56a87d8f |  Tom Clancy’s Rainbow Six Extraction   |         16        |    11    |\n",
       "| ca982d8b-fb11-4ee1-8a60-2c7b30d28296 |            Nolgorb's Ordeal            |         l         |    11    |\n",
       "| 90f0cec1-2b88-4d3e-a6fb-a457ac1c7670 | RPG Maker MV - Winlu Spaceship Tileset |         l         |    11    |\n",
       "| 9e5d9798-80be-40c2-948c-f129dfd8b053 |                 Janko                  |         10        |    11    |\n",
       "| 71be5c98-7dd6-49e2-8c05-e24e7bc80a08 |  Absolute Fear -AOONI- / 最恐 -青鬼-   |         14        |    11    |\n",
       "| 34050ace-ff91-4e2e-8084-087f4d44dd83 |               April 24th               |         16        |    10    |\n",
       "+--------------------------------------+----------------------------------------+-------------------+----------+\n",
       "Truncated to displaylimit of 10."
      ]
     },
     "execution_count": 4,
     "metadata": {},
     "output_type": "execute_result"
    }
   ],
   "source": [
    "%%sql\n",
    "SELECT\n",
    "    p.id,\n",
    "    p.title,\n",
    "    p.parental_guidance,\n",
    "    COUNT(oi.product_id) AS quantity\n",
    "FROM\n",
    "    products p\n",
    "    INNER JOIN orders_items oi ON p.id = oi.product_id\n",
    "GROUP BY\n",
    "    p.id,\n",
    "    oi.product_id\n",
    "ORDER BY\n",
    "    quantity DESC;"
   ]
  },
  {
   "cell_type": "markdown",
   "id": "e869c32e-4776-4d1e-8850-5db9114d1c8b",
   "metadata": {},
   "source": [
    "# Jogos que não foram vendidos para fazer promoção"
   ]
  },
  {
   "cell_type": "code",
   "execution_count": 7,
   "id": "c1b594a7-2d72-4fcf-a57d-78ebdbd86e00",
   "metadata": {
    "tags": []
   },
   "outputs": [
    {
     "data": {
      "text/html": [
       "<span style=\"None\">Running query in &#x27;postgresql://postgres@localhost:5432/ecommerce&#x27;</span>"
      ],
      "text/plain": [
       "Running query in 'postgresql://postgres@localhost:5432/ecommerce'"
      ]
     },
     "metadata": {},
     "output_type": "display_data"
    },
    {
     "data": {
      "text/html": [
       "<span style=\"color: green\">28 rows affected.</span>"
      ],
      "text/plain": [
       "28 rows affected."
      ]
     },
     "metadata": {},
     "output_type": "display_data"
    },
    {
     "data": {
      "text/html": [
       "<table>\n",
       "    <thead>\n",
       "        <tr>\n",
       "            <th>id</th>\n",
       "            <th>title</th>\n",
       "            <th>parental_guidance</th>\n",
       "            <th>quantity</th>\n",
       "        </tr>\n",
       "    </thead>\n",
       "    <tbody>\n",
       "        <tr>\n",
       "            <td>08c1c477-c52e-4a86-9acb-3369dfdb0ece</td>\n",
       "            <td>Lord of the Click: Interstellar Wars</td>\n",
       "            <td>l</td>\n",
       "            <td>0</td>\n",
       "        </tr>\n",
       "        <tr>\n",
       "            <td>0c2169bd-1aba-41c6-b68f-37be246368fc</td>\n",
       "            <td>Perfect Ninja Painter</td>\n",
       "            <td>l</td>\n",
       "            <td>0</td>\n",
       "        </tr>\n",
       "        <tr>\n",
       "            <td>1aa20074-825f-4832-97ce-e7ff1ee356ee</td>\n",
       "            <td>3D PUZZLE - PORT</td>\n",
       "            <td>l</td>\n",
       "            <td>0</td>\n",
       "        </tr>\n",
       "        <tr>\n",
       "            <td>2bfb91b2-e85b-4b91-ad38-38ab841a8536</td>\n",
       "            <td>Janko</td>\n",
       "            <td>10</td>\n",
       "            <td>0</td>\n",
       "        </tr>\n",
       "        <tr>\n",
       "            <td>2e8edcba-80f3-4034-84a2-f4ce4659df00</td>\n",
       "            <td>Forget Something?</td>\n",
       "            <td>14</td>\n",
       "            <td>0</td>\n",
       "        </tr>\n",
       "        <tr>\n",
       "            <td>350fa797-2cba-4e77-80cf-daa838832ff9</td>\n",
       "            <td>Game Of Evolution - Season 1</td>\n",
       "            <td>18</td>\n",
       "            <td>0</td>\n",
       "        </tr>\n",
       "        <tr>\n",
       "            <td>3e7589d9-67ad-4a7c-b6e7-66033418df5d</td>\n",
       "            <td>Sophias Pizza Restaurant</td>\n",
       "            <td>l</td>\n",
       "            <td>0</td>\n",
       "        </tr>\n",
       "        <tr>\n",
       "            <td>442389ed-ff11-4f3b-a2a3-d971403e1c9c</td>\n",
       "            <td>Speakeasy</td>\n",
       "            <td>18</td>\n",
       "            <td>0</td>\n",
       "        </tr>\n",
       "        <tr>\n",
       "            <td>5b2a582e-3106-4366-af85-d1bf77b705b3</td>\n",
       "            <td>Suicide Guy: The Lost Dreams</td>\n",
       "            <td>12</td>\n",
       "            <td>0</td>\n",
       "        </tr>\n",
       "        <tr>\n",
       "            <td>6278d982-b57b-4010-996c-2e0422d2ff07</td>\n",
       "            <td>The Adventures of LinShanHai - Chapter5:Three Trees</td>\n",
       "            <td>12</td>\n",
       "            <td>0</td>\n",
       "        </tr>\n",
       "    </tbody>\n",
       "</table>\n",
       "<span style=\"font-style:italic;text-align:center;\">Truncated to <a href=\"https://jupysql.ploomber.io/en/latest/api/configuration.html#displaylimit\">displaylimit</a> of 10.</span>"
      ],
      "text/plain": [
       "+--------------------------------------+-----------------------------------------------------+-------------------+----------+\n",
       "|                  id                  |                        title                        | parental_guidance | quantity |\n",
       "+--------------------------------------+-----------------------------------------------------+-------------------+----------+\n",
       "| 08c1c477-c52e-4a86-9acb-3369dfdb0ece |         Lord of the Click: Interstellar Wars        |         l         |    0     |\n",
       "| 0c2169bd-1aba-41c6-b68f-37be246368fc |                Perfect Ninja Painter                |         l         |    0     |\n",
       "| 1aa20074-825f-4832-97ce-e7ff1ee356ee |                   3D PUZZLE - PORT                  |         l         |    0     |\n",
       "| 2bfb91b2-e85b-4b91-ad38-38ab841a8536 |                        Janko                        |         10        |    0     |\n",
       "| 2e8edcba-80f3-4034-84a2-f4ce4659df00 |                  Forget Something?                  |         14        |    0     |\n",
       "| 350fa797-2cba-4e77-80cf-daa838832ff9 |             Game Of Evolution - Season 1            |         18        |    0     |\n",
       "| 3e7589d9-67ad-4a7c-b6e7-66033418df5d |               Sophias Pizza Restaurant              |         l         |    0     |\n",
       "| 442389ed-ff11-4f3b-a2a3-d971403e1c9c |                      Speakeasy                      |         18        |    0     |\n",
       "| 5b2a582e-3106-4366-af85-d1bf77b705b3 |             Suicide Guy: The Lost Dreams            |         12        |    0     |\n",
       "| 6278d982-b57b-4010-996c-2e0422d2ff07 | The Adventures of LinShanHai - Chapter5:Three Trees |         12        |    0     |\n",
       "+--------------------------------------+-----------------------------------------------------+-------------------+----------+\n",
       "Truncated to displaylimit of 10."
      ]
     },
     "execution_count": 7,
     "metadata": {},
     "output_type": "execute_result"
    }
   ],
   "source": [
    "%%sql\n",
    "SELECT\n",
    "    p.id,\n",
    "    p.title,\n",
    "    p.parental_guidance,\n",
    "    COUNT(oi.product_id) AS quantity\n",
    "FROM\n",
    "    products p\n",
    "    LEFT JOIN orders_items oi ON p.id = oi.product_id\n",
    "WHERE\n",
    "    oi.product_id IS NULL\n",
    "GROUP BY\n",
    "    p.id,\n",
    "    oi.product_id\n",
    "ORDER BY\n",
    "    quantity DESC;"
   ]
  },
  {
   "cell_type": "markdown",
   "id": "7fff2f07-3bec-4309-a54d-42fbd5ed0219",
   "metadata": {
    "tags": []
   },
   "source": [
    "# Todos os produtos que uma pessoa já comprou"
   ]
  },
  {
   "cell_type": "code",
   "execution_count": 9,
   "id": "31822687-fbc2-46cc-bd09-46a7b17483ba",
   "metadata": {
    "tags": []
   },
   "outputs": [
    {
     "data": {
      "text/html": [
       "<span style=\"None\">Running query in &#x27;postgresql://postgres@localhost:5432/ecommerce&#x27;</span>"
      ],
      "text/plain": [
       "Running query in 'postgresql://postgres@localhost:5432/ecommerce'"
      ]
     },
     "metadata": {},
     "output_type": "display_data"
    },
    {
     "data": {
      "text/html": [
       "<span style=\"color: green\">12 rows affected.</span>"
      ],
      "text/plain": [
       "12 rows affected."
      ]
     },
     "metadata": {},
     "output_type": "display_data"
    },
    {
     "data": {
      "text/html": [
       "<table>\n",
       "    <thead>\n",
       "        <tr>\n",
       "            <th>user_id</th>\n",
       "            <th>first_name</th>\n",
       "            <th>birth_date</th>\n",
       "            <th>gender</th>\n",
       "            <th>product_id</th>\n",
       "            <th>title</th>\n",
       "            <th>parental_guidance</th>\n",
       "        </tr>\n",
       "    </thead>\n",
       "    <tbody>\n",
       "        <tr>\n",
       "            <td>00c703ce-8839-497a-ad9d-d050c930dfd6</td>\n",
       "            <td>Isabel</td>\n",
       "            <td>1966-07-03</td>\n",
       "            <td>F</td>\n",
       "            <td>74a87351-66ae-489a-86af-3e8ee030acce</td>\n",
       "            <td>摸鱼拼图/Easy Jigsaw Puzzle</td>\n",
       "            <td>10</td>\n",
       "        </tr>\n",
       "        <tr>\n",
       "            <td>00c703ce-8839-497a-ad9d-d050c930dfd6</td>\n",
       "            <td>Isabel</td>\n",
       "            <td>1966-07-03</td>\n",
       "            <td>F</td>\n",
       "            <td>ab7c45d3-b46b-4a70-ae7e-f0e792381c94</td>\n",
       "            <td>Project Third Eye</td>\n",
       "            <td>12</td>\n",
       "        </tr>\n",
       "        <tr>\n",
       "            <td>00c703ce-8839-497a-ad9d-d050c930dfd6</td>\n",
       "            <td>Isabel</td>\n",
       "            <td>1966-07-03</td>\n",
       "            <td>F</td>\n",
       "            <td>343f94a0-dd6d-4234-a77b-a10426dcd43a</td>\n",
       "            <td>Lord of the Click: Interstellar Wars</td>\n",
       "            <td>l</td>\n",
       "        </tr>\n",
       "        <tr>\n",
       "            <td>00c703ce-8839-497a-ad9d-d050c930dfd6</td>\n",
       "            <td>Isabel</td>\n",
       "            <td>1966-07-03</td>\n",
       "            <td>F</td>\n",
       "            <td>12fff420-b126-40cf-8d0a-53c2fc6b6182</td>\n",
       "            <td>Ezerath's Last Hope</td>\n",
       "            <td>l</td>\n",
       "        </tr>\n",
       "        <tr>\n",
       "            <td>00c703ce-8839-497a-ad9d-d050c930dfd6</td>\n",
       "            <td>Isabel</td>\n",
       "            <td>1966-07-03</td>\n",
       "            <td>F</td>\n",
       "            <td>5a560d06-c863-49e5-a42f-bd09346727a4</td>\n",
       "            <td>Neko Girls Puzzle</td>\n",
       "            <td>12</td>\n",
       "        </tr>\n",
       "        <tr>\n",
       "            <td>00c703ce-8839-497a-ad9d-d050c930dfd6</td>\n",
       "            <td>Isabel</td>\n",
       "            <td>1966-07-03</td>\n",
       "            <td>F</td>\n",
       "            <td>1006c54b-7c72-492f-b381-9608588c6885</td>\n",
       "            <td>Sweet Hut</td>\n",
       "            <td>18</td>\n",
       "        </tr>\n",
       "        <tr>\n",
       "            <td>00c703ce-8839-497a-ad9d-d050c930dfd6</td>\n",
       "            <td>Isabel</td>\n",
       "            <td>1966-07-03</td>\n",
       "            <td>F</td>\n",
       "            <td>dc4d0b29-6315-4dc9-85c5-aa4da358882a</td>\n",
       "            <td>Protect the Planet</td>\n",
       "            <td>l</td>\n",
       "        </tr>\n",
       "        <tr>\n",
       "            <td>00c703ce-8839-497a-ad9d-d050c930dfd6</td>\n",
       "            <td>Isabel</td>\n",
       "            <td>1966-07-03</td>\n",
       "            <td>F</td>\n",
       "            <td>53e1eb85-574b-431f-913b-944f8b995616</td>\n",
       "            <td>Weather Dominance</td>\n",
       "            <td>l</td>\n",
       "        </tr>\n",
       "        <tr>\n",
       "            <td>00c703ce-8839-497a-ad9d-d050c930dfd6</td>\n",
       "            <td>Isabel</td>\n",
       "            <td>1966-07-03</td>\n",
       "            <td>F</td>\n",
       "            <td>3a1f856b-44ae-414b-8aa2-f4a02afe1792</td>\n",
       "            <td>鬪伐</td>\n",
       "            <td>12</td>\n",
       "        </tr>\n",
       "        <tr>\n",
       "            <td>00c703ce-8839-497a-ad9d-d050c930dfd6</td>\n",
       "            <td>Isabel</td>\n",
       "            <td>1966-07-03</td>\n",
       "            <td>F</td>\n",
       "            <td>1a1057e6-ddf2-42ba-acf1-70a57978d466</td>\n",
       "            <td>Nolgorb's Ordeal</td>\n",
       "            <td>l</td>\n",
       "        </tr>\n",
       "    </tbody>\n",
       "</table>\n",
       "<span style=\"font-style:italic;text-align:center;\">Truncated to <a href=\"https://jupysql.ploomber.io/en/latest/api/configuration.html#displaylimit\">displaylimit</a> of 10.</span>"
      ],
      "text/plain": [
       "+--------------------------------------+------------+------------+--------+--------------------------------------+--------------------------------------+-------------------+\n",
       "|               user_id                | first_name | birth_date | gender |              product_id              |                title                 | parental_guidance |\n",
       "+--------------------------------------+------------+------------+--------+--------------------------------------+--------------------------------------+-------------------+\n",
       "| 00c703ce-8839-497a-ad9d-d050c930dfd6 |   Isabel   | 1966-07-03 |   F    | 74a87351-66ae-489a-86af-3e8ee030acce |     摸鱼拼图/Easy Jigsaw Puzzle      |         10        |\n",
       "| 00c703ce-8839-497a-ad9d-d050c930dfd6 |   Isabel   | 1966-07-03 |   F    | ab7c45d3-b46b-4a70-ae7e-f0e792381c94 |          Project Third Eye           |         12        |\n",
       "| 00c703ce-8839-497a-ad9d-d050c930dfd6 |   Isabel   | 1966-07-03 |   F    | 343f94a0-dd6d-4234-a77b-a10426dcd43a | Lord of the Click: Interstellar Wars |         l         |\n",
       "| 00c703ce-8839-497a-ad9d-d050c930dfd6 |   Isabel   | 1966-07-03 |   F    | 12fff420-b126-40cf-8d0a-53c2fc6b6182 |         Ezerath's Last Hope          |         l         |\n",
       "| 00c703ce-8839-497a-ad9d-d050c930dfd6 |   Isabel   | 1966-07-03 |   F    | 5a560d06-c863-49e5-a42f-bd09346727a4 |          Neko Girls Puzzle           |         12        |\n",
       "| 00c703ce-8839-497a-ad9d-d050c930dfd6 |   Isabel   | 1966-07-03 |   F    | 1006c54b-7c72-492f-b381-9608588c6885 |              Sweet Hut               |         18        |\n",
       "| 00c703ce-8839-497a-ad9d-d050c930dfd6 |   Isabel   | 1966-07-03 |   F    | dc4d0b29-6315-4dc9-85c5-aa4da358882a |          Protect the Planet          |         l         |\n",
       "| 00c703ce-8839-497a-ad9d-d050c930dfd6 |   Isabel   | 1966-07-03 |   F    | 53e1eb85-574b-431f-913b-944f8b995616 |          Weather Dominance           |         l         |\n",
       "| 00c703ce-8839-497a-ad9d-d050c930dfd6 |   Isabel   | 1966-07-03 |   F    | 3a1f856b-44ae-414b-8aa2-f4a02afe1792 |                 鬪伐                 |         12        |\n",
       "| 00c703ce-8839-497a-ad9d-d050c930dfd6 |   Isabel   | 1966-07-03 |   F    | 1a1057e6-ddf2-42ba-acf1-70a57978d466 |           Nolgorb's Ordeal           |         l         |\n",
       "+--------------------------------------+------------+------------+--------+--------------------------------------+--------------------------------------+-------------------+\n",
       "Truncated to displaylimit of 10."
      ]
     },
     "execution_count": 9,
     "metadata": {},
     "output_type": "execute_result"
    }
   ],
   "source": [
    "%%sql\n",
    "SELECT\n",
    "    u.id AS user_id,\n",
    "    u.first_name,\n",
    "    u.birth_date,\n",
    "    u.gender,\n",
    "    p.id AS product_id,\n",
    "    p.title,\n",
    "    p.parental_guidance\n",
    "FROM\n",
    "    users u\n",
    "    INNER JOIN orders o ON u.id = o.user_id\n",
    "    INNER JOIN orders_items oi ON o.id = oi.order_id\n",
    "    INNER JOIN products p ON oi.product_id = p.id\n",
    "WHERE\n",
    "    u.id = '00c703ce-8839-497a-ad9d-d050c930dfd6';"
   ]
  },
  {
   "cell_type": "markdown",
   "id": "ff21c94b-3caf-4fc6-aec3-09b79386f54a",
   "metadata": {
    "tags": []
   },
   "source": [
    "# Usuários que não compraram em um determinado período ou que nunca compraram"
   ]
  },
  {
   "cell_type": "code",
   "execution_count": 12,
   "id": "20244aec-6a48-4310-bebd-4b3d8d1f9d0b",
   "metadata": {
    "tags": []
   },
   "outputs": [
    {
     "data": {
      "text/html": [
       "<span style=\"None\">Running query in &#x27;postgresql://postgres@localhost:5432/ecommerce&#x27;</span>"
      ],
      "text/plain": [
       "Running query in 'postgresql://postgres@localhost:5432/ecommerce'"
      ]
     },
     "metadata": {},
     "output_type": "display_data"
    },
    {
     "data": {
      "text/html": [
       "<span style=\"color: green\">500 rows affected.</span>"
      ],
      "text/plain": [
       "500 rows affected."
      ]
     },
     "metadata": {},
     "output_type": "display_data"
    },
    {
     "data": {
      "text/html": [
       "<table>\n",
       "    <thead>\n",
       "        <tr>\n",
       "            <th>id</th>\n",
       "            <th>first_name</th>\n",
       "            <th>username</th>\n",
       "            <th>order_id</th>\n",
       "            <th>last_order_date</th>\n",
       "        </tr>\n",
       "    </thead>\n",
       "    <tbody>\n",
       "        <tr>\n",
       "            <td>e7b45a52-4271-4797-8141-6e6a431fddb1</td>\n",
       "            <td>Ana Vitória</td>\n",
       "            <td>hda-conceicao</td>\n",
       "            <td>f6bfe48c-6ff6-4de0-8344-387bfd8066a7</td>\n",
       "            <td>2024-09-19</td>\n",
       "        </tr>\n",
       "        <tr>\n",
       "            <td>6d60eda9-0a18-4c78-9c0b-03166da4a48d</td>\n",
       "            <td>Maria Luiza</td>\n",
       "            <td>brenda94</td>\n",
       "            <td>2a4b5303-389d-441f-aa37-120118a6f508</td>\n",
       "            <td>2024-09-19</td>\n",
       "        </tr>\n",
       "        <tr>\n",
       "            <td>5483cb1e-473f-4fc2-9e50-524e67a00f28</td>\n",
       "            <td>Gustavo</td>\n",
       "            <td>kcassiano</td>\n",
       "            <td>650180ea-83ab-4ec5-b1e8-6d7ad622acf7</td>\n",
       "            <td>2024-09-19</td>\n",
       "        </tr>\n",
       "        <tr>\n",
       "            <td>d39aecfa-645c-485d-bb3d-79f2470503ab</td>\n",
       "            <td>Fernanda</td>\n",
       "            <td>carolinefernandes</td>\n",
       "            <td>fd612ec2-1690-4904-b3c4-04aad2ef9272</td>\n",
       "            <td>2024-09-19</td>\n",
       "        </tr>\n",
       "        <tr>\n",
       "            <td>d7c5ea31-0f4c-4039-9589-0afa2baf0c6a</td>\n",
       "            <td>Carolina</td>\n",
       "            <td>heloisa51</td>\n",
       "            <td>cb0acbb2-e754-4b04-9563-eacb900ae0be</td>\n",
       "            <td>2024-09-19</td>\n",
       "        </tr>\n",
       "        <tr>\n",
       "            <td>0dac1044-0ba5-4aa1-aa19-03de18f433c6</td>\n",
       "            <td>Ana Beatriz</td>\n",
       "            <td>da-rochaemanuel</td>\n",
       "            <td>05e59c03-b8f5-434d-acb8-c8bc872d3b7b</td>\n",
       "            <td>2024-09-19</td>\n",
       "        </tr>\n",
       "        <tr>\n",
       "            <td>b77b1d5b-a0de-4d89-8cdd-e898c63e080f</td>\n",
       "            <td>Carlos Eduardo</td>\n",
       "            <td>theorezende</td>\n",
       "            <td>4be1fa37-a09d-47fa-a0d7-b30ee5a5d364</td>\n",
       "            <td>2024-09-19</td>\n",
       "        </tr>\n",
       "        <tr>\n",
       "            <td>25ae26f6-6f6d-4769-8d3b-a76d19593a06</td>\n",
       "            <td>Gustavo</td>\n",
       "            <td>costelamanuela</td>\n",
       "            <td>e6b73668-fedd-4155-ba44-5a26154678a2</td>\n",
       "            <td>2024-09-19</td>\n",
       "        </tr>\n",
       "        <tr>\n",
       "            <td>d671153f-3571-4ab2-a130-74e2eb403ec4</td>\n",
       "            <td>Lunna</td>\n",
       "            <td>camila84</td>\n",
       "            <td>1f58a6a2-3bd5-4a4c-833c-93e3a70923f9</td>\n",
       "            <td>2024-09-19</td>\n",
       "        </tr>\n",
       "        <tr>\n",
       "            <td>ec2022f0-3897-46a0-835b-8d580eca5085</td>\n",
       "            <td>Arthur</td>\n",
       "            <td>cavalcantiluiz-fernando</td>\n",
       "            <td>be61f53c-b62e-4d00-9359-5dc6208e58bb</td>\n",
       "            <td>2024-09-19</td>\n",
       "        </tr>\n",
       "    </tbody>\n",
       "</table>\n",
       "<span style=\"font-style:italic;text-align:center;\">Truncated to <a href=\"https://jupysql.ploomber.io/en/latest/api/configuration.html#displaylimit\">displaylimit</a> of 10.</span>"
      ],
      "text/plain": [
       "+--------------------------------------+----------------+-------------------------+--------------------------------------+-----------------+\n",
       "|                  id                  |   first_name   |         username        |               order_id               | last_order_date |\n",
       "+--------------------------------------+----------------+-------------------------+--------------------------------------+-----------------+\n",
       "| e7b45a52-4271-4797-8141-6e6a431fddb1 |  Ana Vitória   |      hda-conceicao      | f6bfe48c-6ff6-4de0-8344-387bfd8066a7 |    2024-09-19   |\n",
       "| 6d60eda9-0a18-4c78-9c0b-03166da4a48d |  Maria Luiza   |         brenda94        | 2a4b5303-389d-441f-aa37-120118a6f508 |    2024-09-19   |\n",
       "| 5483cb1e-473f-4fc2-9e50-524e67a00f28 |    Gustavo     |        kcassiano        | 650180ea-83ab-4ec5-b1e8-6d7ad622acf7 |    2024-09-19   |\n",
       "| d39aecfa-645c-485d-bb3d-79f2470503ab |    Fernanda    |    carolinefernandes    | fd612ec2-1690-4904-b3c4-04aad2ef9272 |    2024-09-19   |\n",
       "| d7c5ea31-0f4c-4039-9589-0afa2baf0c6a |    Carolina    |        heloisa51        | cb0acbb2-e754-4b04-9563-eacb900ae0be |    2024-09-19   |\n",
       "| 0dac1044-0ba5-4aa1-aa19-03de18f433c6 |  Ana Beatriz   |     da-rochaemanuel     | 05e59c03-b8f5-434d-acb8-c8bc872d3b7b |    2024-09-19   |\n",
       "| b77b1d5b-a0de-4d89-8cdd-e898c63e080f | Carlos Eduardo |       theorezende       | 4be1fa37-a09d-47fa-a0d7-b30ee5a5d364 |    2024-09-19   |\n",
       "| 25ae26f6-6f6d-4769-8d3b-a76d19593a06 |    Gustavo     |      costelamanuela     | e6b73668-fedd-4155-ba44-5a26154678a2 |    2024-09-19   |\n",
       "| d671153f-3571-4ab2-a130-74e2eb403ec4 |     Lunna      |         camila84        | 1f58a6a2-3bd5-4a4c-833c-93e3a70923f9 |    2024-09-19   |\n",
       "| ec2022f0-3897-46a0-835b-8d580eca5085 |     Arthur     | cavalcantiluiz-fernando | be61f53c-b62e-4d00-9359-5dc6208e58bb |    2024-09-19   |\n",
       "+--------------------------------------+----------------+-------------------------+--------------------------------------+-----------------+\n",
       "Truncated to displaylimit of 10."
      ]
     },
     "execution_count": 12,
     "metadata": {},
     "output_type": "execute_result"
    }
   ],
   "source": [
    "%%sql\n",
    "WITH last_user_order AS (\n",
    "    SELECT\n",
    "        DISTINCT(o.user_id) AS user_id,\n",
    "        o.id AS order_id,\n",
    "        MAX(o.created_at) AS last_order_date\n",
    "    FROM\n",
    "        orders o\n",
    "    GROUP BY\n",
    "        o.user_id,\n",
    "        o.id\n",
    ")\n",
    "SELECT\n",
    "    u.id,\n",
    "    u.first_name,\n",
    "    u.username,\n",
    "    luo.order_id,\n",
    "    luo.last_order_date\n",
    "FROM\n",
    "    users u\n",
    "    LEFT JOIN last_user_order luo ON u.id = luo.user_id\n",
    "WHERE\n",
    "    luo.last_order_date < (NOW() - INTERVAL '2 minutes') -- Neste examplo são 3 dias mas poderia ser um periodo maior!\n",
    "    OR luo.last_order_date IS NULL\n",
    "ORDER BY\n",
    "    luo.last_order_date;"
   ]
  },
  {
   "cell_type": "markdown",
   "id": "7309f84d-e8d5-4d5d-882b-bf4d370c5aea",
   "metadata": {
    "tags": []
   },
   "source": [
    "# Recomendações utilizando NEO4J"
   ]
  },
  {
   "cell_type": "code",
   "execution_count": 7,
   "id": "b7dbb294-e7a2-41d5-9a51-d19d1ede5546",
   "metadata": {
    "tags": []
   },
   "outputs": [
    {
     "name": "stdout",
     "output_type": "stream",
     "text": [
      "Loading extensions from ~/.ipython/extensions is deprecated. We recommend managing extensions like any other Python packages, in site-packages.\n"
     ]
    }
   ],
   "source": [
    "%reload_ext neo4j_cypher_query"
   ]
  },
  {
   "cell_type": "code",
   "execution_count": 8,
   "id": "d4448ab8-adcc-4ea9-a8d6-a81c322129a2",
   "metadata": {
    "tags": []
   },
   "outputs": [
    {
     "data": {
      "text/html": [
       "\n",
       "        <iframe\n",
       "            width=\"100%\"\n",
       "            height=\"400\"\n",
       "            src=\"resources/graphs/graph-bbc1d631-45d1-4a9e-bb93-6c566fcb6afc.html\"\n",
       "            frameborder=\"0\"\n",
       "            allowfullscreen\n",
       "        ></iframe>\n",
       "        "
      ],
      "text/plain": [
       "<IPython.lib.display.IFrame at 0x78feb6e0bd60>"
      ]
     },
     "metadata": {},
     "output_type": "display_data"
    }
   ],
   "source": [
    "%%cypher show full graph\n",
    "display "
   ]
  },
  {
   "cell_type": "markdown",
   "id": "14f4c13a-f652-404d-9aeb-964fbf3ba04b",
   "metadata": {
    "tags": []
   },
   "source": [
    "# Produtos populares que o usuário ainda não comprou"
   ]
  },
  {
   "cell_type": "code",
   "execution_count": 21,
   "id": "943afad3-cd34-454b-a4eb-5c9a6ac4fd1c",
   "metadata": {
    "tags": []
   },
   "outputs": [
    {
     "data": {
      "text/html": [
       "<div>\n",
       "<style scoped>\n",
       "    .dataframe tbody tr th:only-of-type {\n",
       "        vertical-align: middle;\n",
       "    }\n",
       "\n",
       "    .dataframe tbody tr th {\n",
       "        vertical-align: top;\n",
       "    }\n",
       "\n",
       "    .dataframe thead th {\n",
       "        text-align: right;\n",
       "    }\n",
       "</style>\n",
       "<table border=\"1\" class=\"dataframe\">\n",
       "  <thead>\n",
       "    <tr style=\"text-align: right;\">\n",
       "      <th></th>\n",
       "      <th>RecommendedProduct</th>\n",
       "      <th>Popularity</th>\n",
       "    </tr>\n",
       "  </thead>\n",
       "  <tbody>\n",
       "    <tr>\n",
       "      <th>0</th>\n",
       "      <td>subway</td>\n",
       "      <td>14</td>\n",
       "    </tr>\n",
       "    <tr>\n",
       "      <th>1</th>\n",
       "      <td>StreamAnimations</td>\n",
       "      <td>13</td>\n",
       "    </tr>\n",
       "    <tr>\n",
       "      <th>2</th>\n",
       "      <td>Tom Clancy’s Rainbow Six Extraction</td>\n",
       "      <td>11</td>\n",
       "    </tr>\n",
       "    <tr>\n",
       "      <th>3</th>\n",
       "      <td>RPG Maker MV - Winlu Spaceship Tileset</td>\n",
       "      <td>11</td>\n",
       "    </tr>\n",
       "    <tr>\n",
       "      <th>4</th>\n",
       "      <td>Multiplayer Turtles</td>\n",
       "      <td>10</td>\n",
       "    </tr>\n",
       "  </tbody>\n",
       "</table>\n",
       "</div>"
      ],
      "text/plain": [
       "                       RecommendedProduct  Popularity\n",
       "0                                  subway          14\n",
       "1                        StreamAnimations          13\n",
       "2     Tom Clancy’s Rainbow Six Extraction          11\n",
       "3  RPG Maker MV - Winlu Spaceship Tileset          11\n",
       "4                     Multiplayer Turtles          10"
      ]
     },
     "metadata": {},
     "output_type": "display_data"
    }
   ],
   "source": [
    "%%cypher\n",
    "MATCH (u:User {username: \"hda-conceicao\"})-[:PURCHASED]->(purchased:Product)               \n",
    "MATCH (p:Product)<-[:PURCHASED]-(:User)\n",
    "WHERE NOT p IN userProducts  // Filtra produtos que o usuário não comprou\n",
    "RETURN p.title AS RecommendedProduct, COUNT(*) AS Popularity\n",
    "ORDER BY Popularity DESC\n",
    "LIMIT 5"
   ]
  },
  {
   "cell_type": "markdown",
   "id": "1941883d-c500-47e5-9a86-6f132f3857ba",
   "metadata": {},
   "source": [
    "# Produtos comprados por usuários semelhantes"
   ]
  },
  {
   "cell_type": "code",
   "execution_count": 24,
   "id": "e9577f07-10a6-4bc6-967b-c87bf4ac97b9",
   "metadata": {
    "tags": []
   },
   "outputs": [
    {
     "data": {
      "text/html": [
       "\n",
       "        <iframe\n",
       "            width=\"100%\"\n",
       "            height=\"400\"\n",
       "            src=\"resources/graphs/graph-ada38d48-411d-4584-b11e-9a2ba6b94e3e.html\"\n",
       "            frameborder=\"0\"\n",
       "            allowfullscreen\n",
       "        ></iframe>\n",
       "        "
      ],
      "text/plain": [
       "<IPython.lib.display.IFrame at 0x70c0231031c0>"
      ]
     },
     "metadata": {},
     "output_type": "display_data"
    }
   ],
   "source": [
    "%%cypher\n",
    "MATCH (u:User {username: 'hda-conceicao'})-[:PURCHASED]->(p:Product)\n",
    "WITH u, COLLECT(p) AS userProducts\n",
    "MATCH (otherUser:User)-[:PURCHASED]->(p:Product)\n",
    "WHERE otherUser <> u AND p IN userProducts\n",
    "WITH otherUser, userProducts\n",
    "MATCH (otherUser)-[:PURCHASED]->(recommended:Product)    \n",
    "LIMIT 5"
   ]
  },
  {
   "cell_type": "markdown",
   "id": "a23b4798-e90b-49e7-baa5-b99c119c743c",
   "metadata": {},
   "source": [
    "# Recomendar produtos com base em classificação indicativa"
   ]
  },
  {
   "cell_type": "code",
   "execution_count": 32,
   "id": "228531e9-bb97-4bac-80e9-ad8030d293e8",
   "metadata": {
    "tags": []
   },
   "outputs": [
    {
     "data": {
      "text/html": [
       "\n",
       "        <iframe\n",
       "            width=\"100%\"\n",
       "            height=\"400\"\n",
       "            src=\"resources/graphs/graph-e22c2a54-3b1b-40d6-8a2f-afecf8f3c793.html\"\n",
       "            frameborder=\"0\"\n",
       "            allowfullscreen\n",
       "        ></iframe>\n",
       "        "
      ],
      "text/plain": [
       "<IPython.lib.display.IFrame at 0x70c028a96350>"
      ]
     },
     "metadata": {},
     "output_type": "display_data"
    }
   ],
   "source": [
    "%%cypher\n",
    "MATCH (u:User {username: 'hda-conceicao'})-[:PURCHASED]->(p:Product)\n",
    "WITH u, COLLECT(p.parental_guidance) AS userGuidance\n",
    "MATCH (p2:Product)\n",
    "WHERE p2.parental_guidance IN userGuidance AND NOT (u)-[:PURCHASED]->(p2)\n",
    "RETURN p2.title AS RecommendedProduct, p2.parental_guidance AS ParentalGuidance\n",
    "LIMIT 5"
   ]
  }
 ],
 "metadata": {
  "kernelspec": {
   "display_name": "Python 3",
   "language": "python",
   "name": "python3"
  },
  "language_info": {
   "codemirror_mode": {
    "name": "ipython",
    "version": 3
   },
   "file_extension": ".py",
   "mimetype": "text/x-python",
   "name": "python",
   "nbconvert_exporter": "python",
   "pygments_lexer": "ipython3",
   "version": "3.10.14"
  }
 },
 "nbformat": 4,
 "nbformat_minor": 5
}
